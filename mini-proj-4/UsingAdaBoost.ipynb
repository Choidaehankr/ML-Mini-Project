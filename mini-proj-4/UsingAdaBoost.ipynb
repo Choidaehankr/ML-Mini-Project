{
 "cells": [
  {
   "cell_type": "markdown",
   "id": "c44a6530",
   "metadata": {},
   "source": [
    "# Wine Quality Prediction -20171539 최대한"
   ]
  },
  {
   "cell_type": "markdown",
   "id": "5273c920",
   "metadata": {},
   "source": [
    "**pandas의 read_csv로 'winequality-red.csv'파일 읽기**"
   ]
  },
  {
   "cell_type": "code",
   "execution_count": 41,
   "id": "089f7d93",
   "metadata": {},
   "outputs": [],
   "source": [
    "import numpy as np\n",
    "import pandas as pd\n",
    "import matplotlib.pyplot as plt"
   ]
  },
  {
   "cell_type": "code",
   "execution_count": 42,
   "id": "6b6b404e",
   "metadata": {},
   "outputs": [
    {
     "name": "stdout",
     "output_type": "stream",
     "text": [
      "<class 'pandas.core.frame.DataFrame'>\n",
      "RangeIndex: 1599 entries, 0 to 1598\n",
      "Data columns (total 12 columns):\n",
      " #   Column                Non-Null Count  Dtype  \n",
      "---  ------                --------------  -----  \n",
      " 0   fixed acidity         1599 non-null   float64\n",
      " 1   volatile acidity      1599 non-null   float64\n",
      " 2   citric acid           1599 non-null   float64\n",
      " 3   residual sugar        1599 non-null   float64\n",
      " 4   chlorides             1599 non-null   float64\n",
      " 5   free sulfur dioxide   1599 non-null   float64\n",
      " 6   total sulfur dioxide  1599 non-null   float64\n",
      " 7   density               1599 non-null   float64\n",
      " 8   pH                    1599 non-null   float64\n",
      " 9   sulphates             1599 non-null   float64\n",
      " 10  alcohol               1599 non-null   float64\n",
      " 11  quality               1599 non-null   int64  \n",
      "dtypes: float64(11), int64(1)\n",
      "memory usage: 150.0 KB\n"
     ]
    }
   ],
   "source": [
    "wine = pd.read_csv(\"winequality-red.csv\")\n",
    "wine.info()"
   ]
  },
  {
   "cell_type": "code",
   "execution_count": 43,
   "id": "13164fbe",
   "metadata": {},
   "outputs": [
    {
     "data": {
      "text/html": [
       "<div>\n",
       "<style scoped>\n",
       "    .dataframe tbody tr th:only-of-type {\n",
       "        vertical-align: middle;\n",
       "    }\n",
       "\n",
       "    .dataframe tbody tr th {\n",
       "        vertical-align: top;\n",
       "    }\n",
       "\n",
       "    .dataframe thead th {\n",
       "        text-align: right;\n",
       "    }\n",
       "</style>\n",
       "<table border=\"1\" class=\"dataframe\">\n",
       "  <thead>\n",
       "    <tr style=\"text-align: right;\">\n",
       "      <th></th>\n",
       "      <th>fixed acidity</th>\n",
       "      <th>volatile acidity</th>\n",
       "      <th>citric acid</th>\n",
       "      <th>residual sugar</th>\n",
       "      <th>chlorides</th>\n",
       "      <th>free sulfur dioxide</th>\n",
       "      <th>total sulfur dioxide</th>\n",
       "      <th>density</th>\n",
       "      <th>pH</th>\n",
       "      <th>sulphates</th>\n",
       "      <th>alcohol</th>\n",
       "      <th>quality</th>\n",
       "    </tr>\n",
       "  </thead>\n",
       "  <tbody>\n",
       "    <tr>\n",
       "      <th>count</th>\n",
       "      <td>1599.000000</td>\n",
       "      <td>1599.000000</td>\n",
       "      <td>1599.000000</td>\n",
       "      <td>1599.000000</td>\n",
       "      <td>1599.000000</td>\n",
       "      <td>1599.000000</td>\n",
       "      <td>1599.000000</td>\n",
       "      <td>1599.000000</td>\n",
       "      <td>1599.000000</td>\n",
       "      <td>1599.000000</td>\n",
       "      <td>1599.000000</td>\n",
       "      <td>1599.000000</td>\n",
       "    </tr>\n",
       "    <tr>\n",
       "      <th>mean</th>\n",
       "      <td>8.319637</td>\n",
       "      <td>0.527821</td>\n",
       "      <td>0.270976</td>\n",
       "      <td>2.538806</td>\n",
       "      <td>0.087467</td>\n",
       "      <td>15.874922</td>\n",
       "      <td>46.467792</td>\n",
       "      <td>0.996747</td>\n",
       "      <td>3.311113</td>\n",
       "      <td>0.658149</td>\n",
       "      <td>10.422983</td>\n",
       "      <td>5.636023</td>\n",
       "    </tr>\n",
       "    <tr>\n",
       "      <th>std</th>\n",
       "      <td>1.741096</td>\n",
       "      <td>0.179060</td>\n",
       "      <td>0.194801</td>\n",
       "      <td>1.409928</td>\n",
       "      <td>0.047065</td>\n",
       "      <td>10.460157</td>\n",
       "      <td>32.895324</td>\n",
       "      <td>0.001887</td>\n",
       "      <td>0.154386</td>\n",
       "      <td>0.169507</td>\n",
       "      <td>1.065668</td>\n",
       "      <td>0.807569</td>\n",
       "    </tr>\n",
       "    <tr>\n",
       "      <th>min</th>\n",
       "      <td>4.600000</td>\n",
       "      <td>0.120000</td>\n",
       "      <td>0.000000</td>\n",
       "      <td>0.900000</td>\n",
       "      <td>0.012000</td>\n",
       "      <td>1.000000</td>\n",
       "      <td>6.000000</td>\n",
       "      <td>0.990070</td>\n",
       "      <td>2.740000</td>\n",
       "      <td>0.330000</td>\n",
       "      <td>8.400000</td>\n",
       "      <td>3.000000</td>\n",
       "    </tr>\n",
       "    <tr>\n",
       "      <th>25%</th>\n",
       "      <td>7.100000</td>\n",
       "      <td>0.390000</td>\n",
       "      <td>0.090000</td>\n",
       "      <td>1.900000</td>\n",
       "      <td>0.070000</td>\n",
       "      <td>7.000000</td>\n",
       "      <td>22.000000</td>\n",
       "      <td>0.995600</td>\n",
       "      <td>3.210000</td>\n",
       "      <td>0.550000</td>\n",
       "      <td>9.500000</td>\n",
       "      <td>5.000000</td>\n",
       "    </tr>\n",
       "    <tr>\n",
       "      <th>50%</th>\n",
       "      <td>7.900000</td>\n",
       "      <td>0.520000</td>\n",
       "      <td>0.260000</td>\n",
       "      <td>2.200000</td>\n",
       "      <td>0.079000</td>\n",
       "      <td>14.000000</td>\n",
       "      <td>38.000000</td>\n",
       "      <td>0.996750</td>\n",
       "      <td>3.310000</td>\n",
       "      <td>0.620000</td>\n",
       "      <td>10.200000</td>\n",
       "      <td>6.000000</td>\n",
       "    </tr>\n",
       "    <tr>\n",
       "      <th>75%</th>\n",
       "      <td>9.200000</td>\n",
       "      <td>0.640000</td>\n",
       "      <td>0.420000</td>\n",
       "      <td>2.600000</td>\n",
       "      <td>0.090000</td>\n",
       "      <td>21.000000</td>\n",
       "      <td>62.000000</td>\n",
       "      <td>0.997835</td>\n",
       "      <td>3.400000</td>\n",
       "      <td>0.730000</td>\n",
       "      <td>11.100000</td>\n",
       "      <td>6.000000</td>\n",
       "    </tr>\n",
       "    <tr>\n",
       "      <th>max</th>\n",
       "      <td>15.900000</td>\n",
       "      <td>1.580000</td>\n",
       "      <td>1.000000</td>\n",
       "      <td>15.500000</td>\n",
       "      <td>0.611000</td>\n",
       "      <td>72.000000</td>\n",
       "      <td>289.000000</td>\n",
       "      <td>1.003690</td>\n",
       "      <td>4.010000</td>\n",
       "      <td>2.000000</td>\n",
       "      <td>14.900000</td>\n",
       "      <td>8.000000</td>\n",
       "    </tr>\n",
       "  </tbody>\n",
       "</table>\n",
       "</div>"
      ],
      "text/plain": [
       "       fixed acidity  volatile acidity  citric acid  residual sugar  \\\n",
       "count    1599.000000       1599.000000  1599.000000     1599.000000   \n",
       "mean        8.319637          0.527821     0.270976        2.538806   \n",
       "std         1.741096          0.179060     0.194801        1.409928   \n",
       "min         4.600000          0.120000     0.000000        0.900000   \n",
       "25%         7.100000          0.390000     0.090000        1.900000   \n",
       "50%         7.900000          0.520000     0.260000        2.200000   \n",
       "75%         9.200000          0.640000     0.420000        2.600000   \n",
       "max        15.900000          1.580000     1.000000       15.500000   \n",
       "\n",
       "         chlorides  free sulfur dioxide  total sulfur dioxide      density  \\\n",
       "count  1599.000000          1599.000000           1599.000000  1599.000000   \n",
       "mean      0.087467            15.874922             46.467792     0.996747   \n",
       "std       0.047065            10.460157             32.895324     0.001887   \n",
       "min       0.012000             1.000000              6.000000     0.990070   \n",
       "25%       0.070000             7.000000             22.000000     0.995600   \n",
       "50%       0.079000            14.000000             38.000000     0.996750   \n",
       "75%       0.090000            21.000000             62.000000     0.997835   \n",
       "max       0.611000            72.000000            289.000000     1.003690   \n",
       "\n",
       "                pH    sulphates      alcohol      quality  \n",
       "count  1599.000000  1599.000000  1599.000000  1599.000000  \n",
       "mean      3.311113     0.658149    10.422983     5.636023  \n",
       "std       0.154386     0.169507     1.065668     0.807569  \n",
       "min       2.740000     0.330000     8.400000     3.000000  \n",
       "25%       3.210000     0.550000     9.500000     5.000000  \n",
       "50%       3.310000     0.620000    10.200000     6.000000  \n",
       "75%       3.400000     0.730000    11.100000     6.000000  \n",
       "max       4.010000     2.000000    14.900000     8.000000  "
      ]
     },
     "execution_count": 43,
     "metadata": {},
     "output_type": "execute_result"
    }
   ],
   "source": [
    "wine.describe()"
   ]
  },
  {
   "cell_type": "markdown",
   "id": "742b8776",
   "metadata": {},
   "source": [
    "## rename을 사용해서 특성 이름에 존재하는 공백을 ' _ '로 대체하기"
   ]
  },
  {
   "cell_type": "code",
   "execution_count": 45,
   "id": "6a29be41",
   "metadata": {},
   "outputs": [
    {
     "name": "stdout",
     "output_type": "stream",
     "text": [
      "<class 'pandas.core.frame.DataFrame'>\n",
      "RangeIndex: 1599 entries, 0 to 1598\n",
      "Data columns (total 12 columns):\n",
      " #   Column                Non-Null Count  Dtype  \n",
      "---  ------                --------------  -----  \n",
      " 0   fixed_acidity         1599 non-null   float64\n",
      " 1   volatile_acidity      1599 non-null   float64\n",
      " 2   citric_acid           1599 non-null   float64\n",
      " 3   residual_sugar        1599 non-null   float64\n",
      " 4   chlorides             1599 non-null   float64\n",
      " 5   free_sulfur_dioxide   1599 non-null   float64\n",
      " 6   total_sulfur_dioxide  1599 non-null   float64\n",
      " 7   density               1599 non-null   float64\n",
      " 8   pH                    1599 non-null   float64\n",
      " 9   sulphates             1599 non-null   float64\n",
      " 10  alcohol               1599 non-null   float64\n",
      " 11  quality               1599 non-null   int64  \n",
      "dtypes: float64(11), int64(1)\n",
      "memory usage: 150.0 KB\n"
     ]
    }
   ],
   "source": [
    "wine.rename(columns={'fixed acidity' : 'fixed_acidity', 'volatile acidity': 'volatile_acidity', \n",
    "                    'citric acid': 'citric_acid', 'residual sugar': 'residual_sugar', \n",
    "                    'free sulfur dioxide': 'free_sulfur_dioxide', 'total sulfur dioxide': 'total_sulfur_dioxide'}, inplace=True)\n",
    "wine.info()"
   ]
  },
  {
   "cell_type": "markdown",
   "id": "6c759648",
   "metadata": {},
   "source": [
    "<blockquote>특성 이름에 존재하는 공백이 '_' 로 대체된 것을 확인</blockquote>"
   ]
  },
  {
   "cell_type": "markdown",
   "id": "391b4227",
   "metadata": {},
   "source": [
    "# 새로운 특성 추가"
   ]
  },
  {
   "cell_type": "markdown",
   "id": "a38e22b1",
   "metadata": {},
   "source": [
    "**wine의 특성중 'sulphates'(황산염)에서 'chlorides'(염화물)를 뺀 값을 'sulph_sub_chlor'라는 새로운 특성으로 추가 **"
   ]
  },
  {
   "cell_type": "code",
   "execution_count": 70,
   "id": "182390db",
   "metadata": {},
   "outputs": [],
   "source": [
    "wine['sulph_sub_chlor']=wine['sulphates']-wine['chlorides']  # add new feature"
   ]
  },
  {
   "cell_type": "code",
   "execution_count": 48,
   "id": "0e4bd18b",
   "metadata": {},
   "outputs": [
    {
     "name": "stdout",
     "output_type": "stream",
     "text": [
      "<class 'pandas.core.frame.DataFrame'>\n",
      "RangeIndex: 1599 entries, 0 to 1598\n",
      "Data columns (total 13 columns):\n",
      " #   Column                Non-Null Count  Dtype  \n",
      "---  ------                --------------  -----  \n",
      " 0   fixed_acidity         1599 non-null   float64\n",
      " 1   volatile_acidity      1599 non-null   float64\n",
      " 2   citric_acid           1599 non-null   float64\n",
      " 3   residual_sugar        1599 non-null   float64\n",
      " 4   chlorides             1599 non-null   float64\n",
      " 5   free_sulfur_dioxide   1599 non-null   float64\n",
      " 6   total_sulfur_dioxide  1599 non-null   float64\n",
      " 7   density               1599 non-null   float64\n",
      " 8   pH                    1599 non-null   float64\n",
      " 9   sulphates             1599 non-null   float64\n",
      " 10  alcohol               1599 non-null   float64\n",
      " 11  quality               1599 non-null   int64  \n",
      " 12  sulph_sub_chlor       1599 non-null   float64\n",
      "dtypes: float64(12), int64(1)\n",
      "memory usage: 162.5 KB\n"
     ]
    }
   ],
   "source": [
    "wine.info()"
   ]
  },
  {
   "cell_type": "markdown",
   "id": "ce1fe968",
   "metadata": {},
   "source": [
    "<blockquote>12번째 새로운 특성 'sulph_sub_chlor가 생성됨을 확인'</blockquote>"
   ]
  },
  {
   "cell_type": "markdown",
   "id": "32add5bc",
   "metadata": {},
   "source": [
    "## 특성의 상관관계 확인"
   ]
  },
  {
   "cell_type": "code",
   "execution_count": 49,
   "id": "35c29859",
   "metadata": {},
   "outputs": [],
   "source": [
    "corr_matrix = wine.corr()"
   ]
  },
  {
   "cell_type": "code",
   "execution_count": 51,
   "id": "dc3a7db3",
   "metadata": {},
   "outputs": [
    {
     "data": {
      "text/plain": [
       "quality                 1.000000\n",
       "alcohol                 0.476166\n",
       "sulph_sub_chlor         0.307735\n",
       "sulphates               0.251397\n",
       "citric_acid             0.226373\n",
       "fixed_acidity           0.124052\n",
       "residual_sugar          0.013732\n",
       "free_sulfur_dioxide    -0.050656\n",
       "pH                     -0.057731\n",
       "chlorides              -0.128907\n",
       "density                -0.174919\n",
       "total_sulfur_dioxide   -0.185100\n",
       "volatile_acidity       -0.390558\n",
       "Name: quality, dtype: float64"
      ]
     },
     "execution_count": 51,
     "metadata": {},
     "output_type": "execute_result"
    }
   ],
   "source": [
    "corr_matrix['quality'].sort_values(ascending=False)"
   ]
  },
  {
   "cell_type": "markdown",
   "id": "b5eca51e",
   "metadata": {},
   "source": [
    "<blockquote>추가한 특성 'sulph_sub_chlor'이 꽤 높은 상관관계가 있음을 확인!</blockquote>"
   ]
  },
  {
   "cell_type": "markdown",
   "id": "33d80930",
   "metadata": {},
   "source": [
    "# wine 데이터의 행렬 섞기"
   ]
  },
  {
   "cell_type": "code",
   "execution_count": 52,
   "id": "5d6adb07",
   "metadata": {},
   "outputs": [],
   "source": [
    "matrix_shuffle = wine.iloc[np.random.permutation(wine.index)].reset_index(drop=True)"
   ]
  },
  {
   "cell_type": "markdown",
   "id": "729981ae",
   "metadata": {},
   "source": [
    "**y_shuffle에는 'quality'를 저장, X_shuffle엔 특성 'quality'와 'fixed_acidity'를 제외한 나머지를 저장**"
   ]
  },
  {
   "cell_type": "code",
   "execution_count": 53,
   "id": "9279460f",
   "metadata": {},
   "outputs": [],
   "source": [
    "y_shuffle = matrix_shuffle[\"quality\"]\n",
    "X_shuffle = matrix_shuffle.drop([\"quality\", \"fixed_acidity\"], axis=1)"
   ]
  },
  {
   "cell_type": "markdown",
   "id": "e92acb5f",
   "metadata": {},
   "source": [
    "### 최종 결과 확인 함수 display_score 선언"
   ]
  },
  {
   "cell_type": "code",
   "execution_count": 57,
   "id": "7818997a",
   "metadata": {},
   "outputs": [],
   "source": [
    "def display_score(scores):\n",
    "    print(\"Scores:\", scores)\n",
    "    print(\"Mean:\", scores.mean())\n",
    "    print(\"Standard deviation:\", scores.std())"
   ]
  },
  {
   "cell_type": "code",
   "execution_count": 58,
   "id": "69475f96",
   "metadata": {},
   "outputs": [],
   "source": [
    "from sklearn.model_selection import cross_val_predict\n",
    "from sklearn.model_selection import cross_val_score\n",
    "from sklearn.ensemble import RandomForestClassifier\n",
    "from sklearn.metrics import accuracy_score"
   ]
  },
  {
   "cell_type": "markdown",
   "id": "63bd7776",
   "metadata": {},
   "source": [
    "## AdaBoostRegressor 사용"
   ]
  },
  {
   "cell_type": "code",
   "execution_count": 100,
   "id": "1425881d",
   "metadata": {},
   "outputs": [
    {
     "name": "stdout",
     "output_type": "stream",
     "text": [
      "Scores: [0.61119811 0.5157646  0.5327341  0.50223376 0.54339327 0.55719891\n",
      " 0.57113921 0.67735192 0.5249994  0.56001628]\n",
      "Mean: 0.5596029578675488\n",
      "Standard deviation: 0.04905204832890824\n"
     ]
    }
   ],
   "source": [
    "from sklearn.ensemble import AdaBoostRegressor\n",
    "ada_reg = AdaBoostRegressor(\n",
    "    RandomForestRegressor(random_state=42), n_estimators=1000,\n",
    "    learning_rate = 0.01, random_state=42)\n",
    "ada_reg_score = cross_val_score(ada_reg, X_shuffle, y_shuffle, scoring = \"neg_mean_squared_error\", cv=10)\n",
    "ada_rmse_score = np.sqrt(-ada_reg_score)\n",
    "display_score(ada_rmse_score)"
   ]
  },
  {
   "cell_type": "markdown",
   "id": "7eee4ca9",
   "metadata": {},
   "source": [
    "# ExtraTreesRegressor 사용"
   ]
  },
  {
   "cell_type": "code",
   "execution_count": 62,
   "id": "7d91f3bf",
   "metadata": {},
   "outputs": [
    {
     "name": "stdout",
     "output_type": "stream",
     "text": [
      "Scores: [0.55840846 0.53176104 0.54741308 0.41560746 0.5910905  0.54487439\n",
      " 0.59438428 0.58771073 0.54533749 0.57369413]\n",
      "Mean: 0.5490281548729194\n",
      "Standard deviation: 0.049144561508386295\n"
     ]
    }
   ],
   "source": [
    "from sklearn.ensemble import ExtraTreesRegressor\n",
    "\n",
    "ext_reg = ExtraTreesRegressor(n_estimators=500, max_depth=30, random_state=42)\n",
    "ext_reg_score = cross_val_score(ext_reg, X_shuffle, y_shuffle, scoring=\"neg_mean_squared_error\", cv=10)\n",
    "ext_rmse_score = np.sqrt(-ext_reg_score)\n",
    "display_score(ext_rmse_score)"
   ]
  },
  {
   "cell_type": "markdown",
   "id": "a7a85396",
   "metadata": {},
   "source": [
    "# feature add 후 Ada Boost"
   ]
  },
  {
   "cell_type": "code",
   "execution_count": 69,
   "id": "e7567921",
   "metadata": {},
   "outputs": [
    {
     "name": "stdout",
     "output_type": "stream",
     "text": [
      "Scores: [0.56788588 0.54090318 0.56528311 0.41633895 0.60372127 0.55011703\n",
      " 0.59759623 0.5968909  0.56871841 0.57426628]\n",
      "Mean: 0.5581721252658628\n",
      "Standard deviation: 0.051110710001123494\n"
     ]
    }
   ],
   "source": [
    "from sklearn.ensemble import AdaBoostRegressor\n",
    "from sklearn.ensemble import RandomForestRegressor\n",
    "ada_reg = AdaBoostRegressor(\n",
    "    RandomForestRegressor(random_state=42), n_estimators=1000,\n",
    "    learning_rate = 0.01, random_state=42)\n",
    "ada_reg_score = cross_val_score(ada_reg, X_shuffle, y_shuffle, scoring = \"neg_mean_squared_error\", cv=10)\n",
    "ada_rmse_score = np.sqrt(-ada_reg_score)\n",
    "display_score(ada_rmse_score)"
   ]
  },
  {
   "cell_type": "code",
   "execution_count": null,
   "id": "3abfe7b4",
   "metadata": {},
   "outputs": [],
   "source": []
  }
 ],
 "metadata": {
  "kernelspec": {
   "display_name": "Python 3",
   "language": "python",
   "name": "python3"
  },
  "language_info": {
   "codemirror_mode": {
    "name": "ipython",
    "version": 3
   },
   "file_extension": ".py",
   "mimetype": "text/x-python",
   "name": "python",
   "nbconvert_exporter": "python",
   "pygments_lexer": "ipython3",
   "version": "3.8.8"
  }
 },
 "nbformat": 4,
 "nbformat_minor": 5
}
