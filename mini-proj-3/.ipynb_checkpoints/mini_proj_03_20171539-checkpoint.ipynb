{
 "cells": [
  {
   "cell_type": "markdown",
   "id": "be2fcaa1",
   "metadata": {},
   "source": [
    "# Housing Price Prediction -20171539 최대한"
   ]
  },
  {
   "cell_type": "markdown",
   "id": "b7341b91",
   "metadata": {},
   "source": [
    "**변수 df에 'kc_house_data.csv'를 읽기**"
   ]
  },
  {
   "cell_type": "code",
   "execution_count": 1,
   "id": "51b3ff4e",
   "metadata": {},
   "outputs": [
    {
     "name": "stdout",
     "output_type": "stream",
     "text": [
      "<class 'pandas.core.frame.DataFrame'>\n",
      "RangeIndex: 21613 entries, 0 to 21612\n",
      "Data columns (total 21 columns):\n",
      " #   Column         Non-Null Count  Dtype  \n",
      "---  ------         --------------  -----  \n",
      " 0   id             21613 non-null  int64  \n",
      " 1   date           21613 non-null  object \n",
      " 2   price          21613 non-null  float64\n",
      " 3   bedrooms       21613 non-null  int64  \n",
      " 4   bathrooms      21613 non-null  float64\n",
      " 5   sqft_living    21613 non-null  int64  \n",
      " 6   sqft_lot       21613 non-null  int64  \n",
      " 7   floors         21613 non-null  float64\n",
      " 8   waterfront     21613 non-null  int64  \n",
      " 9   view           21613 non-null  int64  \n",
      " 10  condition      21613 non-null  int64  \n",
      " 11  grade          21613 non-null  int64  \n",
      " 12  sqft_above     21613 non-null  int64  \n",
      " 13  sqft_basement  21613 non-null  int64  \n",
      " 14  yr_built       21613 non-null  int64  \n",
      " 15  yr_renovated   21613 non-null  int64  \n",
      " 16  zipcode        21613 non-null  int64  \n",
      " 17  lat            21613 non-null  float64\n",
      " 18  long           21613 non-null  float64\n",
      " 19  sqft_living15  21613 non-null  int64  \n",
      " 20  sqft_lot15     21613 non-null  int64  \n",
      "dtypes: float64(5), int64(15), object(1)\n",
      "memory usage: 3.5+ MB\n"
     ]
    }
   ],
   "source": [
    "import numpy as np\n",
    "import pandas as pd\n",
    "\n",
    "input_file = \"kc_house_data.csv\"\n",
    "df = pd.read_csv(input_file)\n",
    "df.info()"
   ]
  },
  {
   "cell_type": "markdown",
   "id": "5a286241",
   "metadata": {},
   "source": [
    "**최종 결과를 보여줄 display_scores 선언**"
   ]
  },
  {
   "cell_type": "code",
   "execution_count": 2,
   "id": "a896e1a3",
   "metadata": {},
   "outputs": [],
   "source": [
    "def display_scores(scores):\n",
    "    print(\"Scores:\", scores)\n",
    "    print(\"Mean:\", scores.mean())\n",
    "    print(\"Standard deviation:\", scores.std())"
   ]
  },
  {
   "cell_type": "markdown",
   "id": "335a4989",
   "metadata": {},
   "source": [
    "**특성 'price'와 나머지 특성들의 상관관계 조사**"
   ]
  },
  {
   "cell_type": "code",
   "execution_count": 3,
   "id": "0521191b",
   "metadata": {},
   "outputs": [
    {
     "data": {
      "text/plain": [
       "price            1.000000\n",
       "sqft_living      0.702035\n",
       "grade            0.667434\n",
       "sqft_above       0.605567\n",
       "sqft_living15    0.585379\n",
       "bathrooms        0.525138\n",
       "view             0.397293\n",
       "sqft_basement    0.323816\n",
       "bedrooms         0.308350\n",
       "lat              0.307003\n",
       "waterfront       0.266369\n",
       "floors           0.256794\n",
       "yr_renovated     0.126434\n",
       "sqft_lot         0.089661\n",
       "sqft_lot15       0.082447\n",
       "yr_built         0.054012\n",
       "condition        0.036362\n",
       "long             0.021626\n",
       "id              -0.016762\n",
       "zipcode         -0.053203\n",
       "Name: price, dtype: float64"
      ]
     },
     "execution_count": 3,
     "metadata": {},
     "output_type": "execute_result"
    }
   ],
   "source": [
    "corr_matrix = df.corr()\n",
    "corr_matrix[\"price\"].sort_values(ascending=False)"
   ]
  },
  {
   "cell_type": "markdown",
   "id": "92ed1478",
   "metadata": {},
   "source": [
    "**데이터 프레임 df에 있는 값들의 순서를 섞기 위한 matrix_shuffle 선언.**"
   ]
  },
  {
   "cell_type": "code",
   "execution_count": 4,
   "id": "fd085cc2",
   "metadata": {},
   "outputs": [],
   "source": [
    "matrix_shuffle = df.iloc[np.random.permutation(df.index)].reset_index(drop=True)"
   ]
  },
  {
   "cell_type": "markdown",
   "id": "b8a0e763",
   "metadata": {},
   "source": [
    "*y_shuffle엔 특성 'price'에 해당되는 값, X_shuffle엔 특성 중 'id', 'price', 'data'를 제외한 값들을 저장*"
   ]
  },
  {
   "cell_type": "code",
   "execution_count": 5,
   "id": "123f6831",
   "metadata": {},
   "outputs": [],
   "source": [
    "y_shuffle = matrix_shuffle[\"price\"]\n",
    "X_shuffle = matrix_shuffle.drop([\"id\", \"price\", \"date\"], axis=1)"
   ]
  },
  {
   "cell_type": "markdown",
   "id": "a07be3c2",
   "metadata": {},
   "source": [
    "*모델 훈련에 사용할 GradientBoostingRegressor와 cross_val_score 선언*"
   ]
  },
  {
   "cell_type": "code",
   "execution_count": 6,
   "id": "92a2e795",
   "metadata": {},
   "outputs": [],
   "source": [
    "from sklearn.ensemble import GradientBoostingRegressor\n",
    "from sklearn.model_selection import cross_val_score\n",
    "from sklearn.metrics import accuracy_score"
   ]
  },
  {
   "cell_type": "markdown",
   "id": "365e8a4e",
   "metadata": {},
   "source": [
    "# GradientBoostingRegressor 사용"
   ]
  },
  {
   "cell_type": "code",
   "execution_count": 8,
   "id": "5960a9c9",
   "metadata": {},
   "outputs": [
    {
     "name": "stdout",
     "output_type": "stream",
     "text": [
      "Scores: [109251.97142044 113194.25181429 109774.51787223 123734.23017424\n",
      " 115125.04742804 116667.79085706 127479.08717434 106044.52184925\n",
      "  98859.75795995  96030.07107482]\n",
      "Mean: 111616.12476246482\n",
      "Standard deviation: 9404.668353468287\n"
     ]
    }
   ],
   "source": [
    "gdb_reg = GradientBoostingRegressor(n_estimators=3000, learning_rate=0.05, max_depth=5, max_features='sqrt',\n",
    "                                          min_samples_leaf=15, min_samples_split=10, loss='huber')\n",
    "gdb_scores = cross_val_score(gdb_reg, X_shuffle, y_shuffle, scoring=\"neg_mean_squared_error\", cv=10)\n",
    "gdb_rmse_scores = np.sqrt(-gdb_scores)\n",
    "display_scores(gdb_rmse_scores)"
   ]
  },
  {
   "cell_type": "markdown",
   "id": "1f730b8e",
   "metadata": {},
   "source": [
    "* 하이퍼파라미터\n",
    "    * max_features: 최상의 분할을 찾을 때 고려해야 할 기능 수\n",
    "        * 'sqrt': max_features=sqrt(n_features)\n",
    "        \n",
    "    * loss: 최적화할 손실 기능\n",
    "        * 'huber': squared_error'(최소 제곱 회귀)와 'absolute_error'(최소 절대 편차)의 조합"
   ]
  },
  {
   "cell_type": "markdown",
   "id": "ee77f7aa",
   "metadata": {},
   "source": [
    "# 10-CV Result:\n",
    "## Mean: 111616.12476246482"
   ]
  },
  {
   "cell_type": "code",
   "execution_count": null,
   "id": "f696505b",
   "metadata": {},
   "outputs": [],
   "source": []
  }
 ],
 "metadata": {
  "kernelspec": {
   "display_name": "Python 3",
   "language": "python",
   "name": "python3"
  },
  "language_info": {
   "codemirror_mode": {
    "name": "ipython",
    "version": 3
   },
   "file_extension": ".py",
   "mimetype": "text/x-python",
   "name": "python",
   "nbconvert_exporter": "python",
   "pygments_lexer": "ipython3",
   "version": "3.8.8"
  }
 },
 "nbformat": 4,
 "nbformat_minor": 5
}
