{
 "cells": [
  {
   "cell_type": "markdown",
   "id": "9c987b8e",
   "metadata": {},
   "source": [
    "# Human Activity Recognition (HAR) -20171539 최대한"
   ]
  },
  {
   "cell_type": "markdown",
   "id": "a417053a",
   "metadata": {},
   "source": [
    "**pandas의 read_csv로 'train.csv' 파일을 df_train에 읽기**"
   ]
  },
  {
   "cell_type": "code",
   "execution_count": 217,
   "id": "c5ee2457",
   "metadata": {},
   "outputs": [],
   "source": [
    "import numpy as np\n",
    "import pandas as pd\n",
    "\n",
    "input_file = \"train.csv\"\n",
    "df_train = pd.read_csv(input_file)"
   ]
  },
  {
   "cell_type": "code",
   "execution_count": 218,
   "id": "de70925e",
   "metadata": {},
   "outputs": [
    {
     "name": "stdout",
     "output_type": "stream",
     "text": [
      "<class 'pandas.core.frame.DataFrame'>\n",
      "RangeIndex: 7352 entries, 0 to 7351\n",
      "Columns: 563 entries, tBodyAcc-mean()-X to Activity\n",
      "dtypes: float64(561), int64(1), object(1)\n",
      "memory usage: 31.6+ MB\n"
     ]
    }
   ],
   "source": [
    "df_train.info()"
   ]
  },
  {
   "cell_type": "code",
   "execution_count": 220,
   "id": "b12cd175",
   "metadata": {},
   "outputs": [
    {
     "data": {
      "text/plain": [
       "array([[0.28858451, -0.020294171, -0.13290514, ..., -0.058626924, 1,\n",
       "        'STANDING'],\n",
       "       [0.27841883, -0.016410568, -0.12352019, ..., -0.054316717, 1,\n",
       "        'STANDING'],\n",
       "       [0.27965306, -0.019467156, -0.11346169, ..., -0.049117815, 1,\n",
       "        'STANDING'],\n",
       "       ...,\n",
       "       [0.27338737, -0.017010616, -0.045021828, ..., 0.040811188, 30,\n",
       "        'WALKING_UPSTAIRS'],\n",
       "       [0.28965416, -0.018843044, -0.15828059, ..., 0.025339478, 30,\n",
       "        'WALKING_UPSTAIRS'],\n",
       "       [0.35150347, -0.012423118, -0.20386717, ..., 0.036694843, 30,\n",
       "        'WALKING_UPSTAIRS']], dtype=object)"
      ]
     },
     "execution_count": 220,
     "metadata": {},
     "output_type": "execute_result"
    }
   ],
   "source": [
    "data_train = df_train.to_numpy()\n",
    "data_train"
   ]
  },
  {
   "cell_type": "code",
   "execution_count": 221,
   "id": "6723da30",
   "metadata": {},
   "outputs": [
    {
     "data": {
      "text/plain": [
       "(7352, 563)"
      ]
     },
     "execution_count": 221,
     "metadata": {},
     "output_type": "execute_result"
    }
   ],
   "source": [
    "data_train.shape"
   ]
  },
  {
   "cell_type": "markdown",
   "id": "5ef0d44b",
   "metadata": {},
   "source": [
    "## data_train을 X_train과 y_train으로 나누기"
   ]
  },
  {
   "cell_type": "markdown",
   "id": "856cced9",
   "metadata": {},
   "source": [
    "**y_train에 6가지 상태(labels)를 저장**"
   ]
  },
  {
   "cell_type": "code",
   "execution_count": 299,
   "id": "808ec905",
   "metadata": {},
   "outputs": [],
   "source": [
    "y_train = data_train[:, -1]"
   ]
  },
  {
   "cell_type": "code",
   "execution_count": 301,
   "id": "803cc9fe",
   "metadata": {},
   "outputs": [
    {
     "data": {
      "text/plain": [
       "array(['STANDING', 'STANDING', 'STANDING', ..., 'WALKING_UPSTAIRS',\n",
       "       'WALKING_UPSTAIRS', 'WALKING_UPSTAIRS'], dtype=object)"
      ]
     },
     "execution_count": 301,
     "metadata": {},
     "output_type": "execute_result"
    }
   ],
   "source": [
    "y_train"
   ]
  },
  {
   "cell_type": "markdown",
   "id": "d7c0bff3",
   "metadata": {},
   "source": [
    "**X_train에 각 특성의 값들을 저장**"
   ]
  },
  {
   "cell_type": "code",
   "execution_count": 302,
   "id": "ee637ba7",
   "metadata": {},
   "outputs": [],
   "source": [
    "X_train = data_train[:, :-2]"
   ]
  },
  {
   "cell_type": "code",
   "execution_count": 296,
   "id": "925af89a",
   "metadata": {},
   "outputs": [
    {
     "data": {
      "text/plain": [
       "array([[0.28939527, -0.019337389, -0.053457032, ..., -0.81525768,\n",
       "        0.19830815, -0.06460045],\n",
       "       [0.27919461, -0.015663323, -0.10179189, ..., -0.5311951,\n",
       "        -0.11009805, -0.23601455],\n",
       "       [0.31754982, -0.01404776, -0.096280712, ..., -0.82728099,\n",
       "        0.2174813, 0.022021595],\n",
       "       ...,\n",
       "       [0.27044966, -0.022394246, -0.10015165, ..., -0.92637066,\n",
       "        0.13219739, 0.05811329],\n",
       "       [0.34307286, -0.027223321, -0.0515213, ..., -0.75196373,\n",
       "        0.24346466, 0.11144337],\n",
       "       [0.2777796, -0.014836893, -0.10866834, ..., -0.93199321,\n",
       "        0.10930343, 0.066903197]], dtype=object)"
      ]
     },
     "execution_count": 296,
     "metadata": {},
     "output_type": "execute_result"
    }
   ],
   "source": [
    "X_train"
   ]
  },
  {
   "cell_type": "markdown",
   "id": "0eaf58b9",
   "metadata": {},
   "source": [
    "# 순열을 사용한 X_train과 y_train 순서 섞기"
   ]
  },
  {
   "cell_type": "code",
   "execution_count": 319,
   "id": "08b797b6",
   "metadata": {},
   "outputs": [],
   "source": [
    "random_matrix = np.random.permutation(7352)\n",
    "X_train, y_train = X_train[random_matrix], y_train[random_matrix]"
   ]
  },
  {
   "cell_type": "markdown",
   "id": "60dc4e79",
   "metadata": {},
   "source": [
    "# GradientBoostingClassifier 사용"
   ]
  },
  {
   "cell_type": "code",
   "execution_count": 331,
   "id": "702eebfa",
   "metadata": {},
   "outputs": [
    {
     "data": {
      "text/plain": [
       "array([0.99048913, 0.99184783, 0.99183673, 0.98503401, 0.99183673,\n",
       "       0.9877551 , 0.98639456, 0.98503401, 0.99455782, 0.9877551 ])"
      ]
     },
     "execution_count": 331,
     "metadata": {},
     "output_type": "execute_result"
    }
   ],
   "source": [
    "from sklearn.ensemble import GradientBoostingClassifier\n",
    "gbrt = GradientBoostingClassifier(random_state=42)  \n",
    "gbrt.fit(X_train, y_train)\n",
    "cross_val_score(gbrt, X_train, y_train, cv=10, scoring=\"accuracy\")"
   ]
  },
  {
   "cell_type": "code",
   "execution_count": 332,
   "id": "b98645e3",
   "metadata": {},
   "outputs": [
    {
     "data": {
      "text/plain": [
       "0.989254102"
      ]
     },
     "execution_count": 332,
     "metadata": {},
     "output_type": "execute_result"
    }
   ],
   "source": [
    "np.mean([0.99048913, 0.99184783, 0.99183673, 0.98503401, 0.99183673,\n",
    "       0.9877551 , 0.98639456, 0.98503401, 0.99455782, 0.9877551 ])"
   ]
  },
  {
   "cell_type": "markdown",
   "id": "95ac563b",
   "metadata": {},
   "source": [
    "# 10-CV Result\n",
    "## Mean: 0.989254102"
   ]
  },
  {
   "cell_type": "markdown",
   "id": "ed6f9c1e",
   "metadata": {},
   "source": [
    "## GradientBoostingClassifier 오차행렬 결과"
   ]
  },
  {
   "cell_type": "code",
   "execution_count": 333,
   "id": "8d516f38",
   "metadata": {},
   "outputs": [
    {
     "data": {
      "text/plain": [
       "array([[1406,    0,    0,    0,    1,    0],\n",
       "       [   0, 1249,   36,    0,    0,    1],\n",
       "       [   0,   30, 1344,    0,    0,    0],\n",
       "       [   0,    0,    0, 1219,    3,    4],\n",
       "       [   0,    0,    0,    1,  983,    2],\n",
       "       [   0,    0,    0,    1,    0, 1072]], dtype=int64)"
      ]
     },
     "execution_count": 333,
     "metadata": {},
     "output_type": "execute_result"
    }
   ],
   "source": [
    "from sklearn.metrics import confusion_matrix\n",
    "y_train_pred = cross_val_predict(gbrt, X_train, y_train, cv=10)\n",
    "confusion_matrix(y_train, y_train_pred)"
   ]
  }
 ],
 "metadata": {
  "kernelspec": {
   "display_name": "Python 3",
   "language": "python",
   "name": "python3"
  },
  "language_info": {
   "codemirror_mode": {
    "name": "ipython",
    "version": 3
   },
   "file_extension": ".py",
   "mimetype": "text/x-python",
   "name": "python",
   "nbconvert_exporter": "python",
   "pygments_lexer": "ipython3",
   "version": "3.8.8"
  }
 },
 "nbformat": 4,
 "nbformat_minor": 5
}
