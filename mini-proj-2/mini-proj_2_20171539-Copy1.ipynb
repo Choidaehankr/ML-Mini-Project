{
 "cells": [
  {
   "cell_type": "code",
   "execution_count": 2,
   "id": "c5ee2457",
   "metadata": {},
   "outputs": [],
   "source": [
    "import numpy as np\n",
    "import pandas as pd\n",
    "\n",
    "input_file = \"train.csv\"\n",
    "# df_train = pd.read_csv(input_file, header = None)\n",
    "df_train = pd.read_csv(input_file)"
   ]
  },
  {
   "cell_type": "code",
   "execution_count": 3,
   "id": "de70925e",
   "metadata": {},
   "outputs": [
    {
     "name": "stdout",
     "output_type": "stream",
     "text": [
      "<class 'pandas.core.frame.DataFrame'>\n",
      "RangeIndex: 7352 entries, 0 to 7351\n",
      "Columns: 563 entries, tBodyAcc-mean()-X to Activity\n",
      "dtypes: float64(561), int64(1), object(1)\n",
      "memory usage: 31.6+ MB\n"
     ]
    }
   ],
   "source": [
    "df_train.info()"
   ]
  },
  {
   "cell_type": "code",
   "execution_count": 4,
   "id": "d3e4e1a6",
   "metadata": {},
   "outputs": [
    {
     "data": {
      "text/plain": [
       "pandas.core.frame.DataFrame"
      ]
     },
     "execution_count": 4,
     "metadata": {},
     "output_type": "execute_result"
    }
   ],
   "source": [
    "type(df_train)"
   ]
  },
  {
   "cell_type": "code",
   "execution_count": 3,
   "id": "b62a13e7",
   "metadata": {},
   "outputs": [
    {
     "data": {
      "text/plain": [
       "0               STANDING\n",
       "1               STANDING\n",
       "2               STANDING\n",
       "3               STANDING\n",
       "4               STANDING\n",
       "              ...       \n",
       "7347    WALKING_UPSTAIRS\n",
       "7348    WALKING_UPSTAIRS\n",
       "7349    WALKING_UPSTAIRS\n",
       "7350    WALKING_UPSTAIRS\n",
       "7351    WALKING_UPSTAIRS\n",
       "Name: Activity, Length: 7352, dtype: object"
      ]
     },
     "execution_count": 3,
     "metadata": {},
     "output_type": "execute_result"
    }
   ],
   "source": [
    "active_state = df_train[\"Activity\"]\n",
    "active_state"
   ]
  },
  {
   "cell_type": "code",
   "execution_count": null,
   "id": "dd43ee6d",
   "metadata": {},
   "outputs": [],
   "source": []
  },
  {
   "cell_type": "code",
   "execution_count": 4,
   "id": "b12cd175",
   "metadata": {},
   "outputs": [
    {
     "data": {
      "text/plain": [
       "array([[0.28858451, -0.020294171, -0.13290514, ..., -0.058626924, 1,\n",
       "        'STANDING'],\n",
       "       [0.27841883, -0.016410568, -0.12352019, ..., -0.054316717, 1,\n",
       "        'STANDING'],\n",
       "       [0.27965306, -0.019467156, -0.11346169, ..., -0.049117815, 1,\n",
       "        'STANDING'],\n",
       "       ...,\n",
       "       [0.27338737, -0.017010616, -0.045021828, ..., 0.040811188, 30,\n",
       "        'WALKING_UPSTAIRS'],\n",
       "       [0.28965416, -0.018843044, -0.15828059, ..., 0.025339478, 30,\n",
       "        'WALKING_UPSTAIRS'],\n",
       "       [0.35150347, -0.012423118, -0.20386717, ..., 0.036694843, 30,\n",
       "        'WALKING_UPSTAIRS']], dtype=object)"
      ]
     },
     "execution_count": 4,
     "metadata": {},
     "output_type": "execute_result"
    }
   ],
   "source": [
    "data_train = df_train.to_numpy()\n",
    "data_train"
   ]
  },
  {
   "cell_type": "code",
   "execution_count": 5,
   "id": "6723da30",
   "metadata": {},
   "outputs": [
    {
     "data": {
      "text/plain": [
       "(7352, 563)"
      ]
     },
     "execution_count": 5,
     "metadata": {},
     "output_type": "execute_result"
    }
   ],
   "source": [
    "data_train.shape"
   ]
  },
  {
   "cell_type": "markdown",
   "id": "4be98275",
   "metadata": {},
   "source": [
    "### data_train[0:, -1:]은 7351개 열. data_train[0:,-1]은 1개 열"
   ]
  },
  {
   "cell_type": "code",
   "execution_count": 6,
   "id": "808ec905",
   "metadata": {},
   "outputs": [],
   "source": [
    "y_train = data_train[:, -1]  # y_train: 라벨 값\n",
    "# data_train[:, -1] 수정 전"
   ]
  },
  {
   "cell_type": "code",
   "execution_count": 7,
   "id": "803cc9fe",
   "metadata": {},
   "outputs": [
    {
     "data": {
      "text/plain": [
       "array(['STANDING', 'STANDING', 'STANDING', ..., 'WALKING_UPSTAIRS',\n",
       "       'WALKING_UPSTAIRS', 'WALKING_UPSTAIRS'], dtype=object)"
      ]
     },
     "execution_count": 7,
     "metadata": {},
     "output_type": "execute_result"
    }
   ],
   "source": [
    "y_train"
   ]
  },
  {
   "cell_type": "code",
   "execution_count": 8,
   "id": "ee637ba7",
   "metadata": {},
   "outputs": [],
   "source": [
    "X_train = data_train[:, :-2]  # 각 특성의 값"
   ]
  },
  {
   "cell_type": "code",
   "execution_count": 9,
   "id": "925af89a",
   "metadata": {},
   "outputs": [
    {
     "data": {
      "text/plain": [
       "array([[0.28858451, -0.020294171, -0.13290514, ..., -0.84124676,\n",
       "        0.17994061, -0.058626924],\n",
       "       [0.27841883, -0.016410568, -0.12352019, ..., -0.8447876,\n",
       "        0.18028889, -0.054316717],\n",
       "       [0.27965306, -0.019467156, -0.11346169, ..., -0.84893347,\n",
       "        0.18063731, -0.049117815],\n",
       "       ...,\n",
       "       [0.27338737, -0.017010616, -0.045021828, ..., -0.77913261,\n",
       "        0.24914484, 0.040811188],\n",
       "       [0.28965416, -0.018843044, -0.15828059, ..., -0.78518142,\n",
       "        0.24643223, 0.025339478],\n",
       "       [0.35150347, -0.012423118, -0.20386717, ..., -0.78326693,\n",
       "        0.24680852, 0.036694843]], dtype=object)"
      ]
     },
     "execution_count": 9,
     "metadata": {},
     "output_type": "execute_result"
    }
   ],
   "source": [
    "X_train"
   ]
  },
  {
   "cell_type": "code",
   "execution_count": 227,
   "id": "c3dcb26f",
   "metadata": {},
   "outputs": [
    {
     "data": {
      "text/plain": [
       "(7352, 561)"
      ]
     },
     "execution_count": 227,
     "metadata": {},
     "output_type": "execute_result"
    }
   ],
   "source": [
    "X_train.shape"
   ]
  },
  {
   "cell_type": "markdown",
   "id": "5f211985",
   "metadata": {},
   "source": [
    "## 특성 이름 리스트"
   ]
  },
  {
   "cell_type": "markdown",
   "id": "834442f1",
   "metadata": {},
   "source": [
    "## X_train (7352, 561), y_train (7352, 1), feature_names (1, 561)"
   ]
  },
  {
   "cell_type": "code",
   "execution_count": 112,
   "id": "221ee64d",
   "metadata": {},
   "outputs": [
    {
     "data": {
      "text/plain": [
       "(1, 561)"
      ]
     },
     "execution_count": 112,
     "metadata": {},
     "output_type": "execute_result"
    }
   ],
   "source": [
    "feature_names = data_train[:1, :-2]  # 특성 이름 리스트, subject와 Activities는 제외\n",
    "feature_names.shape"
   ]
  },
  {
   "cell_type": "markdown",
   "id": "84e7f767",
   "metadata": {},
   "source": [
    "# Test Set"
   ]
  },
  {
   "cell_type": "code",
   "execution_count": 243,
   "id": "a44b8605",
   "metadata": {},
   "outputs": [
    {
     "data": {
      "text/plain": [
       "(2947, 563)"
      ]
     },
     "execution_count": 243,
     "metadata": {},
     "output_type": "execute_result"
    }
   ],
   "source": [
    "test_file = \"test.csv\"\n",
    "df_test = pd.read_csv(test_file)\n",
    "# data_test = df_test.to_numpy()\n",
    "# data_test\n",
    "data_test = df_test.to_numpy()\n",
    "data_test.shape"
   ]
  },
  {
   "cell_type": "code",
   "execution_count": 244,
   "id": "52799901",
   "metadata": {},
   "outputs": [
    {
     "data": {
      "text/plain": [
       "array([[0.25717778, -0.02328523, -0.014653762, ..., -0.057978304, 2,\n",
       "        'STANDING'],\n",
       "       [0.28602671, -0.013163359, -0.11908252, ..., -0.083898014, 2,\n",
       "        'STANDING'],\n",
       "       [0.27548482, -0.02605042, -0.11815167, ..., -0.079346197, 2,\n",
       "        'STANDING'],\n",
       "       ...,\n",
       "       [0.34996609, 0.030077442, -0.11578796, ..., 0.18118355, 24,\n",
       "        'WALKING_UPSTAIRS'],\n",
       "       [0.23759383, 0.01846687, -0.096498932, ..., 0.18756291, 24,\n",
       "        'WALKING_UPSTAIRS'],\n",
       "       [0.15362719, -0.018436506, -0.13701846, ..., 0.1881034, 24,\n",
       "        'WALKING_UPSTAIRS']], dtype=object)"
      ]
     },
     "execution_count": 244,
     "metadata": {},
     "output_type": "execute_result"
    }
   ],
   "source": [
    "data_test"
   ]
  },
  {
   "cell_type": "code",
   "execution_count": 245,
   "id": "3a2aad69",
   "metadata": {},
   "outputs": [
    {
     "data": {
      "text/plain": [
       "array([[0.25717778, -0.02328523, -0.014653762, ..., -0.72000927,\n",
       "        0.27680104, -0.057978304],\n",
       "       [0.28602671, -0.013163359, -0.11908252, ..., -0.69809082,\n",
       "        0.28134292, -0.083898014],\n",
       "       [0.27548482, -0.02605042, -0.11815167, ..., -0.70277146,\n",
       "        0.28008303, -0.079346197],\n",
       "       ...,\n",
       "       [0.34996609, 0.030077442, -0.11578796, ..., -0.65535684,\n",
       "        0.27447878, 0.18118355],\n",
       "       [0.23759383, 0.01846687, -0.096498932, ..., -0.65971859,\n",
       "        0.26478161, 0.18756291],\n",
       "       [0.15362719, -0.018436506, -0.13701846, ..., -0.66008023,\n",
       "        0.26393619, 0.1881034]], dtype=object)"
      ]
     },
     "execution_count": 245,
     "metadata": {},
     "output_type": "execute_result"
    }
   ],
   "source": [
    "# y_test = data_test[:, -1]\n",
    "# y_test\n",
    "X_test = data_test[:, :-2]\n",
    "X_test"
   ]
  },
  {
   "cell_type": "code",
   "execution_count": 247,
   "id": "2c9ebd55",
   "metadata": {},
   "outputs": [
    {
     "data": {
      "text/plain": [
       "array([['STANDING'],\n",
       "       ['STANDING'],\n",
       "       ['STANDING'],\n",
       "       ...,\n",
       "       ['WALKING_UPSTAIRS'],\n",
       "       ['WALKING_UPSTAIRS'],\n",
       "       ['WALKING_UPSTAIRS']], dtype=object)"
      ]
     },
     "execution_count": 247,
     "metadata": {},
     "output_type": "execute_result"
    }
   ],
   "source": [
    "y_test = data_test[:, -1:]\n",
    "y_test"
   ]
  },
  {
   "cell_type": "markdown",
   "id": "5ae40da9",
   "metadata": {},
   "source": [
    "# 훈련 시작"
   ]
  },
  {
   "cell_type": "markdown",
   "id": "57851608",
   "metadata": {},
   "source": [
    "## 결정 트리"
   ]
  },
  {
   "cell_type": "code",
   "execution_count": 114,
   "id": "e3e6d745",
   "metadata": {},
   "outputs": [],
   "source": [
    "from sklearn.tree import DecisionTreeClassifier\n",
    "\n",
    "tree_clf = DecisionTreeClassifier(max_depth=5, random_state=42)\n",
    "tree_clf.fit(X_train, y_train)\n",
    "y_test = data_test[1:, -1:]"
   ]
  },
  {
   "cell_type": "markdown",
   "id": "f60d011c",
   "metadata": {},
   "source": [
    "## 선형 회귀"
   ]
  },
  {
   "cell_type": "code",
   "execution_count": 91,
   "id": "75851210",
   "metadata": {},
   "outputs": [
    {
     "name": "stderr",
     "output_type": "stream",
     "text": [
      "C:\\ProgramData\\Anaconda3\\lib\\site-packages\\sklearn\\utils\\validation.py:63: DataConversionWarning: A column-vector y was passed when a 1d array was expected. Please change the shape of y to (n_samples, ), for example using ravel().\n",
      "  return f(*args, **kwargs)\n"
     ]
    },
    {
     "data": {
      "text/plain": [
       "LogisticRegression(random_state=42, solver='liblinear')"
      ]
     },
     "execution_count": 91,
     "metadata": {},
     "output_type": "execute_result"
    }
   ],
   "source": [
    "from sklearn.linear_model import LogisticRegression\n",
    "log_reg = LogisticRegression(solver=\"liblinear\", random_state=42)\n",
    "log_reg.fit(X_train, y_train)"
   ]
  },
  {
   "cell_type": "markdown",
   "id": "18e7ca63",
   "metadata": {},
   "source": [
    "## 앙상블"
   ]
  },
  {
   "cell_type": "code",
   "execution_count": 92,
   "id": "3d238b69",
   "metadata": {},
   "outputs": [
    {
     "name": "stderr",
     "output_type": "stream",
     "text": [
      "<ipython-input-92-a93ad58cdc6a>:3: DataConversionWarning: A column-vector y was passed when a 1d array was expected. Please change the shape of y to (n_samples,), for example using ravel().\n",
      "  rnd_clf.fit(X_train, y_train)\n"
     ]
    },
    {
     "data": {
      "text/plain": [
       "array(['STANDING', 'STANDING', 'STANDING', ..., 'WALKING_UPSTAIRS',\n",
       "       'WALKING_UPSTAIRS', 'WALKING'], dtype=object)"
      ]
     },
     "execution_count": 92,
     "metadata": {},
     "output_type": "execute_result"
    }
   ],
   "source": [
    "from sklearn.ensemble import RandomForestClassifier\n",
    "rnd_clf = RandomForestClassifier(n_estimators=500, max_leaf_nodes = 16, n_jobs = -1, random_state = 42)\n",
    "rnd_clf.fit(X_train, y_train)\n",
    "y_pred_rf = rnd_clf.predict(X_test)\n",
    "y_pred_rf"
   ]
  },
  {
   "cell_type": "code",
   "execution_count": 93,
   "id": "8a80227e",
   "metadata": {},
   "outputs": [
    {
     "data": {
      "text/plain": [
       "array(['STANDING', 'STANDING', 'STANDING', ..., 'WALKING_UPSTAIRS',\n",
       "       'WALKING_UPSTAIRS', 'WALKING_UPSTAIRS'], dtype=object)"
      ]
     },
     "execution_count": 93,
     "metadata": {},
     "output_type": "execute_result"
    }
   ],
   "source": [
    "# y_test 와 y_pred_rf 와 비교를 해야하는데\n",
    "# y_test.ravel()\n",
    "y_test = y_test.ravel()\n",
    "y_test"
   ]
  },
  {
   "cell_type": "code",
   "execution_count": 94,
   "id": "4ec36be7",
   "metadata": {},
   "outputs": [
    {
     "data": {
      "text/plain": [
       "(2947,)"
      ]
     },
     "execution_count": 94,
     "metadata": {},
     "output_type": "execute_result"
    }
   ],
   "source": [
    "y_pred_rf.shape"
   ]
  },
  {
   "cell_type": "code",
   "execution_count": 86,
   "id": "5812ab90",
   "metadata": {},
   "outputs": [
    {
     "data": {
      "text/plain": [
       "0.94069640914037"
      ]
     },
     "execution_count": 86,
     "metadata": {},
     "output_type": "execute_result"
    }
   ],
   "source": [
    "np.sum(y_pred_rf == y_test) / len(y_test)"
   ]
  },
  {
   "cell_type": "markdown",
   "id": "35a59033",
   "metadata": {},
   "source": [
    "## Data Setting"
   ]
  },
  {
   "cell_type": "code",
   "execution_count": 210,
   "id": "7cafdd48",
   "metadata": {},
   "outputs": [
    {
     "data": {
      "text/plain": [
       "array(['LAYING', 'LAYING', 'LAYING', ..., 'WALKING_UPSTAIRS',\n",
       "       'WALKING_UPSTAIRS', 'WALKING_UPSTAIRS'], dtype=object)"
      ]
     },
     "execution_count": 210,
     "metadata": {},
     "output_type": "execute_result"
    }
   ],
   "source": [
    "y_train.ravel()\n",
    "y_train"
   ]
  },
  {
   "cell_type": "markdown",
   "id": "eafd87c1",
   "metadata": {},
   "source": [
    "## 특성 중요도 확인... 의미있냐?"
   ]
  },
  {
   "cell_type": "code",
   "execution_count": 116,
   "id": "51c70c3c",
   "metadata": {},
   "outputs": [
    {
     "name": "stdout",
     "output_type": "stream",
     "text": [
      "tBodyAcc-mean()-X 0.0002116181367236854\n",
      "tBodyAcc-mean()-Y 0.00026652714713865084\n",
      "tBodyAcc-mean()-Z 0.00018164883281189992\n",
      "tBodyAcc-std()-X 0.003891625985172786\n",
      "tBodyAcc-std()-Y 0.000429236433781986\n",
      "tBodyAcc-std()-Z 0.0005709161299481478\n",
      "tBodyAcc-mad()-X 0.003167016749640834\n",
      "tBodyAcc-mad()-Y 0.0005269458719602301\n",
      "tBodyAcc-mad()-Z 0.00033923896496478934\n",
      "tBodyAcc-max()-X 0.007024376590806755\n",
      "tBodyAcc-max()-Y 0.0002863657189465549\n",
      "tBodyAcc-max()-Z 0.00021735456800469298\n",
      "tBodyAcc-min()-X 0.0004409407939287007\n",
      "tBodyAcc-min()-Y 0.00022705956673790392\n",
      "tBodyAcc-min()-Z 0.00021906863164008453\n",
      "tBodyAcc-sma() 0.0007590182900184861\n",
      "tBodyAcc-energy()-X 0.00511978423544547\n",
      "tBodyAcc-energy()-Y 0.0005655413738821454\n",
      "tBodyAcc-energy()-Z 0.0004296303266917228\n",
      "tBodyAcc-iqr()-X 0.0010929280062631859\n",
      "tBodyAcc-iqr()-Y 0.00048395244180100757\n",
      "tBodyAcc-iqr()-Z 0.00019584096438820666\n",
      "tBodyAcc-entropy()-X 0.0013498318070793128\n",
      "tBodyAcc-entropy()-Y 0.00024580290718435795\n",
      "tBodyAcc-entropy()-Z 0.0003048920516665027\n",
      "tBodyAcc-arCoeff()-X,1 0.0003169236098045351\n",
      "tBodyAcc-arCoeff()-X,2 0.00021407862459237061\n",
      "tBodyAcc-arCoeff()-X,3 0.0001816084021224711\n",
      "tBodyAcc-arCoeff()-X,4 0.00023559499743686714\n",
      "tBodyAcc-arCoeff()-Y,1 0.00024199845251433\n",
      "tBodyAcc-arCoeff()-Y,2 0.00017150962184239293\n",
      "tBodyAcc-arCoeff()-Y,3 0.00016874426985749298\n",
      "tBodyAcc-arCoeff()-Y,4 0.00023910383903765582\n",
      "tBodyAcc-arCoeff()-Z,1 0.00025926599106782064\n",
      "tBodyAcc-arCoeff()-Z,2 0.00016700254465416625\n",
      "tBodyAcc-arCoeff()-Z,3 0.0001953867867194979\n",
      "tBodyAcc-arCoeff()-Z,4 0.00025283432021815794\n",
      "tBodyAcc-correlation()-X,Y 0.0056178102162323254\n",
      "tBodyAcc-correlation()-X,Z 0.0011895843232242282\n",
      "tBodyAcc-correlation()-Y,Z 0.0029162553881115177\n",
      "tGravityAcc-mean()-X 0.03191646425636396\n",
      "tGravityAcc-mean()-Y 0.027619027418676764\n",
      "tGravityAcc-mean()-Z 0.009062758983818598\n",
      "tGravityAcc-std()-X 0.002449519338260713\n",
      "tGravityAcc-std()-Y 0.0006239575458667435\n",
      "tGravityAcc-std()-Z 0.000390964672356682\n",
      "tGravityAcc-mad()-X 0.0010612486920317718\n",
      "tGravityAcc-mad()-Y 0.0008170274867918611\n",
      "tGravityAcc-mad()-Z 0.00025490166411240854\n",
      "tGravityAcc-max()-X 0.02341361680182947\n",
      "tGravityAcc-max()-Y 0.02468428544436485\n",
      "tGravityAcc-max()-Z 0.008944076844869798\n",
      "tGravityAcc-min()-X 0.03295574359144732\n",
      "tGravityAcc-min()-Y 0.02339897976119482\n",
      "tGravityAcc-min()-Z 0.010451390077398074\n",
      "tGravityAcc-sma() 0.003488870148645966\n",
      "tGravityAcc-energy()-X 0.024597253647712834\n",
      "tGravityAcc-energy()-Y 0.01579407636810581\n",
      "tGravityAcc-energy()-Z 0.00772104784690202\n",
      "tGravityAcc-iqr()-X 0.0009457207107045028\n",
      "tGravityAcc-iqr()-Y 0.0005047359193273722\n",
      "tGravityAcc-iqr()-Z 0.00037185512327558867\n",
      "tGravityAcc-entropy()-X 0.002522421845116104\n",
      "tGravityAcc-entropy()-Y 0.0071429976980921924\n",
      "tGravityAcc-entropy()-Z 0.0004441776178326588\n",
      "tGravityAcc-arCoeff()-X,1 0.005391276892514073\n",
      "tGravityAcc-arCoeff()-X,2 0.005578959924862464\n",
      "tGravityAcc-arCoeff()-X,3 0.0033989474060597664\n",
      "tGravityAcc-arCoeff()-X,4 0.0024648186724497353\n",
      "tGravityAcc-arCoeff()-Y,1 0.005780260387827523\n",
      "tGravityAcc-arCoeff()-Y,2 0.007008380903367096\n",
      "tGravityAcc-arCoeff()-Y,3 0.005465673376024085\n",
      "tGravityAcc-arCoeff()-Y,4 0.003231750390608002\n",
      "tGravityAcc-arCoeff()-Z,1 0.008991950259645567\n",
      "tGravityAcc-arCoeff()-Z,2 0.010552723257815968\n",
      "tGravityAcc-arCoeff()-Z,3 0.009242324765397342\n",
      "tGravityAcc-arCoeff()-Z,4 0.005377801337831319\n",
      "tGravityAcc-correlation()-X,Y 0.002527476541183191\n",
      "tGravityAcc-correlation()-X,Z 0.0006154657061466504\n",
      "tGravityAcc-correlation()-Y,Z 0.0011034089284577085\n",
      "tBodyAccJerk-mean()-X 0.0001509112891551119\n",
      "tBodyAccJerk-mean()-Y 0.00012454734972521192\n",
      "tBodyAccJerk-mean()-Z 0.0001418337135528662\n",
      "tBodyAccJerk-std()-X 0.006978721897606717\n",
      "tBodyAccJerk-std()-Y 0.0018043496937983888\n",
      "tBodyAccJerk-std()-Z 0.0005149638963126765\n",
      "tBodyAccJerk-mad()-X 0.006165527892197638\n",
      "tBodyAccJerk-mad()-Y 0.0037979192107585073\n",
      "tBodyAccJerk-mad()-Z 0.0023590899806360025\n",
      "tBodyAccJerk-max()-X 0.0031919535041929105\n",
      "tBodyAccJerk-max()-Y 0.0003808039424647097\n",
      "tBodyAccJerk-max()-Z 0.000619838014512131\n",
      "tBodyAccJerk-min()-X 0.0003008839887173923\n",
      "tBodyAccJerk-min()-Y 0.0006814872551375121\n",
      "tBodyAccJerk-min()-Z 0.00031311195953487764\n",
      "tBodyAccJerk-sma() 0.004361753601757366\n",
      "tBodyAccJerk-energy()-X 0.007335444480390929\n",
      "tBodyAccJerk-energy()-Y 0.001548768050333346\n",
      "tBodyAccJerk-energy()-Z 0.00043214709990336463\n",
      "tBodyAccJerk-iqr()-X 0.006352668670967035\n",
      "tBodyAccJerk-iqr()-Y 0.003925471239014112\n",
      "tBodyAccJerk-iqr()-Z 0.0011326471881852138\n",
      "tBodyAccJerk-entropy()-X 0.005464838710103495\n",
      "tBodyAccJerk-entropy()-Y 0.002617010354286157\n",
      "tBodyAccJerk-entropy()-Z 0.0010283792241860927\n",
      "tBodyAccJerk-arCoeff()-X,1 0.00025027047165680186\n",
      "tBodyAccJerk-arCoeff()-X,2 0.00013980371696932118\n",
      "tBodyAccJerk-arCoeff()-X,3 0.0002140269209047761\n",
      "tBodyAccJerk-arCoeff()-X,4 0.00023136409538076764\n",
      "tBodyAccJerk-arCoeff()-Y,1 0.00015967671955937284\n",
      "tBodyAccJerk-arCoeff()-Y,2 0.00015538780352812603\n",
      "tBodyAccJerk-arCoeff()-Y,3 0.00015901328332740982\n",
      "tBodyAccJerk-arCoeff()-Y,4 0.0002571638217044465\n",
      "tBodyAccJerk-arCoeff()-Z,1 0.00024339552053123642\n",
      "tBodyAccJerk-arCoeff()-Z,2 0.00018663948714049908\n",
      "tBodyAccJerk-arCoeff()-Z,3 0.0002272166549658602\n",
      "tBodyAccJerk-arCoeff()-Z,4 0.0002741737888578061\n",
      "tBodyAccJerk-correlation()-X,Y 0.0010528248783854277\n",
      "tBodyAccJerk-correlation()-X,Z 0.00036979305087776455\n",
      "tBodyAccJerk-correlation()-Y,Z 0.00039273285083617356\n",
      "tBodyGyro-mean()-X 0.0008144690376680925\n",
      "tBodyGyro-mean()-Y 0.0003784890413217525\n",
      "tBodyGyro-mean()-Z 0.0005470187317724726\n",
      "tBodyGyro-std()-X 0.002397876957858415\n",
      "tBodyGyro-std()-Y 0.0006274332366863355\n",
      "tBodyGyro-std()-Z 0.0005922905551293062\n",
      "tBodyGyro-mad()-X 0.0025360830514182813\n",
      "tBodyGyro-mad()-Y 0.0017543303323438251\n",
      "tBodyGyro-mad()-Z 0.0007148853101190737\n",
      "tBodyGyro-max()-X 0.0027269140902405962\n",
      "tBodyGyro-max()-Y 0.0003920901595695307\n",
      "tBodyGyro-max()-Z 0.00038183784314414385\n",
      "tBodyGyro-min()-X 0.0017545220377534006\n",
      "tBodyGyro-min()-Y 0.0002493793691190765\n",
      "tBodyGyro-min()-Z 0.0005566333307646629\n",
      "tBodyGyro-sma() 0.00038788229768741577\n",
      "tBodyGyro-energy()-X 0.0018734008263756594\n",
      "tBodyGyro-energy()-Y 0.0005734169744437899\n",
      "tBodyGyro-energy()-Z 0.0007101181545241429\n",
      "tBodyGyro-iqr()-X 0.0026230193670944727\n",
      "tBodyGyro-iqr()-Y 0.0024748844714632162\n",
      "tBodyGyro-iqr()-Z 0.0009087713384295785\n",
      "tBodyGyro-entropy()-X 0.0022889585161205333\n",
      "tBodyGyro-entropy()-Y 0.0003176833692525597\n",
      "tBodyGyro-entropy()-Z 0.00047314316835393537\n",
      "tBodyGyro-arCoeff()-X,1 0.0008925937720623859\n",
      "tBodyGyro-arCoeff()-X,2 0.00014216556022400985\n",
      "tBodyGyro-arCoeff()-X,3 0.00017191386585332376\n",
      "tBodyGyro-arCoeff()-X,4 0.0003013801286687826\n",
      "tBodyGyro-arCoeff()-Y,1 0.0005261585718412695\n",
      "tBodyGyro-arCoeff()-Y,2 0.0002870100305188117\n",
      "tBodyGyro-arCoeff()-Y,3 0.00018085718009514022\n",
      "tBodyGyro-arCoeff()-Y,4 0.00031133074476523274\n",
      "tBodyGyro-arCoeff()-Z,1 0.00023278547314598482\n",
      "tBodyGyro-arCoeff()-Z,2 0.00016446936004141873\n",
      "tBodyGyro-arCoeff()-Z,3 0.00019768987735206881\n",
      "tBodyGyro-arCoeff()-Z,4 0.0004210018762171556\n",
      "tBodyGyro-correlation()-X,Y 0.0010069201502815892\n",
      "tBodyGyro-correlation()-X,Z 0.000779816823332044\n",
      "tBodyGyro-correlation()-Y,Z 0.0017214448453675855\n",
      "tBodyGyroJerk-mean()-X 0.0002523966005404326\n",
      "tBodyGyroJerk-mean()-Y 0.00013657166615207677\n",
      "tBodyGyroJerk-mean()-Z 0.0003213992681700956\n",
      "tBodyGyroJerk-std()-X 0.0017385749972255475\n",
      "tBodyGyroJerk-std()-Y 0.0003663475464421628\n",
      "tBodyGyroJerk-std()-Z 0.00041872226245871606\n",
      "tBodyGyroJerk-mad()-X 0.002225125492229742\n",
      "tBodyGyroJerk-mad()-Y 0.00037034146985450735\n",
      "tBodyGyroJerk-mad()-Z 0.002971267344547421\n",
      "tBodyGyroJerk-max()-X 0.0008514785107768317\n",
      "tBodyGyroJerk-max()-Y 0.00026740553094226294\n",
      "tBodyGyroJerk-max()-Z 0.00033207262635293153\n",
      "tBodyGyroJerk-min()-X 0.0011040274473360443\n",
      "tBodyGyroJerk-min()-Y 0.000410596280496477\n",
      "tBodyGyroJerk-min()-Z 0.00022074838047592677\n",
      "tBodyGyroJerk-sma() 0.0031288121105345137\n",
      "tBodyGyroJerk-energy()-X 0.0018288336027706617\n",
      "tBodyGyroJerk-energy()-Y 0.0004182461546861341\n",
      "tBodyGyroJerk-energy()-Z 0.0008481276729238625\n",
      "tBodyGyroJerk-iqr()-X 0.0028959128874571248\n",
      "tBodyGyroJerk-iqr()-Y 0.0006651732139630654\n",
      "tBodyGyroJerk-iqr()-Z 0.006283048114246788\n",
      "tBodyGyroJerk-entropy()-X 0.0010718116035638942\n",
      "tBodyGyroJerk-entropy()-Y 0.00027609485855777674\n",
      "tBodyGyroJerk-entropy()-Z 0.0020251458589479656\n",
      "tBodyGyroJerk-arCoeff()-X,1 0.0011268989237407908\n",
      "tBodyGyroJerk-arCoeff()-X,2 0.0003156364039913449\n",
      "tBodyGyroJerk-arCoeff()-X,3 0.0006409071168596473\n",
      "tBodyGyroJerk-arCoeff()-X,4 0.0002120624096773758\n",
      "tBodyGyroJerk-arCoeff()-Y,1 0.00031273468220789023\n",
      "tBodyGyroJerk-arCoeff()-Y,2 0.00017338463196538774\n",
      "tBodyGyroJerk-arCoeff()-Y,3 0.0001426071248401287\n",
      "tBodyGyroJerk-arCoeff()-Y,4 0.0002642452353221448\n",
      "tBodyGyroJerk-arCoeff()-Z,1 0.00017534216671812524\n",
      "tBodyGyroJerk-arCoeff()-Z,2 0.00022511868168649527\n",
      "tBodyGyroJerk-arCoeff()-Z,3 0.00020367195229805372\n",
      "tBodyGyroJerk-arCoeff()-Z,4 0.00033353188273547486\n",
      "tBodyGyroJerk-correlation()-X,Y 0.0007891959481307498\n",
      "tBodyGyroJerk-correlation()-X,Z 0.0005455465981206876\n",
      "tBodyGyroJerk-correlation()-Y,Z 0.0005757894503885478\n",
      "tBodyAccMag-mean() 0.0007735979948442893\n",
      "tBodyAccMag-std() 0.008298881693559237\n",
      "tBodyAccMag-mad() 0.005288078012926074\n",
      "tBodyAccMag-max() 0.0025880384156727917\n",
      "tBodyAccMag-min() 0.00015762160836622628\n",
      "tBodyAccMag-sma() 0.0006339530798178774\n",
      "tBodyAccMag-energy() 0.002206981526404929\n",
      "tBodyAccMag-iqr() 0.0009738036907665223\n",
      "tBodyAccMag-entropy() 0.00035865204702591376\n",
      "tBodyAccMag-arCoeff()1 0.0041481690516596125\n",
      "tBodyAccMag-arCoeff()2 0.001946922757014847\n",
      "tBodyAccMag-arCoeff()3 0.0002090960435699529\n",
      "tBodyAccMag-arCoeff()4 0.0001683678603843962\n",
      "tGravityAccMag-mean() 0.0006913590224886266\n",
      "tGravityAccMag-std() 0.010423702343169803\n",
      "tGravityAccMag-mad() 0.006213044675293215\n",
      "tGravityAccMag-max() 0.002427773042516704\n",
      "tGravityAccMag-min() 0.00015533673624071843\n",
      "tGravityAccMag-sma() 0.001063648407998087\n",
      "tGravityAccMag-energy() 0.001189106571648742\n",
      "tGravityAccMag-iqr() 0.00068535281415622\n",
      "tGravityAccMag-entropy() 0.0002286457209273244\n",
      "tGravityAccMag-arCoeff()1 0.005543696396074478\n",
      "tGravityAccMag-arCoeff()2 0.001729262691833608\n",
      "tGravityAccMag-arCoeff()3 0.0001804067882278329\n",
      "tGravityAccMag-arCoeff()4 0.00016208838363150938\n",
      "tBodyAccJerkMag-mean() 0.004436823494976591\n",
      "tBodyAccJerkMag-std() 0.0009541895111290574\n",
      "tBodyAccJerkMag-mad() 0.0028549399102782186\n",
      "tBodyAccJerkMag-max() 0.00016822802253609886\n",
      "tBodyAccJerkMag-min() 0.00014589215762600218\n",
      "tBodyAccJerkMag-sma() 0.006017012109345659\n",
      "tBodyAccJerkMag-energy() 0.004916480853574304\n",
      "tBodyAccJerkMag-iqr() 0.003670495022104842\n",
      "tBodyAccJerkMag-entropy() 0.0036072812547292884\n",
      "tBodyAccJerkMag-arCoeff()1 0.0001738670022746859\n",
      "tBodyAccJerkMag-arCoeff()2 0.00024188427196259103\n",
      "tBodyAccJerkMag-arCoeff()3 0.0001704649961187463\n",
      "tBodyAccJerkMag-arCoeff()4 0.00020312226637470194\n",
      "tBodyGyroMag-mean() 0.0004284658515489599\n",
      "tBodyGyroMag-std() 0.0002665738769552997\n",
      "tBodyGyroMag-mad() 0.00023242478250827626\n",
      "tBodyGyroMag-max() 0.0001890352827400152\n",
      "tBodyGyroMag-min() 0.0002921356594522919\n",
      "tBodyGyroMag-sma() 0.0011657533297062875\n",
      "tBodyGyroMag-energy() 0.0002600590111138946\n",
      "tBodyGyroMag-iqr() 0.0002681809767714049\n",
      "tBodyGyroMag-entropy() 0.0003314245867162764\n",
      "tBodyGyroMag-arCoeff()1 0.00036531570078012285\n",
      "tBodyGyroMag-arCoeff()2 0.0002480823523712578\n",
      "tBodyGyroMag-arCoeff()3 0.00020398807453717968\n",
      "tBodyGyroMag-arCoeff()4 0.0001767346185917658\n",
      "tBodyGyroJerkMag-mean() 0.0027780206641352684\n",
      "tBodyGyroJerkMag-std() 0.00032585942948889005\n",
      "tBodyGyroJerkMag-mad() 0.00037789812707387827\n",
      "tBodyGyroJerkMag-max() 0.0001488691305215941\n",
      "tBodyGyroJerkMag-min() 0.00015276985545582572\n",
      "tBodyGyroJerkMag-sma() 0.00039371661962507354\n",
      "tBodyGyroJerkMag-energy() 0.0003618976420419736\n",
      "tBodyGyroJerkMag-iqr() 0.0003388395484963398\n",
      "tBodyGyroJerkMag-entropy() 0.00021533550848051497\n",
      "tBodyGyroJerkMag-arCoeff()1 0.00022697149250441796\n",
      "tBodyGyroJerkMag-arCoeff()2 0.00021942496648436513\n",
      "tBodyGyroJerkMag-arCoeff()3 0.0001713893931611753\n",
      "tBodyGyroJerkMag-arCoeff()4 0.00019858571725494265\n",
      "fBodyAcc-mean()-X 0.006357478803875699\n",
      "fBodyAcc-mean()-Y 0.00022663376117032356\n",
      "fBodyAcc-mean()-Z 0.00021188634817649908\n",
      "fBodyAcc-std()-X 0.0030391768120552045\n",
      "fBodyAcc-std()-Y 0.000435015216207682\n",
      "fBodyAcc-std()-Z 0.0005469463367725882\n",
      "fBodyAcc-mad()-X 0.008253718710028241\n",
      "fBodyAcc-mad()-Y 0.00026877616890936786\n",
      "fBodyAcc-mad()-Z 0.0004955805508648514\n",
      "fBodyAcc-max()-X 0.0032388879144542933\n",
      "fBodyAcc-max()-Y 0.0010377157743589546\n",
      "fBodyAcc-max()-Z 0.0004708444629262897\n",
      "fBodyAcc-min()-X 0.0001746801262682384\n",
      "fBodyAcc-min()-Y 0.0001312190882594536\n",
      "fBodyAcc-min()-Z 0.00013316159961686606\n",
      "fBodyAcc-sma() 0.0019657054513245622\n",
      "fBodyAcc-energy()-X 0.0048375270796571215\n",
      "fBodyAcc-energy()-Y 0.00033623074422690663\n",
      "fBodyAcc-energy()-Z 0.0003303907114222464\n",
      "fBodyAcc-iqr()-X 0.0007111096886324635\n",
      "fBodyAcc-iqr()-Y 0.00015819156261127331\n",
      "fBodyAcc-iqr()-Z 0.0002910273660323408\n",
      "fBodyAcc-entropy()-X 0.0040985407170208215\n",
      "fBodyAcc-entropy()-Y 0.0006441204748874285\n",
      "fBodyAcc-entropy()-Z 0.00020653678202961137\n",
      "fBodyAcc-maxInds-X 0.00035022131414107216\n",
      "fBodyAcc-maxInds-Y 0.0003426712099934442\n",
      "fBodyAcc-maxInds-Z 0.00013843928822626013\n",
      "fBodyAcc-meanFreq()-X 0.0007953996844512123\n",
      "fBodyAcc-meanFreq()-Y 0.000793163902652827\n",
      "fBodyAcc-meanFreq()-Z 0.0021637061987322633\n",
      "fBodyAcc-skewness()-X 0.0013792856460803262\n",
      "fBodyAcc-kurtosis()-X 0.0016807887638445437\n",
      "fBodyAcc-skewness()-Y 0.0009163312392872248\n",
      "fBodyAcc-kurtosis()-Y 0.0007397642869793152\n",
      "fBodyAcc-skewness()-Z 0.00047479994634768883\n",
      "fBodyAcc-kurtosis()-Z 0.00037917776258560796\n",
      "fBodyAcc-bandsEnergy()-1,8 0.0032695511143800956\n",
      "fBodyAcc-bandsEnergy()-9,16 0.001706590858054613\n",
      "fBodyAcc-bandsEnergy()-17,24 0.0002462153766181993\n",
      "fBodyAcc-bandsEnergy()-25,32 0.00015440201072025302\n",
      "fBodyAcc-bandsEnergy()-33,40 0.00016408172306339928\n",
      "fBodyAcc-bandsEnergy()-41,48 0.0001817992602390037\n",
      "fBodyAcc-bandsEnergy()-49,56 0.00012799571376746082\n",
      "fBodyAcc-bandsEnergy()-57,64 0.00012731638780443807\n",
      "fBodyAcc-bandsEnergy()-1,16 0.004619965522412676\n",
      "fBodyAcc-bandsEnergy()-17,32 0.000569472409947599\n",
      "fBodyAcc-bandsEnergy()-33,48 0.00022939071666206804\n",
      "fBodyAcc-bandsEnergy()-49,64 0.00011953401641774779\n",
      "fBodyAcc-bandsEnergy()-1,24 0.0055592652995047785\n",
      "fBodyAcc-bandsEnergy()-25,48 0.00019579904672719717\n",
      "fBodyAcc-bandsEnergy()-1,8 0.0016418041939672554\n",
      "fBodyAcc-bandsEnergy()-9,16 0.00033747109421424876\n",
      "fBodyAcc-bandsEnergy()-17,24 0.00039147523064619286\n",
      "fBodyAcc-bandsEnergy()-25,32 0.0001560464436301171\n",
      "fBodyAcc-bandsEnergy()-33,40 0.00013121597125800494\n",
      "fBodyAcc-bandsEnergy()-41,48 0.0001338315549138554\n",
      "fBodyAcc-bandsEnergy()-49,56 0.00013538663499223946\n",
      "fBodyAcc-bandsEnergy()-57,64 0.0001294431508961382\n",
      "fBodyAcc-bandsEnergy()-1,16 0.0004966170514896377\n",
      "fBodyAcc-bandsEnergy()-17,32 0.0004026149081084953\n",
      "fBodyAcc-bandsEnergy()-33,48 0.00016245072974296564\n",
      "fBodyAcc-bandsEnergy()-49,64 0.00011633586546189023\n",
      "fBodyAcc-bandsEnergy()-1,24 0.00043821360206141126\n",
      "fBodyAcc-bandsEnergy()-25,48 0.0002030932007973413\n",
      "fBodyAcc-bandsEnergy()-1,8 0.0006982527174022494\n",
      "fBodyAcc-bandsEnergy()-9,16 0.00026047525182528396\n",
      "fBodyAcc-bandsEnergy()-17,24 0.0010678535775161156\n",
      "fBodyAcc-bandsEnergy()-25,32 0.00031141763972132596\n",
      "fBodyAcc-bandsEnergy()-33,40 0.0002273034180174524\n",
      "fBodyAcc-bandsEnergy()-41,48 0.00018044258283601085\n",
      "fBodyAcc-bandsEnergy()-49,56 0.00016882835693656694\n",
      "fBodyAcc-bandsEnergy()-57,64 0.00013014894599606944\n",
      "fBodyAcc-bandsEnergy()-1,16 0.0004461505986079277\n",
      "fBodyAcc-bandsEnergy()-17,32 0.0010383176488825375\n",
      "fBodyAcc-bandsEnergy()-33,48 0.00020705621951778183\n",
      "fBodyAcc-bandsEnergy()-49,64 0.00012679305281203973\n",
      "fBodyAcc-bandsEnergy()-1,24 0.0005328156752249016\n",
      "fBodyAcc-bandsEnergy()-25,48 0.000316834413974593\n",
      "fBodyAccJerk-mean()-X 0.0073544777736974385\n",
      "fBodyAccJerk-mean()-Y 0.0011487904307409\n",
      "fBodyAccJerk-mean()-Z 0.0007658468630115445\n",
      "fBodyAccJerk-std()-X 0.004480634529379329\n",
      "fBodyAccJerk-std()-Y 0.003747924113982069\n",
      "fBodyAccJerk-std()-Z 0.0008812167670984676\n",
      "fBodyAccJerk-mad()-X 0.004004510589017267\n",
      "fBodyAccJerk-mad()-Y 0.001025200855852039\n",
      "fBodyAccJerk-mad()-Z 0.00045957233466916006\n",
      "fBodyAccJerk-max()-X 0.005374959417891161\n",
      "fBodyAccJerk-max()-Y 0.0022351497571892164\n",
      "fBodyAccJerk-max()-Z 0.0002707396317011999\n",
      "fBodyAccJerk-min()-X 0.00011157941115907988\n",
      "fBodyAccJerk-min()-Y 0.00012604330381819394\n",
      "fBodyAccJerk-min()-Z 0.00011322431192383751\n",
      "fBodyAccJerk-sma() 0.0033878284265097896\n",
      "fBodyAccJerk-energy()-X 0.008485928581562966\n",
      "fBodyAccJerk-energy()-Y 0.0025384213893012465\n",
      "fBodyAccJerk-energy()-Z 0.00046870176436507386\n",
      "fBodyAccJerk-iqr()-X 0.0006585626681905767\n",
      "fBodyAccJerk-iqr()-Y 0.00015506746772613405\n",
      "fBodyAccJerk-iqr()-Z 0.0002534375564217862\n",
      "fBodyAccJerk-entropy()-X 0.0065005623001312554\n",
      "fBodyAccJerk-entropy()-Y 0.0017735961421104405\n",
      "fBodyAccJerk-entropy()-Z 0.00032074590413871056\n",
      "fBodyAccJerk-maxInds-X 0.002115072009630556\n",
      "fBodyAccJerk-maxInds-Y 0.00019579218644872782\n",
      "fBodyAccJerk-maxInds-Z 0.0016675725016261683\n",
      "fBodyAccJerk-meanFreq()-X 0.00022530784134667354\n",
      "fBodyAccJerk-meanFreq()-Y 0.00021620507855919926\n",
      "fBodyAccJerk-meanFreq()-Z 0.0003455062925243893\n",
      "fBodyAccJerk-skewness()-X 0.00022678102981355796\n",
      "fBodyAccJerk-kurtosis()-X 0.00021608404309202353\n",
      "fBodyAccJerk-skewness()-Y 0.0002038148810395683\n",
      "fBodyAccJerk-kurtosis()-Y 0.00023462258470361108\n",
      "fBodyAccJerk-skewness()-Z 0.0001953424741233824\n",
      "fBodyAccJerk-kurtosis()-Z 0.0001908980185504872\n",
      "fBodyAccJerk-bandsEnergy()-1,8 0.009209716030708658\n",
      "fBodyAccJerk-bandsEnergy()-9,16 0.002218470266457627\n",
      "fBodyAccJerk-bandsEnergy()-17,24 0.00024689893598425777\n",
      "fBodyAccJerk-bandsEnergy()-25,32 0.0002086499648866334\n",
      "fBodyAccJerk-bandsEnergy()-33,40 0.0001623505915978583\n",
      "fBodyAccJerk-bandsEnergy()-41,48 0.00016247603171148735\n",
      "fBodyAccJerk-bandsEnergy()-49,56 0.0001391915754375003\n",
      "fBodyAccJerk-bandsEnergy()-57,64 0.00011246623810148977\n",
      "fBodyAccJerk-bandsEnergy()-1,16 0.010692157286586403\n",
      "fBodyAccJerk-bandsEnergy()-17,32 0.0006341150501079134\n",
      "fBodyAccJerk-bandsEnergy()-33,48 0.0005981703143576627\n",
      "fBodyAccJerk-bandsEnergy()-49,64 0.0001310332725588397\n",
      "fBodyAccJerk-bandsEnergy()-1,24 0.007829050261106328\n",
      "fBodyAccJerk-bandsEnergy()-25,48 0.0002290009491617222\n",
      "fBodyAccJerk-bandsEnergy()-1,8 0.0015754342800312954\n",
      "fBodyAccJerk-bandsEnergy()-9,16 0.0003876688862979869\n",
      "fBodyAccJerk-bandsEnergy()-17,24 0.0008767134378399697\n",
      "fBodyAccJerk-bandsEnergy()-25,32 0.00015838439585907612\n",
      "fBodyAccJerk-bandsEnergy()-33,40 0.00018116970002595066\n",
      "fBodyAccJerk-bandsEnergy()-41,48 0.00019990453054877659\n",
      "fBodyAccJerk-bandsEnergy()-49,56 0.00010995103624071471\n",
      "fBodyAccJerk-bandsEnergy()-57,64 0.0001376423464285304\n",
      "fBodyAccJerk-bandsEnergy()-1,16 0.004662894253618175\n",
      "fBodyAccJerk-bandsEnergy()-17,32 0.0004141239975803992\n",
      "fBodyAccJerk-bandsEnergy()-33,48 0.0001388707288232207\n",
      "fBodyAccJerk-bandsEnergy()-49,64 0.00011653651071942913\n",
      "fBodyAccJerk-bandsEnergy()-1,24 0.0017581360886756478\n",
      "fBodyAccJerk-bandsEnergy()-25,48 0.0002078922169864424\n",
      "fBodyAccJerk-bandsEnergy()-1,8 0.0006251813104936872\n",
      "fBodyAccJerk-bandsEnergy()-9,16 0.0004109563120428548\n",
      "fBodyAccJerk-bandsEnergy()-17,24 0.0010488398068864218\n",
      "fBodyAccJerk-bandsEnergy()-25,32 0.00041589367423903014\n",
      "fBodyAccJerk-bandsEnergy()-33,40 0.00019962249790753605\n",
      "fBodyAccJerk-bandsEnergy()-41,48 0.00021820992559565372\n",
      "fBodyAccJerk-bandsEnergy()-49,56 0.00017671305556988187\n",
      "fBodyAccJerk-bandsEnergy()-57,64 0.00012335761249464514\n",
      "fBodyAccJerk-bandsEnergy()-1,16 0.0012024470970117159\n",
      "fBodyAccJerk-bandsEnergy()-17,32 0.0011580638211591296\n",
      "fBodyAccJerk-bandsEnergy()-33,48 0.00020424837690861272\n",
      "fBodyAccJerk-bandsEnergy()-49,64 0.00016158092013485314\n",
      "fBodyAccJerk-bandsEnergy()-1,24 0.0012897400611092372\n",
      "fBodyAccJerk-bandsEnergy()-25,48 0.00039216943782452305\n",
      "fBodyGyro-mean()-X 0.002120128081001054\n",
      "fBodyGyro-mean()-Y 0.0005895891577738504\n",
      "fBodyGyro-mean()-Z 0.0005439448438700333\n",
      "fBodyGyro-std()-X 0.0027446545746230185\n",
      "fBodyGyro-std()-Y 0.0005873828522444057\n",
      "fBodyGyro-std()-Z 0.0007267441056435441\n",
      "fBodyGyro-mad()-X 0.002248332495834656\n",
      "fBodyGyro-mad()-Y 0.0004920278659720658\n",
      "fBodyGyro-mad()-Z 0.0004279760736430857\n",
      "fBodyGyro-max()-X 0.002289820652177481\n",
      "fBodyGyro-max()-Y 0.0007816193736932314\n",
      "fBodyGyro-max()-Z 0.0010038053464163001\n",
      "fBodyGyro-min()-X 0.00021137047901969268\n",
      "fBodyGyro-min()-Y 0.00016431788482933345\n",
      "fBodyGyro-min()-Z 0.0003076705584843449\n",
      "fBodyGyro-sma() 0.0009790443187042402\n",
      "fBodyGyro-energy()-X 0.0020304177585570783\n",
      "fBodyGyro-energy()-Y 0.0005861756586339147\n",
      "fBodyGyro-energy()-Z 0.0006154776653979778\n",
      "fBodyGyro-iqr()-X 0.0006327124333248271\n",
      "fBodyGyro-iqr()-Y 0.0004052414594554621\n",
      "fBodyGyro-iqr()-Z 0.0002450893359670252\n",
      "fBodyGyro-entropy()-X 0.001990088312016297\n",
      "fBodyGyro-entropy()-Y 0.00034679198131768124\n",
      "fBodyGyro-entropy()-Z 0.0007548372110162919\n",
      "fBodyGyro-maxInds-X 0.0020230467711097374\n",
      "fBodyGyro-maxInds-Y 0.0019529092678403626\n",
      "fBodyGyro-maxInds-Z 0.005237347314482695\n",
      "fBodyGyro-meanFreq()-X 0.003397139020029234\n",
      "fBodyGyro-meanFreq()-Y 0.0003145610271954376\n",
      "fBodyGyro-meanFreq()-Z 0.00040735395005323514\n",
      "fBodyGyro-skewness()-X 0.0004990151072111802\n",
      "fBodyGyro-kurtosis()-X 0.00045204155873615086\n",
      "fBodyGyro-skewness()-Y 0.0007053366690996067\n",
      "fBodyGyro-kurtosis()-Y 0.0006298726909121635\n",
      "fBodyGyro-skewness()-Z 0.0006679315869000989\n",
      "fBodyGyro-kurtosis()-Z 0.0007462129494388437\n",
      "fBodyGyro-bandsEnergy()-1,8 0.002279770890168524\n",
      "fBodyGyro-bandsEnergy()-9,16 0.0017821402391215893\n",
      "fBodyGyro-bandsEnergy()-17,24 0.0004358762412548996\n",
      "fBodyGyro-bandsEnergy()-25,32 0.0002926349411098362\n",
      "fBodyGyro-bandsEnergy()-33,40 0.000449464488639188\n",
      "fBodyGyro-bandsEnergy()-41,48 0.000523534729618432\n",
      "fBodyGyro-bandsEnergy()-49,56 0.0004157427898657047\n",
      "fBodyGyro-bandsEnergy()-57,64 0.00033791715743234014\n",
      "fBodyGyro-bandsEnergy()-1,16 0.0029193370424897844\n",
      "fBodyGyro-bandsEnergy()-17,32 0.0005095533950940401\n",
      "fBodyGyro-bandsEnergy()-33,48 0.0004498607492063196\n",
      "fBodyGyro-bandsEnergy()-49,64 0.0002832726463697474\n",
      "fBodyGyro-bandsEnergy()-1,24 0.0024816444095214353\n",
      "fBodyGyro-bandsEnergy()-25,48 0.0004881852591168684\n",
      "fBodyGyro-bandsEnergy()-1,8 0.0008853079777149693\n",
      "fBodyGyro-bandsEnergy()-9,16 0.00024514145247857033\n",
      "fBodyGyro-bandsEnergy()-17,24 0.00040449993055312534\n",
      "fBodyGyro-bandsEnergy()-25,32 0.000283286293749862\n",
      "fBodyGyro-bandsEnergy()-33,40 0.00021440646134860035\n",
      "fBodyGyro-bandsEnergy()-41,48 0.00021216522741033871\n",
      "fBodyGyro-bandsEnergy()-49,56 0.00013533830471452234\n",
      "fBodyGyro-bandsEnergy()-57,64 0.00017475382527147536\n",
      "fBodyGyro-bandsEnergy()-1,16 0.0005176652556573779\n",
      "fBodyGyro-bandsEnergy()-17,32 0.0005147563843101693\n",
      "fBodyGyro-bandsEnergy()-33,48 0.00021752462275035207\n",
      "fBodyGyro-bandsEnergy()-49,64 0.0001437257916270518\n",
      "fBodyGyro-bandsEnergy()-1,24 0.0006137308386536548\n",
      "fBodyGyro-bandsEnergy()-25,48 0.0003197239738668161\n",
      "fBodyGyro-bandsEnergy()-1,8 0.0007358306646306073\n",
      "fBodyGyro-bandsEnergy()-9,16 0.00030684134909732654\n",
      "fBodyGyro-bandsEnergy()-17,24 0.0004821415934852346\n",
      "fBodyGyro-bandsEnergy()-25,32 0.00042188683548019437\n",
      "fBodyGyro-bandsEnergy()-33,40 0.00021114932118695287\n",
      "fBodyGyro-bandsEnergy()-41,48 0.00028278163620878565\n",
      "fBodyGyro-bandsEnergy()-49,56 0.0003259176837780724\n",
      "fBodyGyro-bandsEnergy()-57,64 0.0002810008059234279\n",
      "fBodyGyro-bandsEnergy()-1,16 0.0007163866431017075\n",
      "fBodyGyro-bandsEnergy()-17,32 0.0004199667658831671\n",
      "fBodyGyro-bandsEnergy()-33,48 0.0002797807473835927\n",
      "fBodyGyro-bandsEnergy()-49,64 0.0002856931346690691\n",
      "fBodyGyro-bandsEnergy()-1,24 0.0007909043505999944\n",
      "fBodyGyro-bandsEnergy()-25,48 0.0003780237133578228\n",
      "fBodyAccMag-mean() 0.003605511330943333\n",
      "fBodyAccMag-std() 0.008526883281074513\n",
      "fBodyAccMag-mad() 0.008294112906221994\n",
      "fBodyAccMag-max() 0.0028602648537301685\n",
      "fBodyAccMag-min() 0.00013864719334706242\n",
      "fBodyAccMag-sma() 0.005463358393411132\n",
      "fBodyAccMag-energy() 0.009457900694152447\n",
      "fBodyAccMag-iqr() 0.0008049549207571012\n",
      "fBodyAccMag-entropy() 0.0024793510961138602\n",
      "fBodyAccMag-maxInds 0.00019598323850517372\n",
      "fBodyAccMag-meanFreq() 0.0014172460669906529\n",
      "fBodyAccMag-skewness() 0.0001884254550429586\n",
      "fBodyAccMag-kurtosis() 0.00019997936468415349\n",
      "fBodyBodyAccJerkMag-mean() 0.0017731875275250485\n",
      "fBodyBodyAccJerkMag-std() 0.0017801577207672418\n",
      "fBodyBodyAccJerkMag-mad() 0.0009671940612066788\n",
      "fBodyBodyAccJerkMag-max() 0.000976392580405905\n",
      "fBodyBodyAccJerkMag-min() 0.00010967152744543948\n",
      "fBodyBodyAccJerkMag-sma() 0.0015190804625470242\n",
      "fBodyBodyAccJerkMag-energy() 0.002341265537527388\n",
      "fBodyBodyAccJerkMag-iqr() 0.00135193154803097\n",
      "fBodyBodyAccJerkMag-entropy() 9.124133374211118e-05\n",
      "fBodyBodyAccJerkMag-maxInds 0.00015316226307239875\n",
      "fBodyBodyAccJerkMag-meanFreq() 0.00016333286177629196\n",
      "fBodyBodyAccJerkMag-skewness() 0.00044247733765430446\n",
      "fBodyBodyAccJerkMag-kurtosis() 0.00042243641823044143\n",
      "fBodyBodyGyroMag-mean() 0.00028033270999689065\n",
      "fBodyBodyGyroMag-std() 0.0002300625149222013\n",
      "fBodyBodyGyroMag-mad() 0.00027751757386565104\n",
      "fBodyBodyGyroMag-max() 0.0002486318272358902\n",
      "fBodyBodyGyroMag-min() 0.00020852767851738466\n",
      "fBodyBodyGyroMag-sma() 0.00030441281324978923\n",
      "fBodyBodyGyroMag-energy() 0.000258360731275321\n",
      "fBodyBodyGyroMag-iqr() 0.0001925148729072331\n",
      "fBodyBodyGyroMag-entropy() 0.0001984962436376004\n",
      "fBodyBodyGyroMag-maxInds 0.0006234531095713433\n",
      "fBodyBodyGyroMag-meanFreq() 0.0014966359392617787\n",
      "fBodyBodyGyroMag-skewness() 0.00023303534514248627\n",
      "fBodyBodyGyroMag-kurtosis() 0.00024061446057671554\n",
      "fBodyBodyGyroJerkMag-mean() 0.00020758077160393777\n",
      "fBodyBodyGyroJerkMag-std() 0.0006250429337463368\n",
      "fBodyBodyGyroJerkMag-mad() 0.00025843690335373526\n",
      "fBodyBodyGyroJerkMag-max() 0.0004278487682419833\n",
      "fBodyBodyGyroJerkMag-min() 0.00013938540870496243\n",
      "fBodyBodyGyroJerkMag-sma() 0.00017238967153608515\n",
      "fBodyBodyGyroJerkMag-energy() 0.0003434447330874333\n",
      "fBodyBodyGyroJerkMag-iqr() 0.0001661865168266218\n",
      "fBodyBodyGyroJerkMag-entropy() 0.00012718616004176017\n",
      "fBodyBodyGyroJerkMag-maxInds 0.00023349213228137712\n",
      "fBodyBodyGyroJerkMag-meanFreq() 0.0001854318372734163\n",
      "fBodyBodyGyroJerkMag-skewness() 0.0003600250146235692\n",
      "fBodyBodyGyroJerkMag-kurtosis() 0.0004197280994768658\n",
      "angle(tBodyAccMean,gravity) 0.00013992799374868605\n",
      "angle(tBodyAccJerkMean),gravityMean) 0.0001322387459512298\n",
      "angle(tBodyGyroMean,gravityMean) 0.0004553415003598428\n",
      "angle(tBodyGyroJerkMean,gravityMean) 0.0004956425109995266\n",
      "angle(X,gravityMean) 0.029082822887639942\n",
      "angle(Y,gravityMean) 0.024800831341755338\n",
      "angle(Z,gravityMean) 0.009522437885474404\n"
     ]
    }
   ],
   "source": [
    "from sklearn.ensemble import RandomForestClassifier\n",
    "\n",
    "rnd_clf = RandomForestClassifier(n_estimators=500, n_jobs=-1, random_state=42)\n",
    "# rnd_clf.fit(X_train, y_train)\n",
    "rnd_clf.fit(X_train, y_train.ravel())\n",
    "sum = 0\n",
    "feature_score = {}\n",
    "for name, score in zip(feature_names.ravel(), rnd_clf.feature_importances_):\n",
    "    print(name, score)\n",
    "    feature_score[name]=score"
   ]
  },
  {
   "cell_type": "code",
   "execution_count": 117,
   "id": "f29aff81",
   "metadata": {},
   "outputs": [],
   "source": [
    "import operator\n",
    "score_import = sorted(feature_score.items(), key=lambda item: item[1])  # 특성 중요도 오름 차순 정렬"
   ]
  },
  {
   "cell_type": "code",
   "execution_count": 118,
   "id": "f413813c",
   "metadata": {},
   "outputs": [
    {
     "data": {
      "text/plain": [
       "[('fBodyBodyAccJerkMag-entropy()', 9.124133374211118e-05),\n",
       " ('fBodyBodyAccJerkMag-min()', 0.00010967152744543948),\n",
       " ('fBodyAccJerk-min()-X', 0.00011157941115907988),\n",
       " ('fBodyAccJerk-min()-Z', 0.00011322431192383751),\n",
       " ('fBodyAccJerk-bandsEnergy()-57,64', 0.00012335761249464514),\n",
       " ('tBodyAccJerk-mean()-Y', 0.00012454734972521192),\n",
       " ('fBodyAccJerk-min()-Y', 0.00012604330381819394),\n",
       " ('fBodyAcc-bandsEnergy()-49,64', 0.00012679305281203973),\n",
       " ('fBodyBodyGyroJerkMag-entropy()', 0.00012718616004176017),\n",
       " ('fBodyAcc-bandsEnergy()-57,64', 0.00013014894599606944),\n",
       " ('fBodyAcc-min()-Y', 0.0001312190882594536),\n",
       " ('angle(tBodyAccJerkMean),gravityMean)', 0.0001322387459512298),\n",
       " ('fBodyAcc-min()-Z', 0.00013316159961686606),\n",
       " ('tBodyGyroJerk-mean()-Y', 0.00013657166615207677),\n",
       " ('fBodyAcc-maxInds-Z', 0.00013843928822626013),\n",
       " ('fBodyAccMag-min()', 0.00013864719334706242),\n",
       " ('fBodyBodyGyroJerkMag-min()', 0.00013938540870496243),\n",
       " ('tBodyAccJerk-arCoeff()-X,2', 0.00013980371696932118),\n",
       " ('angle(tBodyAccMean,gravity)', 0.00013992799374868605),\n",
       " ('tBodyAccJerk-mean()-Z', 0.0001418337135528662),\n",
       " ('tBodyGyro-arCoeff()-X,2', 0.00014216556022400985),\n",
       " ('tBodyGyroJerk-arCoeff()-Y,3', 0.0001426071248401287),\n",
       " ('tBodyAccJerkMag-min()', 0.00014589215762600218),\n",
       " ('tBodyGyroJerkMag-max()', 0.0001488691305215941),\n",
       " ('tBodyAccJerk-mean()-X', 0.0001509112891551119),\n",
       " ('tBodyGyroJerkMag-min()', 0.00015276985545582572),\n",
       " ('fBodyBodyAccJerkMag-maxInds', 0.00015316226307239875),\n",
       " ('fBodyAccJerk-iqr()-Y', 0.00015506746772613405),\n",
       " ('tGravityAccMag-min()', 0.00015533673624071843),\n",
       " ('tBodyAccJerk-arCoeff()-Y,2', 0.00015538780352812603),\n",
       " ('tBodyAccMag-min()', 0.00015762160836622628),\n",
       " ('fBodyAcc-iqr()-Y', 0.00015819156261127331),\n",
       " ('tBodyAccJerk-arCoeff()-Y,3', 0.00015901328332740982),\n",
       " ('tBodyAccJerk-arCoeff()-Y,1', 0.00015967671955937284),\n",
       " ('fBodyAccJerk-bandsEnergy()-49,64', 0.00016158092013485314),\n",
       " ('tGravityAccMag-arCoeff()4', 0.00016208838363150938),\n",
       " ('fBodyBodyAccJerkMag-meanFreq()', 0.00016333286177629196),\n",
       " ('fBodyGyro-min()-Y', 0.00016431788482933345),\n",
       " ('tBodyGyro-arCoeff()-Z,2', 0.00016446936004141873),\n",
       " ('fBodyBodyGyroJerkMag-iqr()', 0.0001661865168266218),\n",
       " ('tBodyAcc-arCoeff()-Z,2', 0.00016700254465416625),\n",
       " ('tBodyAccJerkMag-max()', 0.00016822802253609886),\n",
       " ('tBodyAccMag-arCoeff()4', 0.0001683678603843962),\n",
       " ('tBodyAcc-arCoeff()-Y,3', 0.00016874426985749298),\n",
       " ('fBodyAcc-bandsEnergy()-49,56', 0.00016882835693656694),\n",
       " ('tBodyAccJerkMag-arCoeff()3', 0.0001704649961187463),\n",
       " ('tBodyGyroJerkMag-arCoeff()3', 0.0001713893931611753),\n",
       " ('tBodyAcc-arCoeff()-Y,2', 0.00017150962184239293),\n",
       " ('tBodyGyro-arCoeff()-X,3', 0.00017191386585332376),\n",
       " ('fBodyBodyGyroJerkMag-sma()', 0.00017238967153608515),\n",
       " ('tBodyGyroJerk-arCoeff()-Y,2', 0.00017338463196538774),\n",
       " ('tBodyAccJerkMag-arCoeff()1', 0.0001738670022746859),\n",
       " ('fBodyAcc-min()-X', 0.0001746801262682384),\n",
       " ('tBodyGyroJerk-arCoeff()-Z,1', 0.00017534216671812524),\n",
       " ('fBodyAccJerk-bandsEnergy()-49,56', 0.00017671305556988187),\n",
       " ('tBodyGyroMag-arCoeff()4', 0.0001767346185917658),\n",
       " ('tGravityAccMag-arCoeff()3', 0.0001804067882278329),\n",
       " ('fBodyAcc-bandsEnergy()-41,48', 0.00018044258283601085),\n",
       " ('tBodyGyro-arCoeff()-Y,3', 0.00018085718009514022),\n",
       " ('tBodyAcc-arCoeff()-X,3', 0.0001816084021224711),\n",
       " ('tBodyAcc-mean()-Z', 0.00018164883281189992),\n",
       " ('fBodyBodyGyroJerkMag-meanFreq()', 0.0001854318372734163),\n",
       " ('tBodyAccJerk-arCoeff()-Z,2', 0.00018663948714049908),\n",
       " ('fBodyAccMag-skewness()', 0.0001884254550429586),\n",
       " ('tBodyGyroMag-max()', 0.0001890352827400152),\n",
       " ('fBodyAccJerk-kurtosis()-Z', 0.0001908980185504872),\n",
       " ('fBodyBodyGyroMag-iqr()', 0.0001925148729072331),\n",
       " ('fBodyAccJerk-skewness()-Z', 0.0001953424741233824),\n",
       " ('tBodyAcc-arCoeff()-Z,3', 0.0001953867867194979),\n",
       " ('fBodyAccJerk-maxInds-Y', 0.00019579218644872782),\n",
       " ('tBodyAcc-iqr()-Z', 0.00019584096438820666),\n",
       " ('fBodyAccMag-maxInds', 0.00019598323850517372),\n",
       " ('tBodyGyro-arCoeff()-Z,3', 0.00019768987735206881),\n",
       " ('fBodyBodyGyroMag-entropy()', 0.0001984962436376004),\n",
       " ('tBodyGyroJerkMag-arCoeff()4', 0.00019858571725494265),\n",
       " ('fBodyAccJerk-bandsEnergy()-33,40', 0.00019962249790753605),\n",
       " ('fBodyAccMag-kurtosis()', 0.00019997936468415349),\n",
       " ('tBodyAccJerkMag-arCoeff()4', 0.00020312226637470194),\n",
       " ('tBodyGyroJerk-arCoeff()-Z,3', 0.00020367195229805372),\n",
       " ('fBodyAccJerk-skewness()-Y', 0.0002038148810395683),\n",
       " ('tBodyGyroMag-arCoeff()3', 0.00020398807453717968),\n",
       " ('fBodyAccJerk-bandsEnergy()-33,48', 0.00020424837690861272),\n",
       " ('fBodyAcc-entropy()-Z', 0.00020653678202961137),\n",
       " ('fBodyAcc-bandsEnergy()-33,48', 0.00020705621951778183),\n",
       " ('fBodyBodyGyroJerkMag-mean()', 0.00020758077160393777),\n",
       " ('fBodyBodyGyroMag-min()', 0.00020852767851738466),\n",
       " ('tBodyAccMag-arCoeff()3', 0.0002090960435699529),\n",
       " ('fBodyGyro-bandsEnergy()-33,40', 0.00021114932118695287),\n",
       " ('fBodyGyro-min()-X', 0.00021137047901969268),\n",
       " ('tBodyAcc-mean()-X', 0.0002116181367236854),\n",
       " ('fBodyAcc-mean()-Z', 0.00021188634817649908),\n",
       " ('tBodyGyroJerk-arCoeff()-X,4', 0.0002120624096773758),\n",
       " ('tBodyAccJerk-arCoeff()-X,3', 0.0002140269209047761),\n",
       " ('tBodyAcc-arCoeff()-X,2', 0.00021407862459237061),\n",
       " ('tBodyGyroJerkMag-entropy()', 0.00021533550848051497),\n",
       " ('fBodyAccJerk-kurtosis()-X', 0.00021608404309202353),\n",
       " ('fBodyAccJerk-meanFreq()-Y', 0.00021620507855919926),\n",
       " ('tBodyAcc-max()-Z', 0.00021735456800469298),\n",
       " ('fBodyAccJerk-bandsEnergy()-41,48', 0.00021820992559565372),\n",
       " ('tBodyAcc-min()-Z', 0.00021906863164008453),\n",
       " ('tBodyGyroJerkMag-arCoeff()2', 0.00021942496648436513),\n",
       " ('tBodyGyroJerk-min()-Z', 0.00022074838047592677),\n",
       " ('tBodyGyroJerk-arCoeff()-Z,2', 0.00022511868168649527),\n",
       " ('fBodyAccJerk-meanFreq()-X', 0.00022530784134667354),\n",
       " ('fBodyAcc-mean()-Y', 0.00022663376117032356),\n",
       " ('fBodyAccJerk-skewness()-X', 0.00022678102981355796),\n",
       " ('tBodyGyroJerkMag-arCoeff()1', 0.00022697149250441796),\n",
       " ('tBodyAcc-min()-Y', 0.00022705956673790392),\n",
       " ('tBodyAccJerk-arCoeff()-Z,3', 0.0002272166549658602),\n",
       " ('fBodyAcc-bandsEnergy()-33,40', 0.0002273034180174524),\n",
       " ('tGravityAccMag-entropy()', 0.0002286457209273244),\n",
       " ('fBodyBodyGyroMag-std()', 0.0002300625149222013),\n",
       " ('tBodyAccJerk-arCoeff()-X,4', 0.00023136409538076764),\n",
       " ('tBodyGyroMag-mad()', 0.00023242478250827626),\n",
       " ('tBodyGyro-arCoeff()-Z,1', 0.00023278547314598482),\n",
       " ('fBodyBodyGyroMag-skewness()', 0.00023303534514248627),\n",
       " ('fBodyBodyGyroJerkMag-maxInds', 0.00023349213228137712),\n",
       " ('fBodyAccJerk-kurtosis()-Y', 0.00023462258470361108),\n",
       " ('tBodyAcc-arCoeff()-X,4', 0.00023559499743686714),\n",
       " ('tBodyAcc-arCoeff()-Y,4', 0.00023910383903765582),\n",
       " ('fBodyBodyGyroMag-kurtosis()', 0.00024061446057671554),\n",
       " ('tBodyAccJerkMag-arCoeff()2', 0.00024188427196259103),\n",
       " ('tBodyAcc-arCoeff()-Y,1', 0.00024199845251433),\n",
       " ('tBodyAccJerk-arCoeff()-Z,1', 0.00024339552053123642),\n",
       " ('fBodyGyro-iqr()-Z', 0.0002450893359670252),\n",
       " ('tBodyAcc-entropy()-Y', 0.00024580290718435795),\n",
       " ('tBodyGyroMag-arCoeff()2', 0.0002480823523712578),\n",
       " ('fBodyBodyGyroMag-max()', 0.0002486318272358902),\n",
       " ('tBodyGyro-min()-Y', 0.0002493793691190765),\n",
       " ('tBodyAccJerk-arCoeff()-X,1', 0.00025027047165680186),\n",
       " ('tBodyGyroJerk-mean()-X', 0.0002523966005404326),\n",
       " ('tBodyAcc-arCoeff()-Z,4', 0.00025283432021815794),\n",
       " ('fBodyAccJerk-iqr()-Z', 0.0002534375564217862),\n",
       " ('tGravityAcc-mad()-Z', 0.00025490166411240854),\n",
       " ('tBodyAccJerk-arCoeff()-Y,4', 0.0002571638217044465),\n",
       " ('fBodyBodyGyroMag-energy()', 0.000258360731275321),\n",
       " ('fBodyBodyGyroJerkMag-mad()', 0.00025843690335373526),\n",
       " ('tBodyAcc-arCoeff()-Z,1', 0.00025926599106782064),\n",
       " ('tBodyGyroMag-energy()', 0.0002600590111138946),\n",
       " ('fBodyAcc-bandsEnergy()-9,16', 0.00026047525182528396),\n",
       " ('tBodyGyroJerk-arCoeff()-Y,4', 0.0002642452353221448),\n",
       " ('tBodyAcc-mean()-Y', 0.00026652714713865084),\n",
       " ('tBodyGyroMag-std()', 0.0002665738769552997),\n",
       " ('tBodyGyroJerk-max()-Y', 0.00026740553094226294),\n",
       " ('tBodyGyroMag-iqr()', 0.0002681809767714049),\n",
       " ('fBodyAcc-mad()-Y', 0.00026877616890936786),\n",
       " ('fBodyAccJerk-max()-Z', 0.0002707396317011999),\n",
       " ('tBodyAccJerk-arCoeff()-Z,4', 0.0002741737888578061),\n",
       " ('tBodyGyroJerk-entropy()-Y', 0.00027609485855777674),\n",
       " ('fBodyBodyGyroMag-mad()', 0.00027751757386565104),\n",
       " ('fBodyGyro-bandsEnergy()-33,48', 0.0002797807473835927),\n",
       " ('fBodyBodyGyroMag-mean()', 0.00028033270999689065),\n",
       " ('fBodyGyro-bandsEnergy()-57,64', 0.0002810008059234279),\n",
       " ('fBodyGyro-bandsEnergy()-41,48', 0.00028278163620878565),\n",
       " ('fBodyGyro-bandsEnergy()-49,64', 0.0002856931346690691),\n",
       " ('tBodyAcc-max()-Y', 0.0002863657189465549),\n",
       " ('tBodyGyro-arCoeff()-Y,2', 0.0002870100305188117),\n",
       " ('fBodyAcc-iqr()-Z', 0.0002910273660323408),\n",
       " ('tBodyGyroMag-min()', 0.0002921356594522919),\n",
       " ('tBodyAccJerk-min()-X', 0.0003008839887173923),\n",
       " ('tBodyGyro-arCoeff()-X,4', 0.0003013801286687826),\n",
       " ('fBodyBodyGyroMag-sma()', 0.00030441281324978923),\n",
       " ('tBodyAcc-entropy()-Z', 0.0003048920516665027),\n",
       " ('fBodyGyro-bandsEnergy()-9,16', 0.00030684134909732654),\n",
       " ('fBodyGyro-min()-Z', 0.0003076705584843449),\n",
       " ('tBodyGyro-arCoeff()-Y,4', 0.00031133074476523274),\n",
       " ('fBodyAcc-bandsEnergy()-25,32', 0.00031141763972132596),\n",
       " ('tBodyGyroJerk-arCoeff()-Y,1', 0.00031273468220789023),\n",
       " ('tBodyAccJerk-min()-Z', 0.00031311195953487764),\n",
       " ('fBodyGyro-meanFreq()-Y', 0.0003145610271954376),\n",
       " ('tBodyGyroJerk-arCoeff()-X,2', 0.0003156364039913449),\n",
       " ('fBodyAcc-bandsEnergy()-25,48', 0.000316834413974593),\n",
       " ('tBodyAcc-arCoeff()-X,1', 0.0003169236098045351),\n",
       " ('tBodyGyro-entropy()-Y', 0.0003176833692525597),\n",
       " ('fBodyAccJerk-entropy()-Z', 0.00032074590413871056),\n",
       " ('tBodyGyroJerk-mean()-Z', 0.0003213992681700956),\n",
       " ('tBodyGyroJerkMag-std()', 0.00032585942948889005),\n",
       " ('fBodyGyro-bandsEnergy()-49,56', 0.0003259176837780724),\n",
       " ('fBodyAcc-energy()-Z', 0.0003303907114222464),\n",
       " ('tBodyGyroMag-entropy()', 0.0003314245867162764),\n",
       " ('tBodyGyroJerk-max()-Z', 0.00033207262635293153),\n",
       " ('tBodyGyroJerk-arCoeff()-Z,4', 0.00033353188273547486),\n",
       " ('fBodyAcc-energy()-Y', 0.00033623074422690663),\n",
       " ('tBodyGyroJerkMag-iqr()', 0.0003388395484963398),\n",
       " ('tBodyAcc-mad()-Z', 0.00033923896496478934),\n",
       " ('fBodyAcc-maxInds-Y', 0.0003426712099934442),\n",
       " ('fBodyBodyGyroJerkMag-energy()', 0.0003434447330874333),\n",
       " ('fBodyAccJerk-meanFreq()-Z', 0.0003455062925243893),\n",
       " ('fBodyGyro-entropy()-Y', 0.00034679198131768124),\n",
       " ('fBodyAcc-maxInds-X', 0.00035022131414107216),\n",
       " ('tBodyAccMag-entropy()', 0.00035865204702591376),\n",
       " ('fBodyBodyGyroJerkMag-skewness()', 0.0003600250146235692),\n",
       " ('tBodyGyroJerkMag-energy()', 0.0003618976420419736),\n",
       " ('tBodyGyroMag-arCoeff()1', 0.00036531570078012285),\n",
       " ('tBodyGyroJerk-std()-Y', 0.0003663475464421628),\n",
       " ('tBodyAccJerk-correlation()-X,Z', 0.00036979305087776455),\n",
       " ('tBodyGyroJerk-mad()-Y', 0.00037034146985450735),\n",
       " ('tGravityAcc-iqr()-Z', 0.00037185512327558867),\n",
       " ('tBodyGyroJerkMag-mad()', 0.00037789812707387827),\n",
       " ('fBodyGyro-bandsEnergy()-25,48', 0.0003780237133578228),\n",
       " ('tBodyGyro-mean()-Y', 0.0003784890413217525),\n",
       " ('fBodyAcc-kurtosis()-Z', 0.00037917776258560796),\n",
       " ('tBodyAccJerk-max()-Y', 0.0003808039424647097),\n",
       " ('tBodyGyro-max()-Z', 0.00038183784314414385),\n",
       " ('tBodyGyro-sma()', 0.00038788229768741577),\n",
       " ('tGravityAcc-std()-Z', 0.000390964672356682),\n",
       " ('tBodyGyro-max()-Y', 0.0003920901595695307),\n",
       " ('fBodyAccJerk-bandsEnergy()-25,48', 0.00039216943782452305),\n",
       " ('tBodyAccJerk-correlation()-Y,Z', 0.00039273285083617356),\n",
       " ('tBodyGyroJerkMag-sma()', 0.00039371661962507354),\n",
       " ('fBodyGyro-iqr()-Y', 0.0004052414594554621),\n",
       " ('fBodyGyro-meanFreq()-Z', 0.00040735395005323514),\n",
       " ('tBodyGyroJerk-min()-Y', 0.000410596280496477),\n",
       " ('fBodyAccJerk-bandsEnergy()-9,16', 0.0004109563120428548),\n",
       " ('fBodyAccJerk-bandsEnergy()-25,32', 0.00041589367423903014),\n",
       " ('tBodyGyroJerk-energy()-Y', 0.0004182461546861341),\n",
       " ('tBodyGyroJerk-std()-Z', 0.00041872226245871606),\n",
       " ('fBodyBodyGyroJerkMag-kurtosis()', 0.0004197280994768658),\n",
       " ('fBodyGyro-bandsEnergy()-17,32', 0.0004199667658831671),\n",
       " ('tBodyGyro-arCoeff()-Z,4', 0.0004210018762171556),\n",
       " ('fBodyGyro-bandsEnergy()-25,32', 0.00042188683548019437),\n",
       " ('fBodyBodyAccJerkMag-kurtosis()', 0.00042243641823044143),\n",
       " ('fBodyBodyGyroJerkMag-max()', 0.0004278487682419833),\n",
       " ('fBodyGyro-mad()-Z', 0.0004279760736430857),\n",
       " ('tBodyGyroMag-mean()', 0.0004284658515489599),\n",
       " ('tBodyAcc-std()-Y', 0.000429236433781986),\n",
       " ('tBodyAcc-energy()-Z', 0.0004296303266917228),\n",
       " ('tBodyAccJerk-energy()-Z', 0.00043214709990336463),\n",
       " ('fBodyAcc-std()-Y', 0.000435015216207682),\n",
       " ('tBodyAcc-min()-X', 0.0004409407939287007),\n",
       " ('fBodyBodyAccJerkMag-skewness()', 0.00044247733765430446),\n",
       " ('tGravityAcc-entropy()-Z', 0.0004441776178326588),\n",
       " ('fBodyAcc-bandsEnergy()-1,16', 0.0004461505986079277),\n",
       " ('fBodyGyro-kurtosis()-X', 0.00045204155873615086),\n",
       " ('angle(tBodyGyroMean,gravityMean)', 0.0004553415003598428),\n",
       " ('fBodyAccJerk-mad()-Z', 0.00045957233466916006),\n",
       " ('fBodyAccJerk-energy()-Z', 0.00046870176436507386),\n",
       " ('fBodyAcc-max()-Z', 0.0004708444629262897),\n",
       " ('tBodyGyro-entropy()-Z', 0.00047314316835393537),\n",
       " ('fBodyAcc-skewness()-Z', 0.00047479994634768883),\n",
       " ('fBodyGyro-bandsEnergy()-17,24', 0.0004821415934852346),\n",
       " ('tBodyAcc-iqr()-Y', 0.00048395244180100757),\n",
       " ('fBodyGyro-mad()-Y', 0.0004920278659720658),\n",
       " ('fBodyAcc-mad()-Z', 0.0004955805508648514),\n",
       " ('angle(tBodyGyroJerkMean,gravityMean)', 0.0004956425109995266),\n",
       " ('fBodyGyro-skewness()-X', 0.0004990151072111802),\n",
       " ('tGravityAcc-iqr()-Y', 0.0005047359193273722),\n",
       " ('tBodyAccJerk-std()-Z', 0.0005149638963126765),\n",
       " ('tBodyGyro-arCoeff()-Y,1', 0.0005261585718412695),\n",
       " ('tBodyAcc-mad()-Y', 0.0005269458719602301),\n",
       " ('fBodyAcc-bandsEnergy()-1,24', 0.0005328156752249016),\n",
       " ('fBodyGyro-mean()-Z', 0.0005439448438700333),\n",
       " ('tBodyGyroJerk-correlation()-X,Z', 0.0005455465981206876),\n",
       " ('fBodyAcc-std()-Z', 0.0005469463367725882),\n",
       " ('tBodyGyro-mean()-Z', 0.0005470187317724726),\n",
       " ('tBodyGyro-min()-Z', 0.0005566333307646629),\n",
       " ('tBodyAcc-energy()-Y', 0.0005655413738821454),\n",
       " ('tBodyAcc-std()-Z', 0.0005709161299481478),\n",
       " ('tBodyGyro-energy()-Y', 0.0005734169744437899),\n",
       " ('tBodyGyroJerk-correlation()-Y,Z', 0.0005757894503885478),\n",
       " ('fBodyGyro-energy()-Y', 0.0005861756586339147),\n",
       " ('fBodyGyro-std()-Y', 0.0005873828522444057),\n",
       " ('fBodyGyro-mean()-Y', 0.0005895891577738504),\n",
       " ('tBodyGyro-std()-Z', 0.0005922905551293062),\n",
       " ('tGravityAcc-correlation()-X,Z', 0.0006154657061466504),\n",
       " ('fBodyGyro-energy()-Z', 0.0006154776653979778),\n",
       " ('tBodyAccJerk-max()-Z', 0.000619838014512131),\n",
       " ('fBodyBodyGyroMag-maxInds', 0.0006234531095713433),\n",
       " ('tGravityAcc-std()-Y', 0.0006239575458667435),\n",
       " ('fBodyBodyGyroJerkMag-std()', 0.0006250429337463368),\n",
       " ('fBodyAccJerk-bandsEnergy()-1,8', 0.0006251813104936872),\n",
       " ('tBodyGyro-std()-Y', 0.0006274332366863355),\n",
       " ('fBodyGyro-kurtosis()-Y', 0.0006298726909121635),\n",
       " ('fBodyGyro-iqr()-X', 0.0006327124333248271),\n",
       " ('tBodyAccMag-sma()', 0.0006339530798178774),\n",
       " ('tBodyGyroJerk-arCoeff()-X,3', 0.0006409071168596473),\n",
       " ('fBodyAcc-entropy()-Y', 0.0006441204748874285),\n",
       " ('fBodyAccJerk-iqr()-X', 0.0006585626681905767),\n",
       " ('tBodyGyroJerk-iqr()-Y', 0.0006651732139630654),\n",
       " ('fBodyGyro-skewness()-Z', 0.0006679315869000989),\n",
       " ('tBodyAccJerk-min()-Y', 0.0006814872551375121),\n",
       " ('tGravityAccMag-iqr()', 0.00068535281415622),\n",
       " ('tGravityAccMag-mean()', 0.0006913590224886266),\n",
       " ('fBodyAcc-bandsEnergy()-1,8', 0.0006982527174022494),\n",
       " ('fBodyGyro-skewness()-Y', 0.0007053366690996067),\n",
       " ('tBodyGyro-energy()-Z', 0.0007101181545241429),\n",
       " ('fBodyAcc-iqr()-X', 0.0007111096886324635),\n",
       " ('tBodyGyro-mad()-Z', 0.0007148853101190737),\n",
       " ('fBodyGyro-bandsEnergy()-1,16', 0.0007163866431017075),\n",
       " ('fBodyGyro-std()-Z', 0.0007267441056435441),\n",
       " ('fBodyGyro-bandsEnergy()-1,8', 0.0007358306646306073),\n",
       " ('fBodyAcc-kurtosis()-Y', 0.0007397642869793152),\n",
       " ('fBodyGyro-kurtosis()-Z', 0.0007462129494388437),\n",
       " ('fBodyGyro-entropy()-Z', 0.0007548372110162919),\n",
       " ('tBodyAcc-sma()', 0.0007590182900184861),\n",
       " ('fBodyAccJerk-mean()-Z', 0.0007658468630115445),\n",
       " ('tBodyAccMag-mean()', 0.0007735979948442893),\n",
       " ('tBodyGyro-correlation()-X,Z', 0.000779816823332044),\n",
       " ('fBodyGyro-max()-Y', 0.0007816193736932314),\n",
       " ('tBodyGyroJerk-correlation()-X,Y', 0.0007891959481307498),\n",
       " ('fBodyGyro-bandsEnergy()-1,24', 0.0007909043505999944),\n",
       " ('fBodyAcc-meanFreq()-Y', 0.000793163902652827),\n",
       " ('fBodyAcc-meanFreq()-X', 0.0007953996844512123),\n",
       " ('fBodyAccMag-iqr()', 0.0008049549207571012),\n",
       " ('tBodyGyro-mean()-X', 0.0008144690376680925),\n",
       " ('tGravityAcc-mad()-Y', 0.0008170274867918611),\n",
       " ('tBodyGyroJerk-energy()-Z', 0.0008481276729238625),\n",
       " ('tBodyGyroJerk-max()-X', 0.0008514785107768317),\n",
       " ('fBodyAccJerk-std()-Z', 0.0008812167670984676),\n",
       " ('tBodyGyro-arCoeff()-X,1', 0.0008925937720623859),\n",
       " ('tBodyGyro-iqr()-Z', 0.0009087713384295785),\n",
       " ('fBodyAcc-skewness()-Y', 0.0009163312392872248),\n",
       " ('tGravityAcc-iqr()-X', 0.0009457207107045028),\n",
       " ('tBodyAccJerkMag-std()', 0.0009541895111290574),\n",
       " ('fBodyBodyAccJerkMag-mad()', 0.0009671940612066788),\n",
       " ('tBodyAccMag-iqr()', 0.0009738036907665223),\n",
       " ('fBodyBodyAccJerkMag-max()', 0.000976392580405905),\n",
       " ('fBodyGyro-sma()', 0.0009790443187042402),\n",
       " ('fBodyGyro-max()-Z', 0.0010038053464163001),\n",
       " ('tBodyGyro-correlation()-X,Y', 0.0010069201502815892),\n",
       " ('fBodyAccJerk-mad()-Y', 0.001025200855852039),\n",
       " ('tBodyAccJerk-entropy()-Z', 0.0010283792241860927),\n",
       " ('fBodyAcc-max()-Y', 0.0010377157743589546),\n",
       " ('fBodyAcc-bandsEnergy()-17,32', 0.0010383176488825375),\n",
       " ('fBodyAccJerk-bandsEnergy()-17,24', 0.0010488398068864218),\n",
       " ('tBodyAccJerk-correlation()-X,Y', 0.0010528248783854277),\n",
       " ('tGravityAcc-mad()-X', 0.0010612486920317718),\n",
       " ('tGravityAccMag-sma()', 0.001063648407998087),\n",
       " ('fBodyAcc-bandsEnergy()-17,24', 0.0010678535775161156),\n",
       " ('tBodyGyroJerk-entropy()-X', 0.0010718116035638942),\n",
       " ('tBodyAcc-iqr()-X', 0.0010929280062631859),\n",
       " ('tGravityAcc-correlation()-Y,Z', 0.0011034089284577085),\n",
       " ('tBodyGyroJerk-min()-X', 0.0011040274473360443),\n",
       " ('tBodyGyroJerk-arCoeff()-X,1', 0.0011268989237407908),\n",
       " ('tBodyAccJerk-iqr()-Z', 0.0011326471881852138),\n",
       " ('fBodyAccJerk-mean()-Y', 0.0011487904307409),\n",
       " ('fBodyAccJerk-bandsEnergy()-17,32', 0.0011580638211591296),\n",
       " ('tBodyGyroMag-sma()', 0.0011657533297062875),\n",
       " ('tGravityAccMag-energy()', 0.001189106571648742),\n",
       " ('tBodyAcc-correlation()-X,Z', 0.0011895843232242282),\n",
       " ('fBodyAccJerk-bandsEnergy()-1,16', 0.0012024470970117159),\n",
       " ('fBodyAccJerk-bandsEnergy()-1,24', 0.0012897400611092372),\n",
       " ('tBodyAcc-entropy()-X', 0.0013498318070793128),\n",
       " ('fBodyBodyAccJerkMag-iqr()', 0.00135193154803097),\n",
       " ('fBodyAcc-skewness()-X', 0.0013792856460803262),\n",
       " ('fBodyAccMag-meanFreq()', 0.0014172460669906529),\n",
       " ('fBodyBodyGyroMag-meanFreq()', 0.0014966359392617787),\n",
       " ('fBodyBodyAccJerkMag-sma()', 0.0015190804625470242),\n",
       " ('tBodyAccJerk-energy()-Y', 0.001548768050333346),\n",
       " ('fBodyAccJerk-maxInds-Z', 0.0016675725016261683),\n",
       " ('fBodyAcc-kurtosis()-X', 0.0016807887638445437),\n",
       " ('tBodyGyro-correlation()-Y,Z', 0.0017214448453675855),\n",
       " ('tGravityAccMag-arCoeff()2', 0.001729262691833608),\n",
       " ('tBodyGyroJerk-std()-X', 0.0017385749972255475),\n",
       " ('tBodyGyro-mad()-Y', 0.0017543303323438251),\n",
       " ('tBodyGyro-min()-X', 0.0017545220377534006),\n",
       " ('fBodyBodyAccJerkMag-mean()', 0.0017731875275250485),\n",
       " ('fBodyAccJerk-entropy()-Y', 0.0017735961421104405),\n",
       " ('fBodyBodyAccJerkMag-std()', 0.0017801577207672418),\n",
       " ('tBodyAccJerk-std()-Y', 0.0018043496937983888),\n",
       " ('tBodyGyroJerk-energy()-X', 0.0018288336027706617),\n",
       " ('tBodyGyro-energy()-X', 0.0018734008263756594),\n",
       " ('tBodyAccMag-arCoeff()2', 0.001946922757014847),\n",
       " ('fBodyGyro-maxInds-Y', 0.0019529092678403626),\n",
       " ('fBodyAcc-sma()', 0.0019657054513245622),\n",
       " ('fBodyGyro-entropy()-X', 0.001990088312016297),\n",
       " ('fBodyGyro-maxInds-X', 0.0020230467711097374),\n",
       " ('tBodyGyroJerk-entropy()-Z', 0.0020251458589479656),\n",
       " ('fBodyGyro-energy()-X', 0.0020304177585570783),\n",
       " ('fBodyAccJerk-maxInds-X', 0.002115072009630556),\n",
       " ('fBodyGyro-mean()-X', 0.002120128081001054),\n",
       " ('fBodyAcc-meanFreq()-Z', 0.0021637061987322633),\n",
       " ('tBodyAccMag-energy()', 0.002206981526404929),\n",
       " ('tBodyGyroJerk-mad()-X', 0.002225125492229742),\n",
       " ('fBodyAccJerk-max()-Y', 0.0022351497571892164),\n",
       " ('fBodyGyro-mad()-X', 0.002248332495834656),\n",
       " ('tBodyGyro-entropy()-X', 0.0022889585161205333),\n",
       " ('fBodyGyro-max()-X', 0.002289820652177481),\n",
       " ('fBodyBodyAccJerkMag-energy()', 0.002341265537527388),\n",
       " ('tBodyAccJerk-mad()-Z', 0.0023590899806360025),\n",
       " ('tBodyGyro-std()-X', 0.002397876957858415),\n",
       " ('tGravityAccMag-max()', 0.002427773042516704),\n",
       " ('tGravityAcc-std()-X', 0.002449519338260713),\n",
       " ('tGravityAcc-arCoeff()-X,4', 0.0024648186724497353),\n",
       " ('tBodyGyro-iqr()-Y', 0.0024748844714632162),\n",
       " ('fBodyAccMag-entropy()', 0.0024793510961138602),\n",
       " ('tGravityAcc-entropy()-X', 0.002522421845116104),\n",
       " ('tGravityAcc-correlation()-X,Y', 0.002527476541183191),\n",
       " ('tBodyGyro-mad()-X', 0.0025360830514182813),\n",
       " ('fBodyAccJerk-energy()-Y', 0.0025384213893012465),\n",
       " ('tBodyAccMag-max()', 0.0025880384156727917),\n",
       " ('tBodyAccJerk-entropy()-Y', 0.002617010354286157),\n",
       " ('tBodyGyro-iqr()-X', 0.0026230193670944727),\n",
       " ('tBodyGyro-max()-X', 0.0027269140902405962),\n",
       " ('fBodyGyro-std()-X', 0.0027446545746230185),\n",
       " ('tBodyGyroJerkMag-mean()', 0.0027780206641352684),\n",
       " ('tBodyAccJerkMag-mad()', 0.0028549399102782186),\n",
       " ('fBodyAccMag-max()', 0.0028602648537301685),\n",
       " ('tBodyGyroJerk-iqr()-X', 0.0028959128874571248),\n",
       " ('tBodyAcc-correlation()-Y,Z', 0.0029162553881115177),\n",
       " ('tBodyGyroJerk-mad()-Z', 0.002971267344547421),\n",
       " ('fBodyAcc-std()-X', 0.0030391768120552045),\n",
       " ('tBodyGyroJerk-sma()', 0.0031288121105345137),\n",
       " ('tBodyAcc-mad()-X', 0.003167016749640834),\n",
       " ('tBodyAccJerk-max()-X', 0.0031919535041929105),\n",
       " ('tGravityAcc-arCoeff()-Y,4', 0.003231750390608002),\n",
       " ('fBodyAcc-max()-X', 0.0032388879144542933),\n",
       " ('fBodyAccJerk-sma()', 0.0033878284265097896),\n",
       " ('fBodyGyro-meanFreq()-X', 0.003397139020029234),\n",
       " ('tGravityAcc-arCoeff()-X,3', 0.0033989474060597664),\n",
       " ('tGravityAcc-sma()', 0.003488870148645966),\n",
       " ('fBodyAccMag-mean()', 0.003605511330943333),\n",
       " ('tBodyAccJerkMag-entropy()', 0.0036072812547292884),\n",
       " ('tBodyAccJerkMag-iqr()', 0.003670495022104842),\n",
       " ('fBodyAccJerk-std()-Y', 0.003747924113982069),\n",
       " ('tBodyAccJerk-mad()-Y', 0.0037979192107585073),\n",
       " ('tBodyAcc-std()-X', 0.003891625985172786),\n",
       " ('tBodyAccJerk-iqr()-Y', 0.003925471239014112),\n",
       " ('fBodyAccJerk-mad()-X', 0.004004510589017267),\n",
       " ('fBodyAcc-entropy()-X', 0.0040985407170208215),\n",
       " ('tBodyAccMag-arCoeff()1', 0.0041481690516596125),\n",
       " ('tBodyAccJerk-sma()', 0.004361753601757366),\n",
       " ('tBodyAccJerkMag-mean()', 0.004436823494976591),\n",
       " ('fBodyAccJerk-std()-X', 0.004480634529379329),\n",
       " ('fBodyAcc-energy()-X', 0.0048375270796571215),\n",
       " ('tBodyAccJerkMag-energy()', 0.004916480853574304),\n",
       " ('tBodyAcc-energy()-X', 0.00511978423544547),\n",
       " ('fBodyGyro-maxInds-Z', 0.005237347314482695),\n",
       " ('tBodyAccMag-mad()', 0.005288078012926074),\n",
       " ('fBodyAccJerk-max()-X', 0.005374959417891161),\n",
       " ('tGravityAcc-arCoeff()-Z,4', 0.005377801337831319),\n",
       " ('tGravityAcc-arCoeff()-X,1', 0.005391276892514073),\n",
       " ('fBodyAccMag-sma()', 0.005463358393411132),\n",
       " ('tBodyAccJerk-entropy()-X', 0.005464838710103495),\n",
       " ('tGravityAcc-arCoeff()-Y,3', 0.005465673376024085),\n",
       " ('tGravityAccMag-arCoeff()1', 0.005543696396074478),\n",
       " ('tGravityAcc-arCoeff()-X,2', 0.005578959924862464),\n",
       " ('tBodyAcc-correlation()-X,Y', 0.0056178102162323254),\n",
       " ('tGravityAcc-arCoeff()-Y,1', 0.005780260387827523),\n",
       " ('tBodyAccJerkMag-sma()', 0.006017012109345659),\n",
       " ('tBodyAccJerk-mad()-X', 0.006165527892197638),\n",
       " ('tGravityAccMag-mad()', 0.006213044675293215),\n",
       " ('tBodyGyroJerk-iqr()-Z', 0.006283048114246788),\n",
       " ('tBodyAccJerk-iqr()-X', 0.006352668670967035),\n",
       " ('fBodyAcc-mean()-X', 0.006357478803875699),\n",
       " ('fBodyAccJerk-entropy()-X', 0.0065005623001312554),\n",
       " ('tBodyAccJerk-std()-X', 0.006978721897606717),\n",
       " ('tGravityAcc-arCoeff()-Y,2', 0.007008380903367096),\n",
       " ('tBodyAcc-max()-X', 0.007024376590806755),\n",
       " ('tGravityAcc-entropy()-Y', 0.0071429976980921924),\n",
       " ('tBodyAccJerk-energy()-X', 0.007335444480390929),\n",
       " ('fBodyAccJerk-mean()-X', 0.0073544777736974385),\n",
       " ('tGravityAcc-energy()-Z', 0.00772104784690202),\n",
       " ('fBodyAcc-mad()-X', 0.008253718710028241),\n",
       " ('fBodyAccMag-mad()', 0.008294112906221994),\n",
       " ('tBodyAccMag-std()', 0.008298881693559237),\n",
       " ('fBodyAccJerk-energy()-X', 0.008485928581562966),\n",
       " ('fBodyAccMag-std()', 0.008526883281074513),\n",
       " ('tGravityAcc-max()-Z', 0.008944076844869798),\n",
       " ('tGravityAcc-arCoeff()-Z,1', 0.008991950259645567),\n",
       " ('tGravityAcc-mean()-Z', 0.009062758983818598),\n",
       " ('tGravityAcc-arCoeff()-Z,3', 0.009242324765397342),\n",
       " ('fBodyAccMag-energy()', 0.009457900694152447),\n",
       " ('angle(Z,gravityMean)', 0.009522437885474404),\n",
       " ('tGravityAccMag-std()', 0.010423702343169803),\n",
       " ('tGravityAcc-min()-Z', 0.010451390077398074),\n",
       " ('tGravityAcc-arCoeff()-Z,2', 0.010552723257815968),\n",
       " ('tGravityAcc-energy()-Y', 0.01579407636810581),\n",
       " ('tGravityAcc-min()-Y', 0.02339897976119482),\n",
       " ('tGravityAcc-max()-X', 0.02341361680182947),\n",
       " ('tGravityAcc-energy()-X', 0.024597253647712834),\n",
       " ('tGravityAcc-max()-Y', 0.02468428544436485),\n",
       " ('angle(Y,gravityMean)', 0.024800831341755338),\n",
       " ('tGravityAcc-mean()-Y', 0.027619027418676764),\n",
       " ('angle(X,gravityMean)', 0.029082822887639942),\n",
       " ('tGravityAcc-mean()-X', 0.03191646425636396),\n",
       " ('tGravityAcc-min()-X', 0.03295574359144732)]"
      ]
     },
     "execution_count": 118,
     "metadata": {},
     "output_type": "execute_result"
    }
   ],
   "source": [
    "score_import"
   ]
  },
  {
   "cell_type": "code",
   "execution_count": 119,
   "id": "85fea274",
   "metadata": {},
   "outputs": [
    {
     "data": {
      "text/plain": [
       "[('tGravityAcc-energy()-Y', 0.01579407636810581),\n",
       " ('tGravityAcc-min()-Y', 0.02339897976119482),\n",
       " ('tGravityAcc-max()-X', 0.02341361680182947),\n",
       " ('tGravityAcc-energy()-X', 0.024597253647712834),\n",
       " ('tGravityAcc-max()-Y', 0.02468428544436485),\n",
       " ('angle(Y,gravityMean)', 0.024800831341755338),\n",
       " ('tGravityAcc-mean()-Y', 0.027619027418676764),\n",
       " ('angle(X,gravityMean)', 0.029082822887639942),\n",
       " ('tGravityAcc-mean()-X', 0.03191646425636396),\n",
       " ('tGravityAcc-min()-X', 0.03295574359144732)]"
      ]
     },
     "execution_count": 119,
     "metadata": {},
     "output_type": "execute_result"
    }
   ],
   "source": [
    "feature_top_10 = score_import[-10:]  # 특성 중요도 상위 10개만 추출\n",
    "feature_top_10"
   ]
  },
  {
   "cell_type": "markdown",
   "id": "fcd8b3b7",
   "metadata": {},
   "source": [
    "# 5주차 10p. 오차행렬"
   ]
  },
  {
   "cell_type": "markdown",
   "id": "bc693d30",
   "metadata": {},
   "source": [
    "## sgd_clf 사용"
   ]
  },
  {
   "cell_type": "code",
   "execution_count": 233,
   "id": "5d2858d0",
   "metadata": {},
   "outputs": [
    {
     "data": {
      "text/plain": [
       "array([0.97826087, 0.85733696, 0.94693878, 0.80680272, 0.90884354,\n",
       "       0.91020408, 0.97142857, 0.91020408, 0.95646259, 0.94693878])"
      ]
     },
     "execution_count": 233,
     "metadata": {},
     "output_type": "execute_result"
    }
   ],
   "source": [
    "from sklearn.model_selection import cross_val_predict\n",
    "from sklearn.model_selection import cross_val_score\n",
    "from sklearn.linear_model import SGDClassifier\n",
    "\n",
    "sgd_clf = SGDClassifier(max_iter=5, tol=-np.infty, random_state=42)\n",
    "sgd_clf.fit(X_train, y_train)\n",
    "cross_val_score(sgd_clf, X_train, y_train, cv=10, scoring=\"accuracy\")"
   ]
  },
  {
   "cell_type": "code",
   "execution_count": 234,
   "id": "90bc6a52",
   "metadata": {},
   "outputs": [
    {
     "data": {
      "text/plain": [
       "array([[1402,    2,    2,    0,    1,    0],\n",
       "       [  12, 1109,  165,    0,    0,    0],\n",
       "       [   0,  130, 1244,    0,    0,    0],\n",
       "       [   0,    2,    1, 1132,   20,   71],\n",
       "       [   0,    0,    0,   18,  879,   89],\n",
       "       [   0,   11,    0,   38,   31,  993]], dtype=int64)"
      ]
     },
     "execution_count": 234,
     "metadata": {},
     "output_type": "execute_result"
    }
   ],
   "source": [
    "y_train_pred = cross_val_predict(sgd_clf, X_train, y_train, cv=10)\n",
    "from sklearn.metrics import confusion_matrix\n",
    "confusion_matrix(y_train, y_train_pred)"
   ]
  },
  {
   "cell_type": "code",
   "execution_count": 235,
   "id": "10e40833",
   "metadata": {},
   "outputs": [
    {
     "data": {
      "text/plain": [
       "array([[1407,    0,    0,    0,    0,    0],\n",
       "       [   0, 1286,    0,    0,    0,    0],\n",
       "       [   0,    0, 1374,    0,    0,    0],\n",
       "       [   0,    0,    0, 1226,    0,    0],\n",
       "       [   0,    0,    0,    0,  986,    0],\n",
       "       [   0,    0,    0,    0,    0, 1073]], dtype=int64)"
      ]
     },
     "execution_count": 235,
     "metadata": {},
     "output_type": "execute_result"
    }
   ],
   "source": [
    "y_train_perfect_predictions = y_train\n",
    "confusion_matrix(y_train, y_train_perfect_predictions)"
   ]
  },
  {
   "cell_type": "markdown",
   "id": "0eaf58b9",
   "metadata": {},
   "source": [
    "# 행렬 섞기 using random.permutation"
   ]
  },
  {
   "cell_type": "code",
   "execution_count": 15,
   "id": "08b797b6",
   "metadata": {},
   "outputs": [],
   "source": [
    "random_matrix = np.random.permutation(7352)\n",
    "X_train, y_train = X_train[random_matrix], y_train[random_matrix]"
   ]
  },
  {
   "cell_type": "code",
   "execution_count": 19,
   "id": "a922bfbf",
   "metadata": {},
   "outputs": [
    {
     "data": {
      "text/html": [
       "<div>\n",
       "<style scoped>\n",
       "    .dataframe tbody tr th:only-of-type {\n",
       "        vertical-align: middle;\n",
       "    }\n",
       "\n",
       "    .dataframe tbody tr th {\n",
       "        vertical-align: top;\n",
       "    }\n",
       "\n",
       "    .dataframe thead th {\n",
       "        text-align: right;\n",
       "    }\n",
       "</style>\n",
       "<table border=\"1\" class=\"dataframe\">\n",
       "  <thead>\n",
       "    <tr style=\"text-align: right;\">\n",
       "      <th></th>\n",
       "      <th>tBodyAcc-mean()-X</th>\n",
       "      <th>tBodyAcc-mean()-Y</th>\n",
       "      <th>tBodyAcc-mean()-Z</th>\n",
       "      <th>tBodyAcc-std()-X</th>\n",
       "      <th>tBodyAcc-std()-Y</th>\n",
       "      <th>tBodyAcc-std()-Z</th>\n",
       "      <th>tBodyAcc-mad()-X</th>\n",
       "      <th>tBodyAcc-mad()-Y</th>\n",
       "      <th>tBodyAcc-mad()-Z</th>\n",
       "      <th>tBodyAcc-max()-X</th>\n",
       "      <th>...</th>\n",
       "      <th>fBodyBodyGyroJerkMag-kurtosis()</th>\n",
       "      <th>angle(tBodyAccMean,gravity)</th>\n",
       "      <th>angle(tBodyAccJerkMean),gravityMean)</th>\n",
       "      <th>angle(tBodyGyroMean,gravityMean)</th>\n",
       "      <th>angle(tBodyGyroJerkMean,gravityMean)</th>\n",
       "      <th>angle(X,gravityMean)</th>\n",
       "      <th>angle(Y,gravityMean)</th>\n",
       "      <th>angle(Z,gravityMean)</th>\n",
       "      <th>subject</th>\n",
       "      <th>Activity</th>\n",
       "    </tr>\n",
       "  </thead>\n",
       "  <tbody>\n",
       "    <tr>\n",
       "      <th>0</th>\n",
       "      <td>0.288585</td>\n",
       "      <td>-0.020294</td>\n",
       "      <td>-0.132905</td>\n",
       "      <td>-0.995279</td>\n",
       "      <td>-0.983111</td>\n",
       "      <td>-0.913526</td>\n",
       "      <td>-0.995112</td>\n",
       "      <td>-0.983185</td>\n",
       "      <td>-0.923527</td>\n",
       "      <td>-0.934724</td>\n",
       "      <td>...</td>\n",
       "      <td>-0.710304</td>\n",
       "      <td>-0.112754</td>\n",
       "      <td>0.030400</td>\n",
       "      <td>-0.464761</td>\n",
       "      <td>-0.018446</td>\n",
       "      <td>-0.841247</td>\n",
       "      <td>0.179941</td>\n",
       "      <td>-0.058627</td>\n",
       "      <td>1</td>\n",
       "      <td>STANDING</td>\n",
       "    </tr>\n",
       "    <tr>\n",
       "      <th>1</th>\n",
       "      <td>0.278419</td>\n",
       "      <td>-0.016411</td>\n",
       "      <td>-0.123520</td>\n",
       "      <td>-0.998245</td>\n",
       "      <td>-0.975300</td>\n",
       "      <td>-0.960322</td>\n",
       "      <td>-0.998807</td>\n",
       "      <td>-0.974914</td>\n",
       "      <td>-0.957686</td>\n",
       "      <td>-0.943068</td>\n",
       "      <td>...</td>\n",
       "      <td>-0.861499</td>\n",
       "      <td>0.053477</td>\n",
       "      <td>-0.007435</td>\n",
       "      <td>-0.732626</td>\n",
       "      <td>0.703511</td>\n",
       "      <td>-0.844788</td>\n",
       "      <td>0.180289</td>\n",
       "      <td>-0.054317</td>\n",
       "      <td>1</td>\n",
       "      <td>STANDING</td>\n",
       "    </tr>\n",
       "    <tr>\n",
       "      <th>2</th>\n",
       "      <td>0.279653</td>\n",
       "      <td>-0.019467</td>\n",
       "      <td>-0.113462</td>\n",
       "      <td>-0.995380</td>\n",
       "      <td>-0.967187</td>\n",
       "      <td>-0.978944</td>\n",
       "      <td>-0.996520</td>\n",
       "      <td>-0.963668</td>\n",
       "      <td>-0.977469</td>\n",
       "      <td>-0.938692</td>\n",
       "      <td>...</td>\n",
       "      <td>-0.760104</td>\n",
       "      <td>-0.118559</td>\n",
       "      <td>0.177899</td>\n",
       "      <td>0.100699</td>\n",
       "      <td>0.808529</td>\n",
       "      <td>-0.848933</td>\n",
       "      <td>0.180637</td>\n",
       "      <td>-0.049118</td>\n",
       "      <td>1</td>\n",
       "      <td>STANDING</td>\n",
       "    </tr>\n",
       "    <tr>\n",
       "      <th>3</th>\n",
       "      <td>0.279174</td>\n",
       "      <td>-0.026201</td>\n",
       "      <td>-0.123283</td>\n",
       "      <td>-0.996091</td>\n",
       "      <td>-0.983403</td>\n",
       "      <td>-0.990675</td>\n",
       "      <td>-0.997099</td>\n",
       "      <td>-0.982750</td>\n",
       "      <td>-0.989302</td>\n",
       "      <td>-0.938692</td>\n",
       "      <td>...</td>\n",
       "      <td>-0.482845</td>\n",
       "      <td>-0.036788</td>\n",
       "      <td>-0.012892</td>\n",
       "      <td>0.640011</td>\n",
       "      <td>-0.485366</td>\n",
       "      <td>-0.848649</td>\n",
       "      <td>0.181935</td>\n",
       "      <td>-0.047663</td>\n",
       "      <td>1</td>\n",
       "      <td>STANDING</td>\n",
       "    </tr>\n",
       "    <tr>\n",
       "      <th>4</th>\n",
       "      <td>0.276629</td>\n",
       "      <td>-0.016570</td>\n",
       "      <td>-0.115362</td>\n",
       "      <td>-0.998139</td>\n",
       "      <td>-0.980817</td>\n",
       "      <td>-0.990482</td>\n",
       "      <td>-0.998321</td>\n",
       "      <td>-0.979672</td>\n",
       "      <td>-0.990441</td>\n",
       "      <td>-0.942469</td>\n",
       "      <td>...</td>\n",
       "      <td>-0.699205</td>\n",
       "      <td>0.123320</td>\n",
       "      <td>0.122542</td>\n",
       "      <td>0.693578</td>\n",
       "      <td>-0.615971</td>\n",
       "      <td>-0.847865</td>\n",
       "      <td>0.185151</td>\n",
       "      <td>-0.043892</td>\n",
       "      <td>1</td>\n",
       "      <td>STANDING</td>\n",
       "    </tr>\n",
       "  </tbody>\n",
       "</table>\n",
       "<p>5 rows × 563 columns</p>\n",
       "</div>"
      ],
      "text/plain": [
       "   tBodyAcc-mean()-X  tBodyAcc-mean()-Y  tBodyAcc-mean()-Z  tBodyAcc-std()-X  \\\n",
       "0           0.288585          -0.020294          -0.132905         -0.995279   \n",
       "1           0.278419          -0.016411          -0.123520         -0.998245   \n",
       "2           0.279653          -0.019467          -0.113462         -0.995380   \n",
       "3           0.279174          -0.026201          -0.123283         -0.996091   \n",
       "4           0.276629          -0.016570          -0.115362         -0.998139   \n",
       "\n",
       "   tBodyAcc-std()-Y  tBodyAcc-std()-Z  tBodyAcc-mad()-X  tBodyAcc-mad()-Y  \\\n",
       "0         -0.983111         -0.913526         -0.995112         -0.983185   \n",
       "1         -0.975300         -0.960322         -0.998807         -0.974914   \n",
       "2         -0.967187         -0.978944         -0.996520         -0.963668   \n",
       "3         -0.983403         -0.990675         -0.997099         -0.982750   \n",
       "4         -0.980817         -0.990482         -0.998321         -0.979672   \n",
       "\n",
       "   tBodyAcc-mad()-Z  tBodyAcc-max()-X  ...  fBodyBodyGyroJerkMag-kurtosis()  \\\n",
       "0         -0.923527         -0.934724  ...                        -0.710304   \n",
       "1         -0.957686         -0.943068  ...                        -0.861499   \n",
       "2         -0.977469         -0.938692  ...                        -0.760104   \n",
       "3         -0.989302         -0.938692  ...                        -0.482845   \n",
       "4         -0.990441         -0.942469  ...                        -0.699205   \n",
       "\n",
       "   angle(tBodyAccMean,gravity)  angle(tBodyAccJerkMean),gravityMean)  \\\n",
       "0                    -0.112754                              0.030400   \n",
       "1                     0.053477                             -0.007435   \n",
       "2                    -0.118559                              0.177899   \n",
       "3                    -0.036788                             -0.012892   \n",
       "4                     0.123320                              0.122542   \n",
       "\n",
       "   angle(tBodyGyroMean,gravityMean)  angle(tBodyGyroJerkMean,gravityMean)  \\\n",
       "0                         -0.464761                             -0.018446   \n",
       "1                         -0.732626                              0.703511   \n",
       "2                          0.100699                              0.808529   \n",
       "3                          0.640011                             -0.485366   \n",
       "4                          0.693578                             -0.615971   \n",
       "\n",
       "   angle(X,gravityMean)  angle(Y,gravityMean)  angle(Z,gravityMean)  subject  \\\n",
       "0             -0.841247              0.179941             -0.058627        1   \n",
       "1             -0.844788              0.180289             -0.054317        1   \n",
       "2             -0.848933              0.180637             -0.049118        1   \n",
       "3             -0.848649              0.181935             -0.047663        1   \n",
       "4             -0.847865              0.185151             -0.043892        1   \n",
       "\n",
       "   Activity  \n",
       "0  STANDING  \n",
       "1  STANDING  \n",
       "2  STANDING  \n",
       "3  STANDING  \n",
       "4  STANDING  \n",
       "\n",
       "[5 rows x 563 columns]"
      ]
     },
     "execution_count": 19,
     "metadata": {},
     "output_type": "execute_result"
    }
   ],
   "source": [
    "df_train.head()"
   ]
  },
  {
   "cell_type": "code",
   "execution_count": 49,
   "id": "e344bef5",
   "metadata": {},
   "outputs": [
    {
     "data": {
      "text/plain": [
       "array([[0.27808522, -0.016763951, -0.10948183, ..., -0.28060117, 15,\n",
       "        'LAYING'],\n",
       "       [0.31802397, -0.052695467, -0.10073269, ..., -0.20246674, 25,\n",
       "        'WALKING_DOWNSTAIRS'],\n",
       "       [0.2866066, 0.003880909, -0.087586916, ..., 0.36803801, 14,\n",
       "        'WALKING_UPSTAIRS'],\n",
       "       [0.1813668, -0.046876094, -0.085992775, ..., 0.33031835, 17,\n",
       "        'WALKING_UPSTAIRS'],\n",
       "       [0.27308245, -0.025258983, -0.097738165, ..., -0.16921216, 30,\n",
       "        'SITTING']], dtype=object)"
      ]
     },
     "execution_count": 49,
     "metadata": {},
     "output_type": "execute_result"
    }
   ],
   "source": [
    "train_new = df_train\n",
    "train_new = train_new.to_numpy()\n",
    "train_new = np.random.permutation(train_new)\n",
    "train_new = train_new[10:15]\n",
    "train_new"
   ]
  },
  {
   "cell_type": "code",
   "execution_count": 64,
   "id": "236018a5",
   "metadata": {},
   "outputs": [
    {
     "data": {
      "text/plain": [
       "array(['LAYING', 'WALKING_DOWNSTAIRS', 'WALKING_UPSTAIRS',\n",
       "       'WALKING_UPSTAIRS', 'SITTING'], dtype=object)"
      ]
     },
     "execution_count": 64,
     "metadata": {},
     "output_type": "execute_result"
    }
   ],
   "source": [
    "X_train_new = train_new[:, :-2]\n",
    "X_train_new\n",
    "y_train_new = train_new[:, -1]\n",
    "y_train_new"
   ]
  },
  {
   "cell_type": "code",
   "execution_count": 65,
   "id": "a5d91a29",
   "metadata": {},
   "outputs": [],
   "source": [
    "random_matrix_new = np.random.permutation(5)\n",
    "X_train_new_new, y_train_new_new = X_train_new[random_matrix_new], y_train_new[random_matrix_new]"
   ]
  },
  {
   "cell_type": "code",
   "execution_count": 66,
   "id": "d5e08501",
   "metadata": {},
   "outputs": [
    {
     "data": {
      "text/plain": [
       "array([[0.2866066, 0.003880909, -0.087586916, ..., -0.40471506,\n",
       "        0.31590057, 0.36803801],\n",
       "       [0.1813668, -0.046876094, -0.085992775, ..., -0.52018007,\n",
       "        0.23119257, 0.33031835],\n",
       "       [0.27308245, -0.025258983, -0.097738165, ..., -0.74104961,\n",
       "        0.079120214, -0.16921216],\n",
       "       [0.27808522, -0.016763951, -0.10948183, ..., 0.45083316,\n",
       "        -0.69983334, -0.28060117],\n",
       "       [0.31802397, -0.052695467, -0.10073269, ..., -0.69249915,\n",
       "        0.12715487, -0.20246674]], dtype=object)"
      ]
     },
     "execution_count": 66,
     "metadata": {},
     "output_type": "execute_result"
    }
   ],
   "source": [
    "X_train_new_new"
   ]
  },
  {
   "cell_type": "code",
   "execution_count": 67,
   "id": "0fc73f53",
   "metadata": {},
   "outputs": [
    {
     "data": {
      "text/plain": [
       "array(['WALKING_UPSTAIRS', 'WALKING_UPSTAIRS', 'SITTING', 'LAYING',\n",
       "       'WALKING_DOWNSTAIRS'], dtype=object)"
      ]
     },
     "execution_count": 67,
     "metadata": {},
     "output_type": "execute_result"
    }
   ],
   "source": [
    "y_train_new_new"
   ]
  },
  {
   "cell_type": "markdown",
   "id": "07692d04",
   "metadata": {},
   "source": [
    "## RandomForestClassifier"
   ]
  },
  {
   "cell_type": "code",
   "execution_count": 320,
   "id": "fd6e2a28",
   "metadata": {},
   "outputs": [
    {
     "data": {
      "text/plain": [
       "array([0.92798913, 0.94293478, 0.93469388, 0.92517007, 0.92517007,\n",
       "       0.94013605, 0.94421769, 0.93469388, 0.93061224, 0.93741497])"
      ]
     },
     "execution_count": 320,
     "metadata": {},
     "output_type": "execute_result"
    }
   ],
   "source": [
    "from sklearn.ensemble import RandomForestClassifier\n",
    "rnd_clf = RandomForestClassifier(n_estimators=500, max_leaf_nodes = 16, n_jobs = -1, random_state = 42)\n",
    "rnd_clf.fit(X_train, y_train)\n",
    "cross_val_score(rnd_clf, X_train, y_train, cv=10, scoring=\"accuracy\")"
   ]
  },
  {
   "cell_type": "code",
   "execution_count": 321,
   "id": "b5be155a",
   "metadata": {},
   "outputs": [
    {
     "data": {
      "text/plain": [
       "0.9334854709999998"
      ]
     },
     "execution_count": 321,
     "metadata": {},
     "output_type": "execute_result"
    }
   ],
   "source": [
    "np.mean([0.93070652, 0.95108696, 0.93469388, 0.91156463, 0.93061224,\n",
    "       0.93469388, 0.93197279, 0.9414966 , 0.9292517 , 0.93877551])  # 랜덤 포레스트 평균 0.933"
   ]
  },
  {
   "cell_type": "code",
   "execution_count": 259,
   "id": "bb5f2856",
   "metadata": {},
   "outputs": [
    {
     "data": {
      "text/plain": [
       "array([0.9701087 , 0.95380435, 0.96326531, 0.95646259, 0.94693878,\n",
       "       0.93061224, 0.96462585, 0.97414966, 0.95510204, 0.97278912])"
      ]
     },
     "execution_count": 259,
     "metadata": {},
     "output_type": "execute_result"
    }
   ],
   "source": [
    "from sklearn.model_selection import cross_val_predict\n",
    "from sklearn.model_selection import cross_val_score\n",
    "from sklearn.linear_model import SGDClassifier\n",
    "\n",
    "\n",
    "sgd_clf = SGDClassifier(max_iter=5, tol=-np.infty, random_state=42)\n",
    "sgd_clf.fit(X_train, y_train)\n",
    "cross_val_score(sgd_clf, X_train, y_train, cv=10, scoring=\"accuracy\")"
   ]
  },
  {
   "cell_type": "code",
   "execution_count": 260,
   "id": "d14d0f69",
   "metadata": {},
   "outputs": [
    {
     "data": {
      "text/plain": [
       "0.958785864"
      ]
     },
     "execution_count": 260,
     "metadata": {},
     "output_type": "execute_result"
    }
   ],
   "source": [
    "np.mean([0.9701087 , 0.95380435, 0.96326531, 0.95646259, 0.94693878,\n",
    "       0.93061224, 0.96462585, 0.97414966, 0.95510204, 0.97278912])  # SGD 평균: 0.959"
   ]
  },
  {
   "cell_type": "markdown",
   "id": "864c5a36",
   "metadata": {},
   "source": [
    "# Use Bagging"
   ]
  },
  {
   "cell_type": "code",
   "execution_count": 280,
   "id": "e406be9a",
   "metadata": {},
   "outputs": [
    {
     "data": {
      "text/plain": [
       "VotingClassifier(estimators=[('lr',\n",
       "                              LogisticRegression(random_state=42,\n",
       "                                                 solver='liblinear')),\n",
       "                             ('rf', RandomForestClassifier(random_state=42)),\n",
       "                             ('svc',\n",
       "                              SVC(gamma='auto', probability=True,\n",
       "                                  random_state=42)),\n",
       "                             ('sgd',\n",
       "                              SGDClassifier(max_iter=5, random_state=42,\n",
       "                                            tol=-inf))])"
      ]
     },
     "execution_count": 280,
     "metadata": {},
     "output_type": "execute_result"
    }
   ],
   "source": [
    "from sklearn.ensemble import RandomForestClassifier\n",
    "from sklearn.ensemble import VotingClassifier\n",
    "from sklearn.linear_model import LogisticRegression\n",
    "from sklearn.svm import SVC\n",
    "from sklearn.linear_model import SGDClassifier\n",
    "\n",
    "\n",
    "log_clf = LogisticRegression(solver=\"liblinear\", C=10, random_state=42)\n",
    "rnd_clf = RandomForestClassifier(n_estimators=100, random_state=42)\n",
    "svm_clf = SVC(gamma=\"auto\", probability=True, random_state=42)\n",
    "sgd_clf = SGDClassifier(max_iter=5, tol=-np.infty, random_state=42)\n",
    "\n",
    "voting_clf = VotingClassifier(\n",
    "    estimators=[('lr', log_clf), ('rf', rnd_clf), ('svc', svm_clf), ('sgd', sgd_clf)],\n",
    "    voting='hard'\n",
    ")\n",
    "voting_clf.fit(X_train, y_train)"
   ]
  },
  {
   "cell_type": "code",
   "execution_count": 281,
   "id": "96415a72",
   "metadata": {},
   "outputs": [
    {
     "name": "stdout",
     "output_type": "stream",
     "text": [
      "LogisticRegression 0.9619952494061758\n",
      "RandomForestClassifier 0.9273837801153716\n",
      "SVC 0.9402782490668476\n",
      "SGDClassifier 0.9379029521547336\n",
      "VotingClassifier 0.9487614523243977\n"
     ]
    }
   ],
   "source": [
    "from sklearn.metrics import accuracy_score\n",
    "for clf in (log_clf, rnd_clf, svm_clf, sgd_clf, voting_clf):\n",
    "    clf.fit(X_train, y_train)\n",
    "    y_pred = clf.predict(X_test)\n",
    "    print(clf.__class__.__name__, accuracy_score(y_test, y_pred))"
   ]
  },
  {
   "cell_type": "code",
   "execution_count": 283,
   "id": "a851545c",
   "metadata": {},
   "outputs": [
    {
     "data": {
      "text/plain": [
       "array([0.98097826, 0.98369565, 0.96870748, 0.97687075, 0.97823129,\n",
       "       0.98503401, 0.98503401, 0.97687075, 0.9755102 , 0.98639456])"
      ]
     },
     "execution_count": 283,
     "metadata": {},
     "output_type": "execute_result"
    }
   ],
   "source": [
    "cross_val_score(voting_clf, X_train, y_train, cv=10, scoring=\"accuracy\")"
   ]
  },
  {
   "cell_type": "code",
   "execution_count": null,
   "id": "f89cea35",
   "metadata": {},
   "outputs": [],
   "source": [
    "cross_val_score(voting_clf, X_train, y_train, cv=10, scoring=\"accuracy\")"
   ]
  },
  {
   "cell_type": "code",
   "execution_count": 284,
   "id": "2152cd50",
   "metadata": {},
   "outputs": [
    {
     "data": {
      "text/plain": [
       "0.9797326960000001"
      ]
     },
     "execution_count": 284,
     "metadata": {},
     "output_type": "execute_result"
    }
   ],
   "source": [
    "np.mean([0.98097826, 0.98369565, 0.96870748, 0.97687075, 0.97823129,\n",
    "       0.98503401, 0.98503401, 0.97687075, 0.9755102 , 0.98639456])"
   ]
  },
  {
   "cell_type": "markdown",
   "id": "e298d125",
   "metadata": {},
   "source": [
    "# Logistic Regression 사용\n"
   ]
  },
  {
   "cell_type": "markdown",
   "id": "dd3a2baa",
   "metadata": {},
   "source": [
    "### solver=\"lbfgs\" && multi_class=\"multinomial\", max_iter 값 작게 주면 에러"
   ]
  },
  {
   "cell_type": "code",
   "execution_count": 308,
   "id": "a03eadbe",
   "metadata": {},
   "outputs": [
    {
     "data": {
      "text/plain": [
       "array([0.99048913, 0.98641304, 0.97959184, 0.98639456, 0.98911565,\n",
       "       0.99591837, 0.98639456, 0.97959184, 0.99047619, 0.98231293])"
      ]
     },
     "execution_count": 308,
     "metadata": {},
     "output_type": "execute_result"
    }
   ],
   "source": [
    "softmax_reg = LogisticRegression(max_iter=5000, multi_class=\"multinomial\", solver=\"lbfgs\", C=10, random_state=42)\n",
    "softmax_reg.fit(X_train ,y_train)\n",
    "cross_val_score(softmax_reg, X_train, y_train, cv=10, scoring=\"accuracy\")"
   ]
  },
  {
   "cell_type": "code",
   "execution_count": 309,
   "id": "51ad937e",
   "metadata": {},
   "outputs": [
    {
     "data": {
      "text/plain": [
       "0.9866698110000002"
      ]
     },
     "execution_count": 309,
     "metadata": {},
     "output_type": "execute_result"
    }
   ],
   "source": [
    "np.mean([0.99048913, 0.98641304, 0.97959184, 0.98639456, 0.98911565,\n",
    "       0.99591837, 0.98639456, 0.97959184, 0.99047619, 0.98231293])"
   ]
  },
  {
   "cell_type": "markdown",
   "id": "131511e1",
   "metadata": {},
   "source": [
    "## solver=\"liblinear\"사용"
   ]
  },
  {
   "cell_type": "code",
   "execution_count": 316,
   "id": "2cea853e",
   "metadata": {},
   "outputs": [
    {
     "data": {
      "text/plain": [
       "array([0.98913043, 0.98777174, 0.98095238, 0.98503401, 0.99047619,\n",
       "       0.99455782, 0.9877551 , 0.98095238, 0.9877551 , 0.98367347])"
      ]
     },
     "execution_count": 316,
     "metadata": {},
     "output_type": "execute_result"
    }
   ],
   "source": [
    "log_clf_2 = LogisticRegression(solver=\"liblinear\", C=10, random_state=42)\n",
    "log_clf_2.fit(X_train, y_train)\n",
    "cross_val_score(log_clf_2, X_train, y_train, cv=10, scoring=\"accuracy\")"
   ]
  },
  {
   "cell_type": "markdown",
   "id": "bd8ddac0",
   "metadata": {},
   "source": [
    "### 최최종!!! LogisticRegression!!"
   ]
  },
  {
   "cell_type": "code",
   "execution_count": 317,
   "id": "f4998830",
   "metadata": {},
   "outputs": [
    {
     "data": {
      "text/plain": [
       "0.986805862"
      ]
     },
     "execution_count": 317,
     "metadata": {},
     "output_type": "execute_result"
    }
   ],
   "source": [
    "np.mean([0.98913043, 0.98777174, 0.98095238, 0.98503401, 0.99047619,\n",
    "       0.99455782, 0.9877551 , 0.98095238, 0.9877551 , 0.98367347])"
   ]
  },
  {
   "cell_type": "code",
   "execution_count": 318,
   "id": "6103ed0a",
   "metadata": {},
   "outputs": [
    {
     "data": {
      "text/plain": [
       "array([[1407,    0,    0,    0,    0,    0],\n",
       "       [   0, 1240,   45,    0,    0,    1],\n",
       "       [   0,   49, 1325,    0,    0,    0],\n",
       "       [   0,    0,    0, 1225,    0,    1],\n",
       "       [   0,    0,    0,    0,  986,    0],\n",
       "       [   0,    0,    0,    1,    0, 1072]], dtype=int64)"
      ]
     },
     "execution_count": 318,
     "metadata": {},
     "output_type": "execute_result"
    }
   ],
   "source": [
    "y_train_pred = cross_val_predict(log_clf_2, X_train, y_train, cv=10)\n",
    "from sklearn.metrics import confusion_matrix\n",
    "confusion_matrix(y_train, y_train_pred)"
   ]
  },
  {
   "cell_type": "markdown",
   "id": "f93643e8",
   "metadata": {},
   "source": [
    "# AdaBoost 사용 해보자\n"
   ]
  },
  {
   "cell_type": "code",
   "execution_count": 327,
   "id": "d347b500",
   "metadata": {},
   "outputs": [
    {
     "data": {
      "text/plain": [
       "AdaBoostClassifier(base_estimator=RandomForestClassifier(n_jobs=-1,\n",
       "                                                         random_state=42),\n",
       "                   learning_rate=0.01, random_state=42)"
      ]
     },
     "execution_count": 327,
     "metadata": {},
     "output_type": "execute_result"
    }
   ],
   "source": [
    "from sklearn.ensemble import AdaBoostClassifier\n",
    "ada_clf = AdaBoostClassifier(\n",
    "    RandomForestClassifier(n_jobs = -1, random_state = 42),\n",
    "    algorithm=\"SAMME.R\", learning_rate=0.01, random_state=42)\n",
    "ada_clf.fit(X_train, y_train)"
   ]
  },
  {
   "cell_type": "code",
   "execution_count": 328,
   "id": "b03a96b2",
   "metadata": {},
   "outputs": [
    {
     "data": {
      "text/plain": [
       "array([0.98097826, 0.98233696, 0.98639456, 0.97687075, 0.97142857,\n",
       "       0.98639456, 0.98095238, 0.97823129, 0.97959184, 0.98503401])"
      ]
     },
     "execution_count": 328,
     "metadata": {},
     "output_type": "execute_result"
    }
   ],
   "source": [
    "cross_val_score(ada_clf, X_train, y_train, cv=10, scoring=\"accuracy\")  # 버려 0.8나옴"
   ]
  },
  {
   "cell_type": "code",
   "execution_count": 329,
   "id": "3e3b15b1",
   "metadata": {},
   "outputs": [
    {
     "data": {
      "text/plain": [
       "0.9808213179999999"
      ]
     },
     "execution_count": 329,
     "metadata": {},
     "output_type": "execute_result"
    }
   ],
   "source": [
    "np.mean([0.98097826, 0.98233696, 0.98639456, 0.97687075, 0.97142857,\n",
    "       0.98639456, 0.98095238, 0.97823129, 0.97959184, 0.98503401])"
   ]
  },
  {
   "cell_type": "markdown",
   "id": "f98b98db",
   "metadata": {},
   "source": [
    "## Random Forest 2트"
   ]
  },
  {
   "cell_type": "code",
   "execution_count": 322,
   "id": "3e24e4f4",
   "metadata": {},
   "outputs": [
    {
     "data": {
      "text/plain": [
       "array([0.97961957, 0.98097826, 0.99183673, 0.97959184, 0.97687075,\n",
       "       0.98503401, 0.98231293, 0.98639456, 0.9877551 , 0.98231293])"
      ]
     },
     "execution_count": 322,
     "metadata": {},
     "output_type": "execute_result"
    }
   ],
   "source": [
    "from sklearn.ensemble import RandomForestClassifier\n",
    "rnd_clf = RandomForestClassifier(n_jobs = -1, random_state = 42)\n",
    "rnd_clf.fit(X_train, y_train)\n",
    "cross_val_score(rnd_clf, X_train, y_train, cv=10, scoring=\"accuracy\")"
   ]
  },
  {
   "cell_type": "code",
   "execution_count": 323,
   "id": "ab6484ec",
   "metadata": {},
   "outputs": [
    {
     "data": {
      "text/plain": [
       "0.9832706679999997"
      ]
     },
     "execution_count": 323,
     "metadata": {},
     "output_type": "execute_result"
    }
   ],
   "source": [
    "np.mean([0.97961957, 0.98097826, 0.99183673, 0.97959184, 0.97687075,\n",
    "       0.98503401, 0.98231293, 0.98639456, 0.9877551 , 0.98231293])"
   ]
  },
  {
   "cell_type": "markdown",
   "id": "5fbb2bb6",
   "metadata": {},
   "source": [
    "## Using Gradient Boosting이 가장 좋은 결과"
   ]
  },
  {
   "cell_type": "code",
   "execution_count": 331,
   "id": "42177bc4",
   "metadata": {},
   "outputs": [
    {
     "data": {
      "text/plain": [
       "array([0.99048913, 0.99184783, 0.99183673, 0.98503401, 0.99183673,\n",
       "       0.9877551 , 0.98639456, 0.98503401, 0.99455782, 0.9877551 ])"
      ]
     },
     "execution_count": 331,
     "metadata": {},
     "output_type": "execute_result"
    }
   ],
   "source": [
    "from sklearn.ensemble import GradientBoostingClassifier\n",
    "gbrt = GradientBoostingClassifier(random_state=42)  \n",
    "gbrt.fit(X_train, y_train)\n",
    "cross_val_score(gbrt, X_train, y_train, cv=10, scoring=\"accuracy\")"
   ]
  },
  {
   "cell_type": "code",
   "execution_count": 332,
   "id": "7d21eed4",
   "metadata": {},
   "outputs": [
    {
     "data": {
      "text/plain": [
       "0.989254102"
      ]
     },
     "execution_count": 332,
     "metadata": {},
     "output_type": "execute_result"
    }
   ],
   "source": [
    "np.mean([0.99048913, 0.99184783, 0.99183673, 0.98503401, 0.99183673,\n",
    "       0.9877551 , 0.98639456, 0.98503401, 0.99455782, 0.9877551 ])"
   ]
  },
  {
   "cell_type": "markdown",
   "id": "a57c760f",
   "metadata": {},
   "source": [
    "## GradientBoosting 오차행렬 결과"
   ]
  },
  {
   "cell_type": "code",
   "execution_count": 333,
   "id": "aa72f37e",
   "metadata": {},
   "outputs": [
    {
     "data": {
      "text/plain": [
       "array([[1406,    0,    0,    0,    1,    0],\n",
       "       [   0, 1249,   36,    0,    0,    1],\n",
       "       [   0,   30, 1344,    0,    0,    0],\n",
       "       [   0,    0,    0, 1219,    3,    4],\n",
       "       [   0,    0,    0,    1,  983,    2],\n",
       "       [   0,    0,    0,    1,    0, 1072]], dtype=int64)"
      ]
     },
     "execution_count": 333,
     "metadata": {},
     "output_type": "execute_result"
    }
   ],
   "source": [
    "from sklearn.metrics import confusion_matrix\n",
    "y_train_pred = cross_val_predict(gbrt, X_train, y_train, cv=10)\n",
    "confusion_matrix(y_train, y_train_pred)"
   ]
  },
  {
   "cell_type": "markdown",
   "id": "d8816e44",
   "metadata": {},
   "source": [
    "# 99%를 위한 노력. GridSearchCV"
   ]
  },
  {
   "cell_type": "code",
   "execution_count": 334,
   "id": "67fe5807",
   "metadata": {},
   "outputs": [],
   "source": [
    "from sklearn.model_selection import GridSearchCV\n",
    "\n",
    "params = {\n",
    "    'n_estimators': [100, 500, 100],\n",
    "    'learning_rate': [0.05, 0.1, 0.5],\n",
    "    'max_depth': [3, 5, 8]\n",
    "}\n",
    "\n",
    "gb_grid = GridSearchCV(gbrt, param_grid = params, cv=3, verbose = 1, n_jobs=-1)"
   ]
  },
  {
   "cell_type": "code",
   "execution_count": null,
   "id": "f9eaa08b",
   "metadata": {},
   "outputs": [
    {
     "name": "stdout",
     "output_type": "stream",
     "text": [
      "Fitting 3 folds for each of 27 candidates, totalling 81 fits\n"
     ]
    }
   ],
   "source": [
    "cross_val_score(gb_grid, X_train, y_train, cv=10, scoring=\"accuracy\")"
   ]
  },
  {
   "cell_type": "code",
   "execution_count": null,
   "id": "00fd3636",
   "metadata": {},
   "outputs": [],
   "source": [
    "gb_grid.fit(X_train, y_train)\n",
    "print(\"최적 하이퍼 파라미터\", gb_grid.best_params_)\n",
    "print(\"최고의 예측 정확도:\", gb_grid.best_score_)"
   ]
  }
 ],
 "metadata": {
  "kernelspec": {
   "display_name": "Python 3",
   "language": "python",
   "name": "python3"
  },
  "language_info": {
   "codemirror_mode": {
    "name": "ipython",
    "version": 3
   },
   "file_extension": ".py",
   "mimetype": "text/x-python",
   "name": "python",
   "nbconvert_exporter": "python",
   "pygments_lexer": "ipython3",
   "version": "3.8.8"
  }
 },
 "nbformat": 4,
 "nbformat_minor": 5
}
