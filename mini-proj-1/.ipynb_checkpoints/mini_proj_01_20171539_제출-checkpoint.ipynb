{
 "cells": [
  {
   "cell_type": "markdown",
   "id": "011405c5",
   "metadata": {},
   "source": [
    "# Handwritten Digit Classification"
   ]
  },
  {
   "cell_type": "code",
   "execution_count": 1,
   "id": "88754f0c",
   "metadata": {},
   "outputs": [],
   "source": [
    "import numpy as np\n",
    "import pandas as pd\n",
    "\n",
    "input_file = \"emnist-digits-train.csv\"\n",
    "df_train = pd.read_csv(input_file, header=None)"
   ]
  },
  {
   "cell_type": "code",
   "execution_count": 2,
   "id": "62c34f92",
   "metadata": {},
   "outputs": [
    {
     "data": {
      "text/plain": [
       "array([[8, 0, 0, ..., 0, 0, 0],\n",
       "       [9, 0, 0, ..., 0, 0, 0],\n",
       "       [6, 0, 0, ..., 0, 0, 0],\n",
       "       ...,\n",
       "       [1, 0, 0, ..., 0, 0, 0],\n",
       "       [1, 0, 0, ..., 0, 0, 0],\n",
       "       [0, 0, 0, ..., 0, 0, 0]], dtype=int64)"
      ]
     },
     "execution_count": 2,
     "metadata": {},
     "output_type": "execute_result"
    }
   ],
   "source": [
    "data_train = df_train.to_numpy()\n",
    "data_train"
   ]
  },
  {
   "cell_type": "code",
   "execution_count": 3,
   "id": "a588abd6",
   "metadata": {},
   "outputs": [
    {
     "data": {
      "text/plain": [
       "(240000, 785)"
      ]
     },
     "execution_count": 3,
     "metadata": {},
     "output_type": "execute_result"
    }
   ],
   "source": [
    "data_train.shape"
   ]
  },
  {
   "cell_type": "markdown",
   "id": "1d338729",
   "metadata": {},
   "source": [
    "## X_train과 y_train 분리"
   ]
  },
  {
   "cell_type": "markdown",
   "id": "6212e1b0",
   "metadata": {},
   "source": [
    "**X_train: 각 특성의 값**"
   ]
  },
  {
   "cell_type": "code",
   "execution_count": 5,
   "id": "1b1c39b9",
   "metadata": {},
   "outputs": [
    {
     "data": {
      "text/plain": [
       "array([[0, 0, 0, ..., 0, 0, 0],\n",
       "       [0, 0, 0, ..., 0, 0, 0],\n",
       "       [0, 0, 0, ..., 0, 0, 0],\n",
       "       ...,\n",
       "       [0, 0, 0, ..., 0, 0, 0],\n",
       "       [0, 0, 0, ..., 0, 0, 0],\n",
       "       [0, 0, 0, ..., 0, 0, 0]], dtype=int64)"
      ]
     },
     "execution_count": 5,
     "metadata": {},
     "output_type": "execute_result"
    }
   ],
   "source": [
    "X_train = data_train[:, 1:] # pixel 값\n",
    "X_train"
   ]
  },
  {
   "cell_type": "markdown",
   "id": "ae7d21f3",
   "metadata": {},
   "source": [
    "**y_train: 각 라벨 값**"
   ]
  },
  {
   "cell_type": "code",
   "execution_count": 6,
   "id": "fb3ea1e7",
   "metadata": {},
   "outputs": [
    {
     "data": {
      "text/plain": [
       "array([8, 9, 6, ..., 1, 1, 0], dtype=int64)"
      ]
     },
     "execution_count": 6,
     "metadata": {},
     "output_type": "execute_result"
    }
   ],
   "source": [
    "y_train = data_train[:, 0]\n",
    "y_train"
   ]
  },
  {
   "cell_type": "markdown",
   "id": "306dee17",
   "metadata": {},
   "source": [
    "# RandomForestClassifier 사용"
   ]
  },
  {
   "cell_type": "code",
   "execution_count": 12,
   "id": "688e03ec",
   "metadata": {},
   "outputs": [
    {
     "data": {
      "text/plain": [
       "RandomForestClassifier()"
      ]
     },
     "execution_count": 12,
     "metadata": {},
     "output_type": "execute_result"
    }
   ],
   "source": [
    "from sklearn.ensemble import RandomForestClassifier\n",
    "rf_clf = RandomForestClassifier(n_estimators=100)\n",
    "rf_clf.fit(X_train, y_train)"
   ]
  },
  {
   "cell_type": "markdown",
   "id": "0e1d6869",
   "metadata": {},
   "source": [
    "## 10-fold 교차 검증 수행"
   ]
  },
  {
   "cell_type": "code",
   "execution_count": 14,
   "id": "a896848d",
   "metadata": {},
   "outputs": [
    {
     "data": {
      "text/plain": [
       "array([0.9815    , 0.98058333, 0.98179167, 0.98170833, 0.98016667,\n",
       "       0.98158333, 0.98233333, 0.9815    , 0.98079167, 0.98116667])"
      ]
     },
     "execution_count": 14,
     "metadata": {},
     "output_type": "execute_result"
    }
   ],
   "source": [
    "from sklearn.model_selection import cross_val_score\n",
    "cross_val_score(rf_clf, X_train, y_train, cv=10, scoring=\"accuracy\")"
   ]
  },
  {
   "cell_type": "code",
   "execution_count": 15,
   "id": "078af24a",
   "metadata": {},
   "outputs": [
    {
     "data": {
      "text/plain": [
       "0.9813125000000001"
      ]
     },
     "execution_count": 15,
     "metadata": {},
     "output_type": "execute_result"
    }
   ],
   "source": [
    "np.mean([0.9815    , 0.98058333, 0.98179167, 0.98170833, 0.98016667,\n",
    "       0.98158333, 0.98233333, 0.9815    , 0.98079167, 0.98116667])"
   ]
  },
  {
   "cell_type": "markdown",
   "id": "a8c63823",
   "metadata": {},
   "source": [
    "# 10-CV Result:\n",
    "## Mean: 0.9813125000000001"
   ]
  },
  {
   "cell_type": "code",
   "execution_count": null,
   "id": "288c1454",
   "metadata": {},
   "outputs": [],
   "source": []
  }
 ],
 "metadata": {
  "kernelspec": {
   "display_name": "Python 3",
   "language": "python",
   "name": "python3"
  },
  "language_info": {
   "codemirror_mode": {
    "name": "ipython",
    "version": 3
   },
   "file_extension": ".py",
   "mimetype": "text/x-python",
   "name": "python",
   "nbconvert_exporter": "python",
   "pygments_lexer": "ipython3",
   "version": "3.8.8"
  }
 },
 "nbformat": 4,
 "nbformat_minor": 5
}
