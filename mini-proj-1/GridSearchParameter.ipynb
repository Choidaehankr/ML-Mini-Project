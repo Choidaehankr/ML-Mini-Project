{
 "cells": [
  {
   "cell_type": "code",
   "execution_count": 7,
   "id": "12abd7b0",
   "metadata": {},
   "outputs": [],
   "source": [
    "import numpy as np\n",
    "import pandas as pd\n",
    "\n",
    "from sklearn.datasets import fetch_openml\n",
    "mnist = fetch_openml('mnist_784', version=1, as_frame=False)"
   ]
  },
  {
   "cell_type": "code",
   "execution_count": 15,
   "id": "f8e67d61",
   "metadata": {},
   "outputs": [
    {
     "data": {
      "text/plain": [
       "(70000, 784)"
      ]
     },
     "execution_count": 15,
     "metadata": {},
     "output_type": "execute_result"
    }
   ],
   "source": [
    "X_train, y_train = mnist[\"data\"], mnist[\"target\"]\n",
    "X_train.shape"
   ]
  },
  {
   "cell_type": "code",
   "execution_count": 16,
   "id": "9d0fe070",
   "metadata": {},
   "outputs": [
    {
     "data": {
      "text/plain": [
       "array([[0., 0., 0., ..., 0., 0., 0.],\n",
       "       [0., 0., 0., ..., 0., 0., 0.],\n",
       "       [0., 0., 0., ..., 0., 0., 0.],\n",
       "       ...,\n",
       "       [0., 0., 0., ..., 0., 0., 0.],\n",
       "       [0., 0., 0., ..., 0., 0., 0.],\n",
       "       [0., 0., 0., ..., 0., 0., 0.]])"
      ]
     },
     "execution_count": 16,
     "metadata": {},
     "output_type": "execute_result"
    }
   ],
   "source": [
    "X_train"
   ]
  },
  {
   "cell_type": "code",
   "execution_count": 17,
   "id": "4c229dc0",
   "metadata": {},
   "outputs": [
    {
     "data": {
      "text/plain": [
       "array(['5', '0', '4', ..., '4', '5', '6'], dtype=object)"
      ]
     },
     "execution_count": 17,
     "metadata": {},
     "output_type": "execute_result"
    }
   ],
   "source": [
    "y_train"
   ]
  },
  {
   "cell_type": "code",
   "execution_count": 18,
   "id": "5ef9229c",
   "metadata": {},
   "outputs": [
    {
     "data": {
      "text/plain": [
       "SGDClassifier(max_iter=5, random_state=42, tol=-inf)"
      ]
     },
     "execution_count": 18,
     "metadata": {},
     "output_type": "execute_result"
    }
   ],
   "source": [
    "# SGDCLassifier 훈련시키기\n",
    "from sklearn.linear_model import SGDClassifier\n",
    "\n",
    "sgd_clf = SGDClassifier(max_iter=5, tol=-np.infty, random_state = 42)\n",
    "sgd_clf.fit(X_train, y_train)"
   ]
  },
  {
   "cell_type": "code",
   "execution_count": 19,
   "id": "02ed3285",
   "metadata": {},
   "outputs": [
    {
     "data": {
      "text/plain": [
       "array([0.87228571, 0.87757143, 0.87942857, 0.874     , 0.882     ,\n",
       "       0.87785714, 0.86885714, 0.852     , 0.86528571, 0.88714286])"
      ]
     },
     "execution_count": 19,
     "metadata": {},
     "output_type": "execute_result"
    }
   ],
   "source": [
    "# 10-fold 교차 검증\n",
    "from sklearn.model_selection import cross_val_score\n",
    "cross_val_score(sgd_clf, X_train, y_train, cv=10, scoring=\"accuracy\")"
   ]
  },
  {
   "cell_type": "code",
   "execution_count": 20,
   "id": "52764ef2",
   "metadata": {},
   "outputs": [
    {
     "data": {
      "text/plain": [
       "0.873642856"
      ]
     },
     "execution_count": 20,
     "metadata": {},
     "output_type": "execute_result"
    }
   ],
   "source": [
    "np.mean([0.87228571, 0.87757143, 0.87942857, 0.874     , 0.882     ,\n",
    "       0.87785714, 0.86885714, 0.852     , 0.86528571, 0.88714286])"
   ]
  },
  {
   "cell_type": "code",
   "execution_count": 34,
   "id": "319f74ab",
   "metadata": {},
   "outputs": [],
   "source": [
    "# USING RANDOM FOREST"
   ]
  },
  {
   "cell_type": "code",
   "execution_count": 23,
   "id": "d3f702fd",
   "metadata": {},
   "outputs": [],
   "source": [
    "from sklearn.ensemble import RandomForestClassifier\n",
    "rf_clf = RandomForestClassifier(n_estimators=100, random_state=42)"
   ]
  },
  {
   "cell_type": "code",
   "execution_count": 24,
   "id": "6104dceb",
   "metadata": {},
   "outputs": [
    {
     "data": {
      "text/plain": [
       "RandomForestClassifier(random_state=42)"
      ]
     },
     "execution_count": 24,
     "metadata": {},
     "output_type": "execute_result"
    }
   ],
   "source": [
    "rf_clf.fit(X_train, y_train)"
   ]
  },
  {
   "cell_type": "code",
   "execution_count": 25,
   "id": "b7f4604e",
   "metadata": {},
   "outputs": [
    {
     "data": {
      "text/plain": [
       "array([0.97185714, 0.96685714, 0.96985714, 0.96928571, 0.96571429,\n",
       "       0.96971429, 0.96485714, 0.96928571, 0.97085714, 0.97642857])"
      ]
     },
     "execution_count": 25,
     "metadata": {},
     "output_type": "execute_result"
    }
   ],
   "source": [
    "from sklearn.model_selection import cross_val_score\n",
    "cross_val_score(rf_clf, X_train, y_train, cv=10, scoring=\"accuracy\")"
   ]
  },
  {
   "cell_type": "code",
   "execution_count": 26,
   "id": "3c99ce8a",
   "metadata": {},
   "outputs": [
    {
     "data": {
      "text/plain": [
       "0.9694714269999999"
      ]
     },
     "execution_count": 26,
     "metadata": {},
     "output_type": "execute_result"
    }
   ],
   "source": [
    "np.mean([0.97185714, 0.96685714, 0.96985714, 0.96928571, 0.96571429,\n",
    "       0.96971429, 0.96485714, 0.96928571, 0.97085714, 0.97642857])  # n_estimantors=100 -> 0.969"
   ]
  },
  {
   "cell_type": "code",
   "execution_count": 27,
   "id": "f4c0f6d0",
   "metadata": {},
   "outputs": [
    {
     "data": {
      "text/plain": [
       "RandomForestClassifier(n_estimators=200, random_state=42)"
      ]
     },
     "execution_count": 27,
     "metadata": {},
     "output_type": "execute_result"
    }
   ],
   "source": [
    "from sklearn.ensemble import RandomForestClassifier\n",
    "rf_clf_2 = RandomForestClassifier(n_estimators=200, random_state=42)\n",
    "rf_clf_2.fit(X_train, y_train)"
   ]
  },
  {
   "cell_type": "code",
   "execution_count": 28,
   "id": "70ea71b4",
   "metadata": {},
   "outputs": [
    {
     "data": {
      "text/plain": [
       "array([0.97414286, 0.96757143, 0.971     , 0.96871429, 0.96757143,\n",
       "       0.971     , 0.96528571, 0.97014286, 0.971     , 0.97642857])"
      ]
     },
     "execution_count": 28,
     "metadata": {},
     "output_type": "execute_result"
    }
   ],
   "source": [
    "from sklearn.model_selection import cross_val_score\n",
    "cross_val_score(rf_clf_2, X_train, y_train, cv=10, scoring=\"accuracy\")"
   ]
  },
  {
   "cell_type": "code",
   "execution_count": 29,
   "id": "d11a751c",
   "metadata": {},
   "outputs": [
    {
     "data": {
      "text/plain": [
       "0.9702857149999999"
      ]
     },
     "execution_count": 29,
     "metadata": {},
     "output_type": "execute_result"
    }
   ],
   "source": [
    "np.mean([0.97414286, 0.96757143, 0.971     , 0.96871429, 0.96757143,\n",
    "       0.971     , 0.96528571, 0.97014286, 0.971     , 0.97642857])  #n_estimators=200 -> 0.970"
   ]
  },
  {
   "cell_type": "code",
   "execution_count": 33,
   "id": "721c165d",
   "metadata": {},
   "outputs": [
    {
     "name": "stdout",
     "output_type": "stream",
     "text": [
      "최적 하이퍼 파라미터:  {'max_depth': None, 'min_samples_leaf': 10, 'min_samples_split': 10, 'n_estimators': 500}\n",
      "최고 예측 정확도: 0.9553\n"
     ]
    }
   ],
   "source": [
    "from sklearn.model_selection import GridSearchCV\n",
    "\n",
    "params = { 'n_estimators': [500, 1000], \n",
    "            'max_depth': [None, 10, 15, 20, 30], \n",
    "            'min_samples_leaf': [10, 15, 20],\n",
    "            'min_samples_split': [10, 20, 30]}\n",
    "rf_clf_3 = RandomForestClassifier(random_state = 0, n_jobs = -1)\n",
    "grid_cv = GridSearchCV(rf_clf_3, param_grid=params, cv=3, n_jobs=-1) #cv 수정 필요.\n",
    "grid_cv.fit(X_train, y_train)\n",
    "print('최적 하이퍼 파라미터: ', grid_cv.best_params_)\n",
    "print('최고 예측 정확도: {:.4f}'.format(grid_cv.best_score_))"
   ]
  },
  {
   "cell_type": "code",
   "execution_count": 37,
   "id": "ec3fffd2",
   "metadata": {},
   "outputs": [
    {
     "data": {
      "text/plain": [
       "array([0.97414286, 0.96757143, 0.971     , 0.96871429, 0.96757143,\n",
       "       0.971     , 0.96528571, 0.97014286, 0.971     , 0.97642857])"
      ]
     },
     "execution_count": 37,
     "metadata": {},
     "output_type": "execute_result"
    }
   ],
   "source": [
    "rf_clf_3_2 = RandomForestClassifier(n_estimators = 200,\n",
    "                                 random_state = 42,\n",
    "                                 n_jobs = -1)\n",
    "rf_clf_3_2.fit(X_train, y_train)\n",
    "cross_val_score(rf_clf_3_2, X_train, y_train, cv=10, scoring=\"accuracy\")"
   ]
  },
  {
   "cell_type": "code",
   "execution_count": 38,
   "id": "5a2f7f0f",
   "metadata": {},
   "outputs": [
    {
     "data": {
      "text/plain": [
       "0.9702857149999999"
      ]
     },
     "execution_count": 38,
     "metadata": {},
     "output_type": "execute_result"
    }
   ],
   "source": [
    "np.mean([0.97414286, 0.96757143, 0.971     , 0.96871429, 0.96757143,\n",
    "       0.971     , 0.96528571, 0.97014286, 0.971     , 0.97642857])"
   ]
  },
  {
   "cell_type": "code",
   "execution_count": null,
   "id": "4e1264a9",
   "metadata": {},
   "outputs": [],
   "source": []
  }
 ],
 "metadata": {
  "kernelspec": {
   "display_name": "Python 3",
   "language": "python",
   "name": "python3"
  },
  "language_info": {
   "codemirror_mode": {
    "name": "ipython",
    "version": 3
   },
   "file_extension": ".py",
   "mimetype": "text/x-python",
   "name": "python",
   "nbconvert_exporter": "python",
   "pygments_lexer": "ipython3",
   "version": "3.8.8"
  }
 },
 "nbformat": 4,
 "nbformat_minor": 5
}
