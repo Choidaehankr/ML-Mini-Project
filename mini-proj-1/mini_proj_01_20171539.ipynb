{
 "cells": [
  {
   "cell_type": "markdown",
   "id": "011405c5",
   "metadata": {},
   "source": [
    "# Handwritten Digit Classification"
   ]
  },
  {
   "cell_type": "code",
   "execution_count": 1,
   "id": "88754f0c",
   "metadata": {},
   "outputs": [],
   "source": [
    "import numpy as np\n",
    "import pandas as pd\n",
    "\n",
    "input_file = \"emnist-digits-train.csv\"\n",
    "df_train = pd.read_csv(input_file, header=None)"
   ]
  },
  {
   "cell_type": "code",
   "execution_count": 2,
   "id": "62c34f92",
   "metadata": {},
   "outputs": [
    {
     "data": {
      "text/plain": [
       "array([[8, 0, 0, ..., 0, 0, 0],\n",
       "       [9, 0, 0, ..., 0, 0, 0],\n",
       "       [6, 0, 0, ..., 0, 0, 0],\n",
       "       ...,\n",
       "       [1, 0, 0, ..., 0, 0, 0],\n",
       "       [1, 0, 0, ..., 0, 0, 0],\n",
       "       [0, 0, 0, ..., 0, 0, 0]], dtype=int64)"
      ]
     },
     "execution_count": 2,
     "metadata": {},
     "output_type": "execute_result"
    }
   ],
   "source": [
    "data_train = df_train.to_numpy()\n",
    "data_train"
   ]
  },
  {
   "cell_type": "code",
   "execution_count": 3,
   "id": "a588abd6",
   "metadata": {},
   "outputs": [
    {
     "data": {
      "text/plain": [
       "(240000, 785)"
      ]
     },
     "execution_count": 3,
     "metadata": {},
     "output_type": "execute_result"
    }
   ],
   "source": [
    "data_train.shape"
   ]
  },
  {
   "cell_type": "markdown",
   "id": "1d338729",
   "metadata": {},
   "source": [
    "## X_train과 y_train 분리"
   ]
  },
  {
   "cell_type": "markdown",
   "id": "6212e1b0",
   "metadata": {},
   "source": [
    "**X_train: 각 특성의 값**"
   ]
  },
  {
   "cell_type": "code",
   "execution_count": 4,
   "id": "1b1c39b9",
   "metadata": {},
   "outputs": [
    {
     "data": {
      "text/plain": [
       "array([[0, 0, 0, ..., 0, 0, 0],\n",
       "       [0, 0, 0, ..., 0, 0, 0],\n",
       "       [0, 0, 0, ..., 0, 0, 0],\n",
       "       ...,\n",
       "       [0, 0, 0, ..., 0, 0, 0],\n",
       "       [0, 0, 0, ..., 0, 0, 0],\n",
       "       [0, 0, 0, ..., 0, 0, 0]], dtype=int64)"
      ]
     },
     "execution_count": 4,
     "metadata": {},
     "output_type": "execute_result"
    }
   ],
   "source": [
    "X_train = data_train[:, 1:] # pixel 값\n",
    "X_train"
   ]
  },
  {
   "cell_type": "markdown",
   "id": "ae7d21f3",
   "metadata": {},
   "source": [
    "**y_train: 각 라벨 값**"
   ]
  },
  {
   "cell_type": "code",
   "execution_count": 5,
   "id": "fb3ea1e7",
   "metadata": {},
   "outputs": [
    {
     "data": {
      "text/plain": [
       "array([8, 9, 6, ..., 1, 1, 0], dtype=int64)"
      ]
     },
     "execution_count": 5,
     "metadata": {},
     "output_type": "execute_result"
    }
   ],
   "source": [
    "y_train = data_train[:, 0]\n",
    "y_train"
   ]
  },
  {
   "cell_type": "markdown",
   "id": "819e685e",
   "metadata": {},
   "source": [
    "# ExtraTreesClassifier 사용"
   ]
  },
  {
   "cell_type": "code",
   "execution_count": 7,
   "id": "def7ecb0",
   "metadata": {},
   "outputs": [
    {
     "data": {
      "text/plain": [
       "ExtraTreesClassifier(random_state=42)"
      ]
     },
     "execution_count": 7,
     "metadata": {},
     "output_type": "execute_result"
    }
   ],
   "source": [
    "from sklearn.ensemble import ExtraTreesClassifier\n",
    "from sklearn.model_selection import cross_val_score\n",
    "\n",
    "ext_clf = ExtraTreesClassifier(random_state=42)\n",
    "ext_clf.fit(X_train, y_train)"
   ]
  },
  {
   "cell_type": "markdown",
   "id": "0e1d6869",
   "metadata": {},
   "source": [
    "## 10-fold 교차 검증 수행"
   ]
  },
  {
   "cell_type": "code",
   "execution_count": 8,
   "id": "3f657c2e",
   "metadata": {},
   "outputs": [
    {
     "data": {
      "text/plain": [
       "array([0.98308333, 0.981625  , 0.98266667, 0.98254167, 0.98183333,\n",
       "       0.98425   , 0.98375   , 0.98320833, 0.98158333, 0.98254167])"
      ]
     },
     "execution_count": 8,
     "metadata": {},
     "output_type": "execute_result"
    }
   ],
   "source": [
    "cross_val_score(ext_clf, X_train, y_train, cv=10, scoring=\"accuracy\")"
   ]
  },
  {
   "cell_type": "code",
   "execution_count": 9,
   "id": "2ea20ad8",
   "metadata": {},
   "outputs": [
    {
     "data": {
      "text/plain": [
       "0.9827083329999999"
      ]
     },
     "execution_count": 9,
     "metadata": {},
     "output_type": "execute_result"
    }
   ],
   "source": [
    "np.mean([0.98308333, 0.981625  , 0.98266667, 0.98254167, 0.98183333,\n",
    "       0.98425   , 0.98375   , 0.98320833, 0.98158333, 0.98254167])"
   ]
  },
  {
   "cell_type": "markdown",
   "id": "a8c63823",
   "metadata": {},
   "source": [
    "# 10-CV Result:\n",
    "## Mean: 0.9827083329999999"
   ]
  }
 ],
 "metadata": {
  "kernelspec": {
   "display_name": "Python 3",
   "language": "python",
   "name": "python3"
  },
  "language_info": {
   "codemirror_mode": {
    "name": "ipython",
    "version": 3
   },
   "file_extension": ".py",
   "mimetype": "text/x-python",
   "name": "python",
   "nbconvert_exporter": "python",
   "pygments_lexer": "ipython3",
   "version": "3.8.8"
  }
 },
 "nbformat": 4,
 "nbformat_minor": 5
}
